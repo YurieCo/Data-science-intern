{
  "nbformat": 4,
  "nbformat_minor": 0,
  "metadata": {
    "colab": {
      "name": "EDA_and_ML.ipynb",
      "version": "0.3.2",
      "provenance": [],
      "collapsed_sections": []
    },
    "kernelspec": {
      "display_name": "Python 3",
      "language": "python",
      "name": "python3"
    }
  },
  "cells": [
    {
      "metadata": {
        "_uuid": "4b828c46f913d3767c01de7e2d6192d5706e4619",
        "colab_type": "text",
        "id": "BGi45RunhgSq"
      },
      "cell_type": "markdown",
      "source": [
        "## Data Cleaning and Shape Examining \n"
      ]
    },
    {
      "metadata": {
        "id": "sH_vvOOZHcl9",
        "colab_type": "text"
      },
      "cell_type": "markdown",
      "source": [
        "## Home Depot Product Search Relevance\n",
        "\n"
      ]
    },
    {
      "metadata": {
        "_uuid": "2ad7ddccf61efdb2e9e7dd131aa7ae38f6dc6543",
        "colab_type": "code",
        "id": "a0Sqe1x7hjzu",
        "outputId": "40292f92-1cc4-45d7-8a8d-f150667641c0",
        "colab": {
          "base_uri": "https://localhost:8080/",
          "height": 150
        }
      },
      "cell_type": "code",
      "source": [
        "Shoppers rely on Home Depot’s product authority to find and buy the latest products and to get timely solutions to their home improvement needs. From installing a new ceiling fan to remodeling an entire kitchen, with the click of a mouse or tap of the screen, customers expect the correct results to their queries – quickly. Speed, accuracy and delivering a frictionless customer experience are essential.\n",
        "\n",
        "In this competition, Home Depot is asking Kagglers to help them improve their customers' shopping experience by developing a model that can accurately predict the relevance of search results.\n",
        "\n",
        "Search relevancy is an implicit measure Home Depot uses to gauge how quickly they can get customers to the right products. Currently, human raters evaluate the impact of potential changes to their search algorithms, which is a slow and subjective process. By removing or minimizing human input in search relevance evaluation, Home Depot hopes to increase the number of iterations their team can perform on the current search algorithms."
      ],
      "execution_count": 3,
      "outputs": [
        {
          "output_type": "error",
          "ename": "SyntaxError",
          "evalue": "ignored",
          "traceback": [
            "\u001b[0;36m  File \u001b[0;32m\"<ipython-input-3-c9938cf74363>\"\u001b[0;36m, line \u001b[0;32m1\u001b[0m\n\u001b[0;31m    Shoppers rely on Home Depot’s product authority to find and buy the latest products and to get timely solutions to their home improvement needs. From installing a new ceiling fan to remodeling an entire kitchen, with the click of a mouse or tap of the screen, customers expect the correct results to their queries – quickly. Speed, accuracy and delivering a frictionless customer experience are essential.\u001b[0m\n\u001b[0m                ^\u001b[0m\n\u001b[0;31mSyntaxError\u001b[0m\u001b[0;31m:\u001b[0m invalid syntax\n"
          ]
        }
      ]
    },
    {
      "metadata": {
        "id": "wX95bDscHhe1",
        "colab_type": "code",
        "colab": {
          "base_uri": "https://localhost:8080/",
          "height": 52
        },
        "outputId": "dc3da9da-3068-4455-f10e-b02a986bfa1b"
      },
      "cell_type": "code",
      "source": [
        "import os\n",
        "from getpass import getpass\n",
        "user = getpass('Kaggle Username: ')\n",
        "key = getpass('Kaggle API key: ')\n",
        "\n",
        "if '.kaggle' not in os.listdir('/root'):\n",
        "    !mkdir ~/.kaggle\n",
        "!touch /root/.kaggle/kaggle.json\n",
        "!chmod 666 /root/.kaggle/kaggle.json\n",
        "with open('/root/.kaggle/kaggle.json', 'w') as f:\n",
        "    f.write('{\"username\":\"%s\",\"key\":\"%s\"}' % (user, key))\n",
        "!chmod 600 /root/.kaggle/kaggle.json"
      ],
      "execution_count": 1,
      "outputs": [
        {
          "output_type": "stream",
          "text": [
            "Kaggle Username: ··········\n",
            "Kaggle API key: ··········\n"
          ],
          "name": "stdout"
        }
      ]
    },
    {
      "metadata": {
        "id": "FixwdqTrH2j5",
        "colab_type": "code",
        "colab": {
          "base_uri": "https://localhost:8080/",
          "height": 121
        },
        "outputId": "f5fc60e4-87f0-44b3-b435-9f4340be627e"
      },
      "cell_type": "code",
      "source": [
        "# download the dataset for this competition\n",
        "!kaggle competitions download -c home-depot-product-search-relevance"
      ],
      "execution_count": 2,
      "outputs": [
        {
          "output_type": "stream",
          "text": [
            "sample_submission.csv.zip: Skipping, found more recently modified local copy (use --force to force download)\n",
            "train.csv.zip: Skipping, found more recently modified local copy (use --force to force download)\n",
            "test.csv.zip: Skipping, found more recently modified local copy (use --force to force download)\n",
            "product_descriptions.csv.zip: Skipping, found more recently modified local copy (use --force to force download)\n",
            "attributes.csv.zip: Skipping, found more recently modified local copy (use --force to force download)\n",
            "relevance_instructions.docx: Skipping, found more recently modified local copy (use --force to force download)\n"
          ],
          "name": "stdout"
        }
      ]
    },
    {
      "metadata": {
        "id": "OhO5079sHok9",
        "colab_type": "code",
        "colab": {}
      },
      "cell_type": "code",
      "source": [
        ""
      ],
      "execution_count": 0,
      "outputs": []
    },
    {
      "metadata": {
        "id": "xmN3LO3nHcmL",
        "colab_type": "text"
      },
      "cell_type": "markdown",
      "source": [
        "### Data description"
      ]
    },
    {
      "metadata": {
        "id": "40xb5NaTHcmO",
        "colab_type": "text"
      },
      "cell_type": "markdown",
      "source": [
        "This data set contains a number of products and real customer search terms from Home Depot's website. The challenge is to predict a relevance score for the provided combinations of search terms and products. To create the ground truth labels, Home Depot has crowdsourced the search/product pairs to multiple human raters.\n",
        "\n",
        "The relevance is a number between 1 (not relevant) to 3 (highly relevant). For example, a search for \"AA battery\" would be considered highly relevant to a pack of size AA batteries (relevance = 3), mildly relevant to a cordless drill battery (relevance = 2), and not relevant to a snow shovel (relevance = 1).\n",
        "\n",
        "Each pair was evaluated by at least three human raters. The provided relevance scores are the average value of the ratings. There are three additional things to know about the ratings:\n",
        "\n",
        "The specific instructions given to the raters is provided in relevance_instructions.docx.\n",
        "Raters did not have access to the attributes.\n",
        "Raters had access to product images, while the competition does not include images.\n",
        "Your task is to predict the relevance for each pair listed in the test set. Note that the test set contains both seen and unseen search terms.\n",
        "\n"
      ]
    },
    {
      "metadata": {
        "id": "KqQFDvOpHcmQ",
        "colab_type": "text"
      },
      "cell_type": "markdown",
      "source": [
        "### File descriptions\n",
        "\n",
        "- train.csv - the training set, contains products, searches, and relevance scores\n",
        "- test.csv - the test set, contains products and searches. You must predict the relevance for these pairs.\n",
        "- product_descriptions.csv - contains a text description of each product. You may join this table to the training or test set via the product_uid.\n",
        "- attributes.csv -  provides extended information about a subset of the products (typically representing detailed technical specifications). Not every product will have attributes.\n",
        "- sample_submission.csv - a file showing the correct submission format\n",
        "- relevance_instructions.docx - the instructions provided to human raters\n",
        "\n",
        "### Data fields\n",
        "\n",
        "- id - a unique Id field which represents a (search_term, product_uid) pair\n",
        "- product_uid - an id for the products\n",
        "- product_title - the product title\n",
        "- product_description - the text description of the product (may contain HTML content)\n",
        "- search_term - the search query\n",
        "- relevance - the average of the relevance ratings for a given id\n",
        "- name - an attribute name\n",
        "- value - the attribute's value"
      ]
    },
    {
      "metadata": {
        "_uuid": "1720d9873a1549cd29ce34e9c821ca3628dfd3fe",
        "colab_type": "code",
        "id": "nqvGk3kkhgSv",
        "colab": {}
      },
      "cell_type": "code",
      "source": [
        "import numpy as np\n",
        "import pandas as pd\n",
        "from sklearn.ensemble import RandomForestRegressor, BaggingRegressor\n",
        "from nltk.stem.snowball import SnowballStemmer\n",
        "\n",
        "stemmer = SnowballStemmer('english')\n",
        "\n",
        "training_data = pd.read_csv(\"/content/train.csv.zip\", encoding=\"ISO-8859-1\")\n",
        "testing_data = pd.read_csv(\"/content/test.csv.zip\", encoding=\"ISO-8859-1\")\n",
        "attribute_data = pd.read_csv('/content/attributes.csv.zip')\n",
        "descriptions = pd.read_csv('/content/product_descriptions.csv.zip')\n",
        "\n"
      ],
      "execution_count": 0,
      "outputs": []
    },
    {
      "metadata": {
        "id": "eZLwY1wHHcmc",
        "colab_type": "text"
      },
      "cell_type": "markdown",
      "source": [
        "Let's try to examing the data and try to spot if there are anything suspicious about it"
      ]
    },
    {
      "metadata": {
        "_uuid": "7f54e9a8f8cc18605e917d47aca6feebfb97b151",
        "colab_type": "code",
        "id": "78PcQC__hgS4",
        "outputId": "00300749-017a-42a6-960d-86dba6206843",
        "colab": {
          "base_uri": "https://localhost:8080/",
          "height": 86
        }
      },
      "cell_type": "code",
      "source": [
        "print(\"training data shape is:\",training_data.shape)\n",
        "print(\"testing data shape is:\",testing_data.shape)\n",
        "print(\"attribute data shape is:\",attribute_data.shape)\n",
        "print(\"description data shape is:\",descriptions.shape)"
      ],
      "execution_count": 6,
      "outputs": [
        {
          "output_type": "stream",
          "text": [
            "training data shape is: (74067, 5)\n",
            "testing data shape is: (166693, 4)\n",
            "attribute data shape is: (2044803, 3)\n",
            "description data shape is: (124428, 2)\n"
          ],
          "name": "stdout"
        }
      ]
    },
    {
      "metadata": {
        "id": "M6RjYOU9Hcms",
        "colab_type": "code",
        "colab": {
          "base_uri": "https://localhost:8080/",
          "height": 86
        },
        "outputId": "644eb0c1-9aeb-45f0-a264-9b1505f1a12e"
      },
      "cell_type": "code",
      "source": [
        "print(\"training data has empty values:\",training_data.isnull().values.any())\n",
        "print(\"testing data has empty values:\",testing_data.isnull().values.any())\n",
        "print(\"attribute data has empty values:\",attribute_data.isnull().values.any())\n",
        "print(\"description data has empty values:\",descriptions.isnull().values.any())"
      ],
      "execution_count": 7,
      "outputs": [
        {
          "output_type": "stream",
          "text": [
            "training data has empty values: False\n",
            "testing data has empty values: False\n",
            "attribute data has empty values: True\n",
            "description data has empty values: False\n"
          ],
          "name": "stdout"
        }
      ]
    },
    {
      "metadata": {
        "id": "l7chMc-6Hcm6",
        "colab_type": "code",
        "colab": {
          "base_uri": "https://localhost:8080/",
          "height": 363
        },
        "outputId": "74adffb3-815e-4c60-a3f3-57cdbd0e720d"
      },
      "cell_type": "code",
      "source": [
        "training_data.head(10)"
      ],
      "execution_count": 8,
      "outputs": [
        {
          "output_type": "execute_result",
          "data": {
            "text/html": [
              "<div>\n",
              "<style scoped>\n",
              "    .dataframe tbody tr th:only-of-type {\n",
              "        vertical-align: middle;\n",
              "    }\n",
              "\n",
              "    .dataframe tbody tr th {\n",
              "        vertical-align: top;\n",
              "    }\n",
              "\n",
              "    .dataframe thead th {\n",
              "        text-align: right;\n",
              "    }\n",
              "</style>\n",
              "<table border=\"1\" class=\"dataframe\">\n",
              "  <thead>\n",
              "    <tr style=\"text-align: right;\">\n",
              "      <th></th>\n",
              "      <th>id</th>\n",
              "      <th>product_uid</th>\n",
              "      <th>product_title</th>\n",
              "      <th>search_term</th>\n",
              "      <th>relevance</th>\n",
              "    </tr>\n",
              "  </thead>\n",
              "  <tbody>\n",
              "    <tr>\n",
              "      <th>0</th>\n",
              "      <td>2</td>\n",
              "      <td>100001</td>\n",
              "      <td>Simpson Strong-Tie 12-Gauge Angle</td>\n",
              "      <td>angle bracket</td>\n",
              "      <td>3.00</td>\n",
              "    </tr>\n",
              "    <tr>\n",
              "      <th>1</th>\n",
              "      <td>3</td>\n",
              "      <td>100001</td>\n",
              "      <td>Simpson Strong-Tie 12-Gauge Angle</td>\n",
              "      <td>l bracket</td>\n",
              "      <td>2.50</td>\n",
              "    </tr>\n",
              "    <tr>\n",
              "      <th>2</th>\n",
              "      <td>9</td>\n",
              "      <td>100002</td>\n",
              "      <td>BEHR Premium Textured DeckOver 1-gal. #SC-141 ...</td>\n",
              "      <td>deck over</td>\n",
              "      <td>3.00</td>\n",
              "    </tr>\n",
              "    <tr>\n",
              "      <th>3</th>\n",
              "      <td>16</td>\n",
              "      <td>100005</td>\n",
              "      <td>Delta Vero 1-Handle Shower Only Faucet Trim Ki...</td>\n",
              "      <td>rain shower head</td>\n",
              "      <td>2.33</td>\n",
              "    </tr>\n",
              "    <tr>\n",
              "      <th>4</th>\n",
              "      <td>17</td>\n",
              "      <td>100005</td>\n",
              "      <td>Delta Vero 1-Handle Shower Only Faucet Trim Ki...</td>\n",
              "      <td>shower only faucet</td>\n",
              "      <td>2.67</td>\n",
              "    </tr>\n",
              "    <tr>\n",
              "      <th>5</th>\n",
              "      <td>18</td>\n",
              "      <td>100006</td>\n",
              "      <td>Whirlpool 1.9 cu. ft. Over the Range Convectio...</td>\n",
              "      <td>convection otr</td>\n",
              "      <td>3.00</td>\n",
              "    </tr>\n",
              "    <tr>\n",
              "      <th>6</th>\n",
              "      <td>20</td>\n",
              "      <td>100006</td>\n",
              "      <td>Whirlpool 1.9 cu. ft. Over the Range Convectio...</td>\n",
              "      <td>microwave over stove</td>\n",
              "      <td>2.67</td>\n",
              "    </tr>\n",
              "    <tr>\n",
              "      <th>7</th>\n",
              "      <td>21</td>\n",
              "      <td>100006</td>\n",
              "      <td>Whirlpool 1.9 cu. ft. Over the Range Convectio...</td>\n",
              "      <td>microwaves</td>\n",
              "      <td>3.00</td>\n",
              "    </tr>\n",
              "    <tr>\n",
              "      <th>8</th>\n",
              "      <td>23</td>\n",
              "      <td>100007</td>\n",
              "      <td>Lithonia Lighting Quantum 2-Light Black LED Em...</td>\n",
              "      <td>emergency light</td>\n",
              "      <td>2.67</td>\n",
              "    </tr>\n",
              "    <tr>\n",
              "      <th>9</th>\n",
              "      <td>27</td>\n",
              "      <td>100009</td>\n",
              "      <td>House of Fara 3/4 in. x 3 in. x 8 ft. MDF Flut...</td>\n",
              "      <td>mdf 3/4</td>\n",
              "      <td>3.00</td>\n",
              "    </tr>\n",
              "  </tbody>\n",
              "</table>\n",
              "</div>"
            ],
            "text/plain": [
              "   id  product_uid                                      product_title  \\\n",
              "0   2       100001                  Simpson Strong-Tie 12-Gauge Angle   \n",
              "1   3       100001                  Simpson Strong-Tie 12-Gauge Angle   \n",
              "2   9       100002  BEHR Premium Textured DeckOver 1-gal. #SC-141 ...   \n",
              "3  16       100005  Delta Vero 1-Handle Shower Only Faucet Trim Ki...   \n",
              "4  17       100005  Delta Vero 1-Handle Shower Only Faucet Trim Ki...   \n",
              "5  18       100006  Whirlpool 1.9 cu. ft. Over the Range Convectio...   \n",
              "6  20       100006  Whirlpool 1.9 cu. ft. Over the Range Convectio...   \n",
              "7  21       100006  Whirlpool 1.9 cu. ft. Over the Range Convectio...   \n",
              "8  23       100007  Lithonia Lighting Quantum 2-Light Black LED Em...   \n",
              "9  27       100009  House of Fara 3/4 in. x 3 in. x 8 ft. MDF Flut...   \n",
              "\n",
              "            search_term  relevance  \n",
              "0         angle bracket       3.00  \n",
              "1             l bracket       2.50  \n",
              "2             deck over       3.00  \n",
              "3      rain shower head       2.33  \n",
              "4    shower only faucet       2.67  \n",
              "5        convection otr       3.00  \n",
              "6  microwave over stove       2.67  \n",
              "7            microwaves       3.00  \n",
              "8       emergency light       2.67  \n",
              "9               mdf 3/4       3.00  "
            ]
          },
          "metadata": {
            "tags": []
          },
          "execution_count": 8
        }
      ]
    },
    {
      "metadata": {
        "id": "mX9ZzjPkHcnK",
        "colab_type": "code",
        "colab": {
          "base_uri": "https://localhost:8080/",
          "height": 69
        },
        "outputId": "a1c8c6fe-73f5-43aa-9542-d0bb1c80d2f8"
      },
      "cell_type": "code",
      "source": [
        "print(\"there are in total {} products \".format(len(training_data.product_title.unique())))\n",
        "print(\"there are in total {} search query \".format(len(training_data.search_term.unique())))\n",
        "print(\"there are in total {} product_uid\".format(len(training_data.product_uid.unique())))\n",
        "\n",
        "\n"
      ],
      "execution_count": 9,
      "outputs": [
        {
          "output_type": "stream",
          "text": [
            "there are in total 53489 products \n",
            "there are in total 11795 search query \n",
            "there are in total 54667 product_uid\n"
          ],
          "name": "stdout"
        }
      ]
    },
    {
      "metadata": {
        "id": "-BpQLprPHcne",
        "colab_type": "code",
        "colab": {
          "base_uri": "https://localhost:8080/",
          "height": 363
        },
        "outputId": "064e8073-18fc-4230-f785-6463cebf0e6d"
      },
      "cell_type": "code",
      "source": [
        "testing_data.head(10)"
      ],
      "execution_count": 10,
      "outputs": [
        {
          "output_type": "execute_result",
          "data": {
            "text/html": [
              "<div>\n",
              "<style scoped>\n",
              "    .dataframe tbody tr th:only-of-type {\n",
              "        vertical-align: middle;\n",
              "    }\n",
              "\n",
              "    .dataframe tbody tr th {\n",
              "        vertical-align: top;\n",
              "    }\n",
              "\n",
              "    .dataframe thead th {\n",
              "        text-align: right;\n",
              "    }\n",
              "</style>\n",
              "<table border=\"1\" class=\"dataframe\">\n",
              "  <thead>\n",
              "    <tr style=\"text-align: right;\">\n",
              "      <th></th>\n",
              "      <th>id</th>\n",
              "      <th>product_uid</th>\n",
              "      <th>product_title</th>\n",
              "      <th>search_term</th>\n",
              "    </tr>\n",
              "  </thead>\n",
              "  <tbody>\n",
              "    <tr>\n",
              "      <th>0</th>\n",
              "      <td>1</td>\n",
              "      <td>100001</td>\n",
              "      <td>Simpson Strong-Tie 12-Gauge Angle</td>\n",
              "      <td>90 degree bracket</td>\n",
              "    </tr>\n",
              "    <tr>\n",
              "      <th>1</th>\n",
              "      <td>4</td>\n",
              "      <td>100001</td>\n",
              "      <td>Simpson Strong-Tie 12-Gauge Angle</td>\n",
              "      <td>metal l brackets</td>\n",
              "    </tr>\n",
              "    <tr>\n",
              "      <th>2</th>\n",
              "      <td>5</td>\n",
              "      <td>100001</td>\n",
              "      <td>Simpson Strong-Tie 12-Gauge Angle</td>\n",
              "      <td>simpson sku able</td>\n",
              "    </tr>\n",
              "    <tr>\n",
              "      <th>3</th>\n",
              "      <td>6</td>\n",
              "      <td>100001</td>\n",
              "      <td>Simpson Strong-Tie 12-Gauge Angle</td>\n",
              "      <td>simpson strong  ties</td>\n",
              "    </tr>\n",
              "    <tr>\n",
              "      <th>4</th>\n",
              "      <td>7</td>\n",
              "      <td>100001</td>\n",
              "      <td>Simpson Strong-Tie 12-Gauge Angle</td>\n",
              "      <td>simpson strong tie hcc668</td>\n",
              "    </tr>\n",
              "    <tr>\n",
              "      <th>5</th>\n",
              "      <td>8</td>\n",
              "      <td>100001</td>\n",
              "      <td>Simpson Strong-Tie 12-Gauge Angle</td>\n",
              "      <td>wood connectors</td>\n",
              "    </tr>\n",
              "    <tr>\n",
              "      <th>6</th>\n",
              "      <td>10</td>\n",
              "      <td>100003</td>\n",
              "      <td>STERLING Ensemble 33-1/4 in. x 60 in. x 75-1/4...</td>\n",
              "      <td>bath and shower kit</td>\n",
              "    </tr>\n",
              "    <tr>\n",
              "      <th>7</th>\n",
              "      <td>11</td>\n",
              "      <td>100003</td>\n",
              "      <td>STERLING Ensemble 33-1/4 in. x 60 in. x 75-1/4...</td>\n",
              "      <td>bath drain kit</td>\n",
              "    </tr>\n",
              "    <tr>\n",
              "      <th>8</th>\n",
              "      <td>12</td>\n",
              "      <td>100003</td>\n",
              "      <td>STERLING Ensemble 33-1/4 in. x 60 in. x 75-1/4...</td>\n",
              "      <td>one piece tub shower</td>\n",
              "    </tr>\n",
              "    <tr>\n",
              "      <th>9</th>\n",
              "      <td>13</td>\n",
              "      <td>100004</td>\n",
              "      <td>Grape Solar 265-Watt Polycrystalline Solar Pan...</td>\n",
              "      <td>solar panel</td>\n",
              "    </tr>\n",
              "  </tbody>\n",
              "</table>\n",
              "</div>"
            ],
            "text/plain": [
              "   id  product_uid                                      product_title  \\\n",
              "0   1       100001                  Simpson Strong-Tie 12-Gauge Angle   \n",
              "1   4       100001                  Simpson Strong-Tie 12-Gauge Angle   \n",
              "2   5       100001                  Simpson Strong-Tie 12-Gauge Angle   \n",
              "3   6       100001                  Simpson Strong-Tie 12-Gauge Angle   \n",
              "4   7       100001                  Simpson Strong-Tie 12-Gauge Angle   \n",
              "5   8       100001                  Simpson Strong-Tie 12-Gauge Angle   \n",
              "6  10       100003  STERLING Ensemble 33-1/4 in. x 60 in. x 75-1/4...   \n",
              "7  11       100003  STERLING Ensemble 33-1/4 in. x 60 in. x 75-1/4...   \n",
              "8  12       100003  STERLING Ensemble 33-1/4 in. x 60 in. x 75-1/4...   \n",
              "9  13       100004  Grape Solar 265-Watt Polycrystalline Solar Pan...   \n",
              "\n",
              "                 search_term  \n",
              "0          90 degree bracket  \n",
              "1           metal l brackets  \n",
              "2           simpson sku able  \n",
              "3       simpson strong  ties  \n",
              "4  simpson strong tie hcc668  \n",
              "5            wood connectors  \n",
              "6        bath and shower kit  \n",
              "7             bath drain kit  \n",
              "8       one piece tub shower  \n",
              "9                solar panel  "
            ]
          },
          "metadata": {
            "tags": []
          },
          "execution_count": 10
        }
      ]
    },
    {
      "metadata": {
        "id": "rWe0pYgYHcnq",
        "colab_type": "code",
        "colab": {
          "base_uri": "https://localhost:8080/",
          "height": 69
        },
        "outputId": "102188d2-9205-4d53-b42d-66934a854394"
      },
      "cell_type": "code",
      "source": [
        "print(\"there are in total {} products \".format(len(testing_data.product_title.unique())))\n",
        "print(\"there are in total {} search query \".format(len(testing_data.search_term.unique())))\n",
        "print(\"there are in total {} product_uid\".format(len(testing_data.product_uid.unique())))\n",
        "\n",
        "\n",
        "\n"
      ],
      "execution_count": 11,
      "outputs": [
        {
          "output_type": "stream",
          "text": [
            "there are in total 94731 products \n",
            "there are in total 22427 search query \n",
            "there are in total 97460 product_uid\n"
          ],
          "name": "stdout"
        }
      ]
    },
    {
      "metadata": {
        "id": "MFKx65VnHcnw",
        "colab_type": "code",
        "colab": {
          "base_uri": "https://localhost:8080/",
          "height": 363
        },
        "outputId": "1e85efaa-fc35-486c-d035-5cb72e7aecb4"
      },
      "cell_type": "code",
      "source": [
        "attribute_data.head(10)"
      ],
      "execution_count": 12,
      "outputs": [
        {
          "output_type": "execute_result",
          "data": {
            "text/html": [
              "<div>\n",
              "<style scoped>\n",
              "    .dataframe tbody tr th:only-of-type {\n",
              "        vertical-align: middle;\n",
              "    }\n",
              "\n",
              "    .dataframe tbody tr th {\n",
              "        vertical-align: top;\n",
              "    }\n",
              "\n",
              "    .dataframe thead th {\n",
              "        text-align: right;\n",
              "    }\n",
              "</style>\n",
              "<table border=\"1\" class=\"dataframe\">\n",
              "  <thead>\n",
              "    <tr style=\"text-align: right;\">\n",
              "      <th></th>\n",
              "      <th>product_uid</th>\n",
              "      <th>name</th>\n",
              "      <th>value</th>\n",
              "    </tr>\n",
              "  </thead>\n",
              "  <tbody>\n",
              "    <tr>\n",
              "      <th>0</th>\n",
              "      <td>100001.0</td>\n",
              "      <td>Bullet01</td>\n",
              "      <td>Versatile connector for various 90° connection...</td>\n",
              "    </tr>\n",
              "    <tr>\n",
              "      <th>1</th>\n",
              "      <td>100001.0</td>\n",
              "      <td>Bullet02</td>\n",
              "      <td>Stronger than angled nailing or screw fastenin...</td>\n",
              "    </tr>\n",
              "    <tr>\n",
              "      <th>2</th>\n",
              "      <td>100001.0</td>\n",
              "      <td>Bullet03</td>\n",
              "      <td>Help ensure joints are consistently straight a...</td>\n",
              "    </tr>\n",
              "    <tr>\n",
              "      <th>3</th>\n",
              "      <td>100001.0</td>\n",
              "      <td>Bullet04</td>\n",
              "      <td>Dimensions: 3 in. x 3 in. x 1-1/2 in.</td>\n",
              "    </tr>\n",
              "    <tr>\n",
              "      <th>4</th>\n",
              "      <td>100001.0</td>\n",
              "      <td>Bullet05</td>\n",
              "      <td>Made from 12-Gauge steel</td>\n",
              "    </tr>\n",
              "    <tr>\n",
              "      <th>5</th>\n",
              "      <td>100001.0</td>\n",
              "      <td>Bullet06</td>\n",
              "      <td>Galvanized for extra corrosion resistance</td>\n",
              "    </tr>\n",
              "    <tr>\n",
              "      <th>6</th>\n",
              "      <td>100001.0</td>\n",
              "      <td>Bullet07</td>\n",
              "      <td>Install with 10d common nails or #9 x 1-1/2 in...</td>\n",
              "    </tr>\n",
              "    <tr>\n",
              "      <th>7</th>\n",
              "      <td>100001.0</td>\n",
              "      <td>Gauge</td>\n",
              "      <td>12</td>\n",
              "    </tr>\n",
              "    <tr>\n",
              "      <th>8</th>\n",
              "      <td>100001.0</td>\n",
              "      <td>Material</td>\n",
              "      <td>Galvanized Steel</td>\n",
              "    </tr>\n",
              "    <tr>\n",
              "      <th>9</th>\n",
              "      <td>100001.0</td>\n",
              "      <td>MFG Brand Name</td>\n",
              "      <td>Simpson Strong-Tie</td>\n",
              "    </tr>\n",
              "  </tbody>\n",
              "</table>\n",
              "</div>"
            ],
            "text/plain": [
              "   product_uid            name  \\\n",
              "0     100001.0        Bullet01   \n",
              "1     100001.0        Bullet02   \n",
              "2     100001.0        Bullet03   \n",
              "3     100001.0        Bullet04   \n",
              "4     100001.0        Bullet05   \n",
              "5     100001.0        Bullet06   \n",
              "6     100001.0        Bullet07   \n",
              "7     100001.0           Gauge   \n",
              "8     100001.0        Material   \n",
              "9     100001.0  MFG Brand Name   \n",
              "\n",
              "                                               value  \n",
              "0  Versatile connector for various 90° connection...  \n",
              "1  Stronger than angled nailing or screw fastenin...  \n",
              "2  Help ensure joints are consistently straight a...  \n",
              "3              Dimensions: 3 in. x 3 in. x 1-1/2 in.  \n",
              "4                           Made from 12-Gauge steel  \n",
              "5          Galvanized for extra corrosion resistance  \n",
              "6  Install with 10d common nails or #9 x 1-1/2 in...  \n",
              "7                                                 12  \n",
              "8                                   Galvanized Steel  \n",
              "9                                 Simpson Strong-Tie  "
            ]
          },
          "metadata": {
            "tags": []
          },
          "execution_count": 12
        }
      ]
    },
    {
      "metadata": {
        "id": "-QISvCQfHcn4",
        "colab_type": "code",
        "colab": {
          "base_uri": "https://localhost:8080/",
          "height": 69
        },
        "outputId": "f2345b96-7dee-450e-c803-00273e3e253a"
      },
      "cell_type": "code",
      "source": [
        "print(\"there are in total {} product_uid \".format(len(attribute_data.product_uid.unique())))\n",
        "print(\"there are in total {} names \".format(len(attribute_data.name.unique())))\n",
        "print(\"there are in total {} values\".format(len(attribute_data.value.unique())))\n",
        "\n",
        "\n",
        "\n",
        "\n"
      ],
      "execution_count": 13,
      "outputs": [
        {
          "output_type": "stream",
          "text": [
            "there are in total 86264 product_uid \n",
            "there are in total 5411 names \n",
            "there are in total 307588 values\n"
          ],
          "name": "stdout"
        }
      ]
    },
    {
      "metadata": {
        "id": "5FP1wEC_HcoC",
        "colab_type": "code",
        "colab": {
          "base_uri": "https://localhost:8080/",
          "height": 363
        },
        "outputId": "51446964-d7fe-43ef-8101-8d893664319c"
      },
      "cell_type": "code",
      "source": [
        "descriptions.head(10)"
      ],
      "execution_count": 14,
      "outputs": [
        {
          "output_type": "execute_result",
          "data": {
            "text/html": [
              "<div>\n",
              "<style scoped>\n",
              "    .dataframe tbody tr th:only-of-type {\n",
              "        vertical-align: middle;\n",
              "    }\n",
              "\n",
              "    .dataframe tbody tr th {\n",
              "        vertical-align: top;\n",
              "    }\n",
              "\n",
              "    .dataframe thead th {\n",
              "        text-align: right;\n",
              "    }\n",
              "</style>\n",
              "<table border=\"1\" class=\"dataframe\">\n",
              "  <thead>\n",
              "    <tr style=\"text-align: right;\">\n",
              "      <th></th>\n",
              "      <th>product_uid</th>\n",
              "      <th>product_description</th>\n",
              "    </tr>\n",
              "  </thead>\n",
              "  <tbody>\n",
              "    <tr>\n",
              "      <th>0</th>\n",
              "      <td>100001</td>\n",
              "      <td>Not only do angles make joints stronger, they ...</td>\n",
              "    </tr>\n",
              "    <tr>\n",
              "      <th>1</th>\n",
              "      <td>100002</td>\n",
              "      <td>BEHR Premium Textured DECKOVER is an innovativ...</td>\n",
              "    </tr>\n",
              "    <tr>\n",
              "      <th>2</th>\n",
              "      <td>100003</td>\n",
              "      <td>Classic architecture meets contemporary design...</td>\n",
              "    </tr>\n",
              "    <tr>\n",
              "      <th>3</th>\n",
              "      <td>100004</td>\n",
              "      <td>The Grape Solar 265-Watt Polycrystalline PV So...</td>\n",
              "    </tr>\n",
              "    <tr>\n",
              "      <th>4</th>\n",
              "      <td>100005</td>\n",
              "      <td>Update your bathroom with the Delta Vero Singl...</td>\n",
              "    </tr>\n",
              "    <tr>\n",
              "      <th>5</th>\n",
              "      <td>100006</td>\n",
              "      <td>Achieving delicious results is almost effortle...</td>\n",
              "    </tr>\n",
              "    <tr>\n",
              "      <th>6</th>\n",
              "      <td>100007</td>\n",
              "      <td>The Quantum Adjustable 2-Light LED Black Emerg...</td>\n",
              "    </tr>\n",
              "    <tr>\n",
              "      <th>7</th>\n",
              "      <td>100008</td>\n",
              "      <td>The Teks #10 x 1-1/2 in. Zinc-Plated Steel Was...</td>\n",
              "    </tr>\n",
              "    <tr>\n",
              "      <th>8</th>\n",
              "      <td>100009</td>\n",
              "      <td>Get the House of Fara 3/4 in. x 3 in. x 8 ft. ...</td>\n",
              "    </tr>\n",
              "    <tr>\n",
              "      <th>9</th>\n",
              "      <td>100010</td>\n",
              "      <td>Valley View Industries Metal Stakes (4-Pack) a...</td>\n",
              "    </tr>\n",
              "  </tbody>\n",
              "</table>\n",
              "</div>"
            ],
            "text/plain": [
              "   product_uid                                product_description\n",
              "0       100001  Not only do angles make joints stronger, they ...\n",
              "1       100002  BEHR Premium Textured DECKOVER is an innovativ...\n",
              "2       100003  Classic architecture meets contemporary design...\n",
              "3       100004  The Grape Solar 265-Watt Polycrystalline PV So...\n",
              "4       100005  Update your bathroom with the Delta Vero Singl...\n",
              "5       100006  Achieving delicious results is almost effortle...\n",
              "6       100007  The Quantum Adjustable 2-Light LED Black Emerg...\n",
              "7       100008  The Teks #10 x 1-1/2 in. Zinc-Plated Steel Was...\n",
              "8       100009  Get the House of Fara 3/4 in. x 3 in. x 8 ft. ...\n",
              "9       100010  Valley View Industries Metal Stakes (4-Pack) a..."
            ]
          },
          "metadata": {
            "tags": []
          },
          "execution_count": 14
        }
      ]
    },
    {
      "metadata": {
        "id": "x8oanlMPHcoN",
        "colab_type": "code",
        "colab": {
          "base_uri": "https://localhost:8080/",
          "height": 52
        },
        "outputId": "1ddc45d4-9ffb-4a2b-d01c-116e13fa4304"
      },
      "cell_type": "code",
      "source": [
        "print(\"there are in total {} product_uid \".format(len(descriptions.product_uid.unique())))\n",
        "print(\"there are in total {} product_descriptions \".format(len(descriptions.product_description.unique())))\n",
        "\n",
        "\n",
        "\n",
        "\n",
        "\n"
      ],
      "execution_count": 15,
      "outputs": [
        {
          "output_type": "stream",
          "text": [
            "there are in total 124428 product_uid \n",
            "there are in total 110128 product_descriptions \n"
          ],
          "name": "stdout"
        }
      ]
    },
    {
      "metadata": {
        "id": "q6femrMwHcoT",
        "colab_type": "code",
        "colab": {
          "base_uri": "https://localhost:8080/",
          "height": 364
        },
        "outputId": "ba1aa947-3866-4730-9c32-0d8926d285da"
      },
      "cell_type": "code",
      "source": [
        "(descriptions.product_description.str.count('\\d+') + 1).hist(bins=30)\n",
        "(descriptions.product_description.str.count('\\W')+1).hist(bins=30)\n",
        "\n",
        "\n"
      ],
      "execution_count": 16,
      "outputs": [
        {
          "output_type": "execute_result",
          "data": {
            "text/plain": [
              "<matplotlib.axes._subplots.AxesSubplot at 0x7f7cc85c7cc0>"
            ]
          },
          "metadata": {
            "tags": []
          },
          "execution_count": 16
        },
        {
          "output_type": "display_data",
          "data": {
            "image/png": "[encoded data removed]",
            "text/plain": [
              "<Figure size 576x396 with 1 Axes>"
            ]
          },
          "metadata": {
            "tags": []
          }
        }
      ]
    },
    {
      "metadata": {
        "id": "SVjXOtRvHcoh",
        "colab_type": "code",
        "colab": {
          "base_uri": "https://localhost:8080/",
          "height": 364
        },
        "outputId": "12fd70db-8eae-42e3-90c1-aaf8b2528b79"
      },
      "cell_type": "code",
      "source": [
        "(training_data.product_title.str.count(\"\\\\d+\") + 1).hist(bins=30)#plot number of digits in title\n",
        "(training_data.product_title.str.count(\"\\\\w+\") + 1).hist(bins=30)#plot number of digits in title\n",
        "\n",
        "\n",
        "\n"
      ],
      "execution_count": 17,
      "outputs": [
        {
          "output_type": "execute_result",
          "data": {
            "text/plain": [
              "<matplotlib.axes._subplots.AxesSubplot at 0x7f7cc80d1cf8>"
            ]
          },
          "metadata": {
            "tags": []
          },
          "execution_count": 17
        },
        {
          "output_type": "display_data",
          "data": {
            "image/png": "[encoded data removed]",
            "text/plain": [
              "<Figure size 576x396 with 1 Axes>"
            ]
          },
          "metadata": {
            "tags": []
          }
        }
      ]
    },
    {
      "metadata": {
        "id": "ExGQ7uV7Hcov",
        "colab_type": "code",
        "colab": {
          "base_uri": "https://localhost:8080/",
          "height": 364
        },
        "outputId": "fccbe523-3eae-4bc5-fc50-ba103a65c451"
      },
      "cell_type": "code",
      "source": [
        "(training_data.search_term.str.count(\"\\\\w+\") + 1).hist(bins=30) #plot number of words in search therms\n",
        "(training_data.search_term.str.count(\"\\\\d+\") + 1).hist(bins=30) #plot number of digits in search terms\n",
        "\n",
        "\n",
        "\n",
        "\n",
        "\n"
      ],
      "execution_count": 18,
      "outputs": [
        {
          "output_type": "execute_result",
          "data": {
            "text/plain": [
              "<matplotlib.axes._subplots.AxesSubplot at 0x7f7ccb7227f0>"
            ]
          },
          "metadata": {
            "tags": []
          },
          "execution_count": 18
        },
        {
          "output_type": "display_data",
          "data": {
            "image/png": "[encoded data removed]",
            "text/plain": [
              "<Figure size 576x396 with 1 Axes>"
            ]
          },
          "metadata": {
            "tags": []
          }
        }
      ]
    },
    {
      "metadata": {
        "id": "sodQnLqHHco3",
        "colab_type": "code",
        "colab": {
          "base_uri": "https://localhost:8080/",
          "height": 367
        },
        "outputId": "38deab86-d957-4ec2-ce1c-a5a5327cd7bb"
      },
      "cell_type": "code",
      "source": [
        "(training_data.relevance ).hist(bins=30)"
      ],
      "execution_count": 19,
      "outputs": [
        {
          "output_type": "execute_result",
          "data": {
            "text/plain": [
              "<matplotlib.axes._subplots.AxesSubplot at 0x7f7ccb666940>"
            ]
          },
          "metadata": {
            "tags": []
          },
          "execution_count": 19
        },
        {
          "output_type": "display_data",
          "data": {
            "image/png": "[encoded data removed]",
            "text/plain": [
              "<Figure size 576x396 with 1 Axes>"
            ]
          },
          "metadata": {
            "tags": []
          }
        }
      ]
    },
    {
      "metadata": {
        "id": "wFpP_g5cHcpD",
        "colab_type": "code",
        "colab": {
          "base_uri": "https://localhost:8080/",
          "height": 332
        },
        "outputId": "2cfa4b50-5488-4d72-c6c2-761a58eae0a2"
      },
      "cell_type": "code",
      "source": [
        "%matplotlib inline\n",
        "import matplotlib.pyplot as plt\n",
        "from scipy.stats import norm  \n",
        "\n",
        "training_data.relevance.plot(kind='hist', normed=True)\n",
        "\n",
        "mu, std = norm.fit(training_data.relevance)\n",
        "\n",
        "xmin, xmax = plt.xlim()\n",
        "x = np.linspace(xmin, xmax, 100)\n",
        "p = norm.pdf(x, mu, std)\n",
        "plt.plot(x, p, 'k', linewidth=2)\n",
        "title = \"Fit results: mu = %.2f,  std = %.2f\" % (mu, std)\n",
        "plt.title(title)\n",
        "\n",
        "plt.show()"
      ],
      "execution_count": 20,
      "outputs": [
        {
          "output_type": "stream",
          "text": [
            "/usr/local/lib/python3.6/dist-packages/matplotlib/axes/_axes.py:6521: MatplotlibDeprecationWarning: \n",
            "The 'normed' kwarg was deprecated in Matplotlib 2.1 and will be removed in 3.1. Use 'density' instead.\n",
            "  alternative=\"'density'\", removal=\"3.1\")\n"
          ],
          "name": "stderr"
        },
        {
          "output_type": "display_data",
          "data": {
            "image/png": "[encoded data removed]",
            "text/plain": [
              "<Figure size 432x288 with 1 Axes>"
            ]
          },
          "metadata": {
            "tags": []
          }
        }
      ]
    },
    {
      "metadata": {
        "id": "HEJ6x1ugHcpM",
        "colab_type": "code",
        "colab": {
          "base_uri": "https://localhost:8080/",
          "height": 34
        },
        "outputId": "559238b0-0d29-41fd-f372-a0e3a5ed8af7"
      },
      "cell_type": "code",
      "source": [
        "print('total data has html tags in',descriptions.product_description.str.count('<br$').values.sum())"
      ],
      "execution_count": 21,
      "outputs": [
        {
          "output_type": "stream",
          "text": [
            "total data has html tags in 173\n"
          ],
          "name": "stdout"
        }
      ]
    },
    {
      "metadata": {
        "scrolled": true,
        "id": "OWec-PhTHcpQ",
        "colab_type": "code",
        "colab": {
          "base_uri": "https://localhost:8080/",
          "height": 141
        },
        "outputId": "7b9234d1-2c71-42a2-dd9b-3e43fa3c0951"
      },
      "cell_type": "code",
      "source": [
        "descriptions[descriptions.product_description.str.contains(\"<br\")].values.tolist()[:3]"
      ],
      "execution_count": 22,
      "outputs": [
        {
          "output_type": "execute_result",
          "data": {
            "text/plain": [
              "[[100050,\n",
              "  'Sit back and relax in comfort and style in these Beverly Patio Dining Armchairs with Bare Cushions (2-Pack) from Hampton Bay. Perfect for a deck, porch, patio or sunroom, the chairs are made with a powder-coated, sturdy and durable rust-resistant, steel-reinforced frame with all-weather resin wicker to help withstand outdoor elements. Inspired by vintage styles, they feature a woven multi-brown wicker finish and include bare seat cushions that can be customized with slipcovers through the Choose Your Own Color option.Part of the Choose Your Own Color program, slipcovers for cushions must be purchased separatelyAll-weather resin wicker crafts a versatile piece for indoor and outdoor useFashioned with a multi-brown wicker finish for a vintage aesthetic in your outdoor living areaNo assembly requiredAll components packed in 1 boxCoordinates with other brown wicker items in the Beverly collection (sold separately)2-year limited frame, fabric and weave warrantyPowder-coated steel frame is durable and rust-resistantMore options available, CLICK HERE to Choose Your Own ColorCustomizable items cannot be returned. Click here to review our return policy for additional information regarding returns<br'],\n",
              " [100247,\n",
              "  'Choose among several fabric options to coordinate your outdoor decor theme with these Posada Patio Dining Chairs with Bare Cushions from Hampton Bay. Or, go the DIY route and fashion your own slipcovers with fabric from another provider. Either way, these all-weather armless dining side chairs are sure to spruce up your patio, deck or porch. This item is part of the Choose Your Own Color program and comes with bare cushions (customizable slipcovers available for an additional price and shipped separately).Part of the Choose Your Own Color program, slipcovers for cushions must be purchased separatelyNo assembly required2 chairs and 2 bare cushions packed in 1 boxClean with mild soap and waterCoordinates with other patio furniture and accessories in Posada collection, available separatelyEach chair supports up to 300 lbs.2-year limited frame and weave warrantyPowder-coated steel frame is durable and rust-resistantMore options available, CLICK HERE to Choose Your Own ColorCustomizable items cannot be returned. Click here to review our return policy for additional information regarding returns<br'],\n",
              " [100585,\n",
              "  'Relax in comfort and style with this Spring Haven Chaise Lounge. Perfect for the patio, porch or sunroom, the chaise lounge combines a sturdy rust-resistant, steel frame with all-weather resin for seasons of outdoor use. Includes bare cushions that you can customize your patio collection. Coordinates with other pieces in the Spring Haven collection (sold separately) or purchase as stand-alone piece.Multi-tone brown wicker finish for a sophisticated lookPowder-coated steel reinforced frame is durable and rust-resistantAll-weather resin wicker resists the outdoor elementsDesigned for easy assemblyCoordinates with other items in Spring Haven collection (sold separately)Durable steel frameGreat for patios, porches, sunroomsMore options available, CLICK HERE to Choose Your Own ColorCustomizable items cannot be returned. Click here to review our return policy for additional information regarding returns<br']]"
            ]
          },
          "metadata": {
            "tags": []
          },
          "execution_count": 22
        }
      ]
    },
    {
      "metadata": {
        "id": "LyydhRjYHcpV",
        "colab_type": "code",
        "colab": {
          "base_uri": "https://localhost:8080/",
          "height": 34
        },
        "outputId": "a7385e9c-e6db-4f86-aa8a-6de0349c70b6"
      },
      "cell_type": "code",
      "source": [
        "descriptions.product_description.str.contains(\"Click here to review our return policy for additional information regarding returns\").values.sum()"
      ],
      "execution_count": 23,
      "outputs": [
        {
          "output_type": "execute_result",
          "data": {
            "text/plain": [
              "173"
            ]
          },
          "metadata": {
            "tags": []
          },
          "execution_count": 23
        }
      ]
    },
    {
      "metadata": {
        "id": "jQVEFTIQHcpZ",
        "colab_type": "code",
        "colab": {
          "base_uri": "https://localhost:8080/",
          "height": 363
        },
        "outputId": "ecb15dab-2c85-4f1c-968f-591368f8059d"
      },
      "cell_type": "code",
      "source": [
        "training_data[training_data.search_term.str.contains(\"^\\\\d+ . \\\\d+$\")].head(10)"
      ],
      "execution_count": 24,
      "outputs": [
        {
          "output_type": "execute_result",
          "data": {
            "text/html": [
              "<div>\n",
              "<style scoped>\n",
              "    .dataframe tbody tr th:only-of-type {\n",
              "        vertical-align: middle;\n",
              "    }\n",
              "\n",
              "    .dataframe tbody tr th {\n",
              "        vertical-align: top;\n",
              "    }\n",
              "\n",
              "    .dataframe thead th {\n",
              "        text-align: right;\n",
              "    }\n",
              "</style>\n",
              "<table border=\"1\" class=\"dataframe\">\n",
              "  <thead>\n",
              "    <tr style=\"text-align: right;\">\n",
              "      <th></th>\n",
              "      <th>id</th>\n",
              "      <th>product_uid</th>\n",
              "      <th>product_title</th>\n",
              "      <th>search_term</th>\n",
              "      <th>relevance</th>\n",
              "    </tr>\n",
              "  </thead>\n",
              "  <tbody>\n",
              "    <tr>\n",
              "      <th>3377</th>\n",
              "      <td>10452</td>\n",
              "      <td>101800</td>\n",
              "      <td>Kaleen Habitat Bahama Rose Paprika 4 ft. x 6 f...</td>\n",
              "      <td>4 x 6</td>\n",
              "      <td>2.00</td>\n",
              "    </tr>\n",
              "    <tr>\n",
              "      <th>3650</th>\n",
              "      <td>11307</td>\n",
              "      <td>101959</td>\n",
              "      <td>Pressure-Treated Timber #2 Southern Yellow Pin...</td>\n",
              "      <td>4 x 6</td>\n",
              "      <td>1.67</td>\n",
              "    </tr>\n",
              "    <tr>\n",
              "      <th>3766</th>\n",
              "      <td>11705</td>\n",
              "      <td>102041</td>\n",
              "      <td>Kaleen Habitat Calypso Azure 4 ft. x 6 ft. Ind...</td>\n",
              "      <td>4 x 6</td>\n",
              "      <td>3.00</td>\n",
              "    </tr>\n",
              "    <tr>\n",
              "      <th>4513</th>\n",
              "      <td>14166</td>\n",
              "      <td>102472</td>\n",
              "      <td>Safavieh Lyndhurst Sage/Ivory 4 ft. x 6 ft. Ar...</td>\n",
              "      <td>4 x 6</td>\n",
              "      <td>1.33</td>\n",
              "    </tr>\n",
              "    <tr>\n",
              "      <th>7247</th>\n",
              "      <td>22691</td>\n",
              "      <td>104370</td>\n",
              "      <td>Wilsonart 48 in. x 96 in. Laminate Sheet in Mo...</td>\n",
              "      <td>48 x 96</td>\n",
              "      <td>2.33</td>\n",
              "    </tr>\n",
              "    <tr>\n",
              "      <th>7485</th>\n",
              "      <td>23405</td>\n",
              "      <td>104575</td>\n",
              "      <td>Yosemite Home Decor Undermount Stainless Steel...</td>\n",
              "      <td>23 x 38</td>\n",
              "      <td>2.33</td>\n",
              "    </tr>\n",
              "    <tr>\n",
              "      <th>13639</th>\n",
              "      <td>42190</td>\n",
              "      <td>110172</td>\n",
              "      <td>Sigman 20 ft. x 20 ft. Blue Tarp</td>\n",
              "      <td>20 x 20</td>\n",
              "      <td>2.67</td>\n",
              "    </tr>\n",
              "    <tr>\n",
              "      <th>15523</th>\n",
              "      <td>47882</td>\n",
              "      <td>112008</td>\n",
              "      <td>Wilsonart 48 in. x 96 in. Laminate Sheet in Su...</td>\n",
              "      <td>48 x 96</td>\n",
              "      <td>3.00</td>\n",
              "    </tr>\n",
              "    <tr>\n",
              "      <th>21335</th>\n",
              "      <td>65959</td>\n",
              "      <td>118174</td>\n",
              "      <td>1 in. Depth EZ Flow Heavy Duty (Case of 12)</td>\n",
              "      <td>20 x 20</td>\n",
              "      <td>1.67</td>\n",
              "    </tr>\n",
              "    <tr>\n",
              "      <th>23618</th>\n",
              "      <td>72613</td>\n",
              "      <td>120571</td>\n",
              "      <td>Honeywell 1 in. Allergen Superior Pleated FPR ...</td>\n",
              "      <td>20 x 20</td>\n",
              "      <td>1.67</td>\n",
              "    </tr>\n",
              "  </tbody>\n",
              "</table>\n",
              "</div>"
            ],
            "text/plain": [
              "          id  product_uid                                      product_title  \\\n",
              "3377   10452       101800  Kaleen Habitat Bahama Rose Paprika 4 ft. x 6 f...   \n",
              "3650   11307       101959  Pressure-Treated Timber #2 Southern Yellow Pin...   \n",
              "3766   11705       102041  Kaleen Habitat Calypso Azure 4 ft. x 6 ft. Ind...   \n",
              "4513   14166       102472  Safavieh Lyndhurst Sage/Ivory 4 ft. x 6 ft. Ar...   \n",
              "7247   22691       104370  Wilsonart 48 in. x 96 in. Laminate Sheet in Mo...   \n",
              "7485   23405       104575  Yosemite Home Decor Undermount Stainless Steel...   \n",
              "13639  42190       110172                   Sigman 20 ft. x 20 ft. Blue Tarp   \n",
              "15523  47882       112008  Wilsonart 48 in. x 96 in. Laminate Sheet in Su...   \n",
              "21335  65959       118174        1 in. Depth EZ Flow Heavy Duty (Case of 12)   \n",
              "23618  72613       120571  Honeywell 1 in. Allergen Superior Pleated FPR ...   \n",
              "\n",
              "      search_term  relevance  \n",
              "3377        4 x 6       2.00  \n",
              "3650        4 x 6       1.67  \n",
              "3766        4 x 6       3.00  \n",
              "4513        4 x 6       1.33  \n",
              "7247      48 x 96       2.33  \n",
              "7485      23 x 38       2.33  \n",
              "13639     20 x 20       2.67  \n",
              "15523     48 x 96       3.00  \n",
              "21335     20 x 20       1.67  \n",
              "23618     20 x 20       1.67  "
            ]
          },
          "metadata": {
            "tags": []
          },
          "execution_count": 24
        }
      ]
    },
    {
      "metadata": {
        "id": "8RFEwuIzHcpn",
        "colab_type": "code",
        "colab": {
          "base_uri": "https://localhost:8080/",
          "height": 143
        },
        "outputId": "04374016-df46-4a84-96ed-6f4fec1fa819"
      },
      "cell_type": "code",
      "source": [
        "training_data[training_data.product_uid==100030]"
      ],
      "execution_count": 25,
      "outputs": [
        {
          "output_type": "execute_result",
          "data": {
            "text/html": [
              "<div>\n",
              "<style scoped>\n",
              "    .dataframe tbody tr th:only-of-type {\n",
              "        vertical-align: middle;\n",
              "    }\n",
              "\n",
              "    .dataframe tbody tr th {\n",
              "        vertical-align: top;\n",
              "    }\n",
              "\n",
              "    .dataframe thead th {\n",
              "        text-align: right;\n",
              "    }\n",
              "</style>\n",
              "<table border=\"1\" class=\"dataframe\">\n",
              "  <thead>\n",
              "    <tr style=\"text-align: right;\">\n",
              "      <th></th>\n",
              "      <th>id</th>\n",
              "      <th>product_uid</th>\n",
              "      <th>product_title</th>\n",
              "      <th>search_term</th>\n",
              "      <th>relevance</th>\n",
              "    </tr>\n",
              "  </thead>\n",
              "  <tbody>\n",
              "    <tr>\n",
              "      <th>44</th>\n",
              "      <td>164</td>\n",
              "      <td>100030</td>\n",
              "      <td>9.1 in. x 5.8 in. White Designer Shelf Bracket</td>\n",
              "      <td>8 4616809045 9</td>\n",
              "      <td>1.67</td>\n",
              "    </tr>\n",
              "    <tr>\n",
              "      <th>45</th>\n",
              "      <td>165</td>\n",
              "      <td>100030</td>\n",
              "      <td>9.1 in. x 5.8 in. White Designer Shelf Bracket</td>\n",
              "      <td>shelf bracket</td>\n",
              "      <td>3.00</td>\n",
              "    </tr>\n",
              "    <tr>\n",
              "      <th>46</th>\n",
              "      <td>166</td>\n",
              "      <td>100030</td>\n",
              "      <td>9.1 in. x 5.8 in. White Designer Shelf Bracket</td>\n",
              "      <td>white 4shelves</td>\n",
              "      <td>1.67</td>\n",
              "    </tr>\n",
              "  </tbody>\n",
              "</table>\n",
              "</div>"
            ],
            "text/plain": [
              "     id  product_uid                                   product_title  \\\n",
              "44  164       100030  9.1 in. x 5.8 in. White Designer Shelf Bracket   \n",
              "45  165       100030  9.1 in. x 5.8 in. White Designer Shelf Bracket   \n",
              "46  166       100030  9.1 in. x 5.8 in. White Designer Shelf Bracket   \n",
              "\n",
              "       search_term  relevance  \n",
              "44  8 4616809045 9       1.67  \n",
              "45   shelf bracket       3.00  \n",
              "46  white 4shelves       1.67  "
            ]
          },
          "metadata": {
            "tags": []
          },
          "execution_count": 25
        }
      ]
    },
    {
      "metadata": {
        "id": "D1w6DlPdHcpu",
        "colab_type": "text"
      },
      "cell_type": "markdown",
      "source": [
        "from above the following conclusion follows. \n",
        "   - At first there exists fields which has html tags in for __description__ dataset. (maybe and error made by the scrapper) along with _Click here to review our return policy_\n",
        "   - There is no missing/empty values in any of these datasets \n",
        "   - in dataset __description__ field product_description contains more digits than word characters\n",
        "   - some query in dataset __training__ are too straight, it's hard to guess exactly what user meant in terms of broad  sense\n",
        "   - some of the search query in dataset __training__ has too specific meaning like 8 4616809045 9\t\n",
        "   - number of diggits appearence in the product title tends to be greater number of characters for dataset __training__ (and the same is true for search query field)\n",
        "   - the relevancy score is between 1 and 3. Because the density of product whose relevancy score is between 2 and 3 is higher we can conclude that most of search query has been classifield between 2 and 3\n",
        "   - The histogram of relevancy score doesn't follow standard distribution pattern\n",
        "   \n",
        "   \n",
        "   \n",
        "In order to continue the analysis we will need the whole datasets\n",
        "   - description datasets might be joined together to training by the product_uid (the same holds for attribute datasets) then clean the html parts\n",
        "   \n",
        "   "
      ]
    },
    {
      "metadata": {
        "id": "mLHgNBbxHcpv",
        "colab_type": "text"
      },
      "cell_type": "markdown",
      "source": [
        "## Data cleaning"
      ]
    },
    {
      "metadata": {
        "_uuid": "66018a689e75b4413ae9f944f625378e42e6bb55",
        "colab_type": "code",
        "id": "mD3zyodThgTD",
        "colab": {}
      },
      "cell_type": "code",
      "source": [
        "## let's create first the cleaning functions\n",
        "from bs4 import BeautifulSoup\n",
        "import lxml\n",
        "import re\n",
        "import nltk\n",
        "from nltk.corpus import stopwords # Import the stop word list\n",
        "from nltk.metrics import edit_distance\n",
        "from string import punctuation\n",
        "from collections import Counter\n",
        "\n",
        "\n",
        "def remove_html_tag(text):\n",
        "    soup = BeautifulSoup(text, 'lxml')\n",
        "    text = soup.get_text().replace('Click here to review our return policy for additional information regarding returns', '')\n",
        "    return text\n",
        "\n",
        "def str_stemmer(doc):\n",
        "    # split into tokens by white space\n",
        "    tokens = doc.split()\n",
        "    # remove punctuation from each token\n",
        "    table = str.maketrans('', '', punctuation)\n",
        "    tokens = [w.translate(table) for w in tokens]\n",
        "    # remove remaining tokens that are not alphabetic\n",
        "    tokens = [word for word in tokens if word.isalpha()]\n",
        "    # filter out stop words\n",
        "    stop_words = set(stopwords.words('english'))\n",
        "    tokens = [w for w in tokens if not w in stop_words]\n",
        "    # filter out short tokens\n",
        "    tokens = [word for word in tokens if len(word) > 1]\n",
        "    return ' '.join(tokens)\n",
        "\n",
        "def str_stemmer_title(s):\n",
        "    return \" \".join([stemmer.stem(word) for word in s.lower().split()])\n",
        "\n",
        "def str_common_word(str1, str2):\n",
        "    whole_set = set(str1.split())\n",
        "#     return sum(int(str2.find(word)>=0) for word in whole_set)\n",
        "    return np.sum(int(str2.find(word)>=0) for word in whole_set)\n",
        "\n",
        "\n",
        "\n",
        "\n",
        "\n"
      ],
      "execution_count": 0,
      "outputs": []
    },
    {
      "metadata": {
        "id": "k5e3ogFVHcp3",
        "colab_type": "code",
        "colab": {}
      },
      "cell_type": "code",
      "source": [
        "############### cleaning html tags ##################\n",
        "has_tag_in = descriptions.product_description.str.contains('<br')\n",
        "descriptions.loc[has_tag_in, 'product_description'] = descriptions.loc[has_tag_in, 'product_description'].map(lambda x:remove_html_tag(x))\n",
        "###############"
      ],
      "execution_count": 0,
      "outputs": []
    },
    {
      "metadata": {
        "_uuid": "a6295bb7eca8efb42e364a95169bec7b576dcae5",
        "colab_type": "text",
        "id": "n-UOBiz0hgTt"
      },
      "cell_type": "markdown",
      "source": [
        "Examing the search query in the datasets __training__, there some misspelings for field _search_term_ contains a lot of misspelling (more than 3000). This might be fixed by using Google API "
      ]
    },
    {
      "metadata": {
        "id": "q2HG5gjPHcp9",
        "colab_type": "code",
        "colab": {}
      },
      "cell_type": "code",
      "source": [
        "import requests\n",
        "import re\n",
        "import time\n",
        "from random import randint\n",
        "\n",
        "START_SPELL_CHECK=\"<span class=\\\"spell\\\">Showing results for</span>\"\n",
        "END_SPELL_CHECK=\"<br><span class=\\\"spell_orig\\\">Search instead for\"\n",
        "HTML_Codes = ((\"'\", '&#39;'),('\"', '&quot;'),('>', '&gt;'),('<', '&lt;'),('&', '&amp;'))\n",
        "\n",
        "def spell_check(s):\n",
        "    q = '+'.join(s.split())\n",
        "    time.sleep(  randint(0,1) ) #relax and don't let google be angry\n",
        "    r = requests.get(\"https://www.google.co.uk/search?q=\"+q)\n",
        "    content = r.text\n",
        "    start=content.find(START_SPELL_CHECK) \n",
        "    if ( start > -1 ):\n",
        "        start = start + len(START_SPELL_CHECK)\n",
        "        end=content.find(END_SPELL_CHECK)\n",
        "        search= content[start:end]\n",
        "        search = re.sub(r'<[^>]+>', '', search)\n",
        "        for code in HTML_Codes:\n",
        "            search = search.replace(code[1], code[0])\n",
        "        search = search[1:]\n",
        "    else:\n",
        "        search = s\n",
        "    return search "
      ],
      "execution_count": 0,
      "outputs": []
    },
    {
      "metadata": {
        "_uuid": "8e4afafc8871c75d1395afe354536facd601c1fd",
        "id": "P8xPGjJ8HcqH",
        "colab_type": "text"
      },
      "cell_type": "markdown",
      "source": [
        "Indeed correcting the misspelings words might help, due to ability of reproducing the result at Kaggle just take it as a spot "
      ]
    },
    {
      "metadata": {
        "_uuid": "c86493591b2c80347dbb30794d17752dccb2999c",
        "colab_type": "code",
        "id": "qLK6NtZ7hgUJ",
        "colab": {}
      },
      "cell_type": "code",
      "source": [
        "training_data = pd.merge(training_data, descriptions, \n",
        "                         on=\"product_uid\", how=\"left\")"
      ],
      "execution_count": 0,
      "outputs": []
    },
    {
      "metadata": {
        "_uuid": "e4a223cf4cf2162a5e723d69bd29287e958eb434",
        "colab_type": "code",
        "id": "BgBG3ClMhgUQ",
        "outputId": "66838e39-9c02-437e-8e3b-553e949866e1",
        "colab": {
          "base_uri": "https://localhost:8080/",
          "height": 34
        }
      },
      "cell_type": "code",
      "source": [
        "print(\"It has blank/empty fields \",training_data.isnull().values.sum())"
      ],
      "execution_count": 30,
      "outputs": [
        {
          "output_type": "stream",
          "text": [
            "It has blank/empty fields  0\n"
          ],
          "name": "stdout"
        }
      ]
    },
    {
      "metadata": {
        "id": "y841JhQiHcqU",
        "colab_type": "text"
      },
      "cell_type": "markdown",
      "source": [
        "## Feature Engineering"
      ]
    },
    {
      "metadata": {
        "id": "bJtHOfiAHcqW",
        "colab_type": "text"
      },
      "cell_type": "markdown",
      "source": [
        "### Plan\n",
        "We are going to do the following:\n",
        "0. Join dataset __training__ with __description__  by  _product uid_ (already done)\n",
        "\n",
        "2. Create num columns based on text columns\n",
        "    - count number of words from search query which appears both in product_title and product_description\n",
        "    - compute edit distnace from search query which appears both in product_title and product_title\n",
        "    - compute the cosine similarity between search query, product_title and product_description\n",
        "    - count number of words in the product description\n",
        "    - create new columns for each pair\n",
        "    \n",
        "3. Remove all text columns\n",
        "\n",
        "As a result we will have vectors of numbers that suites well for the machine learning."
      ]
    },
    {
      "metadata": {
        "id": "Fb1bN4EpHcqW",
        "colab_type": "code",
        "colab": {
          "base_uri": "https://localhost:8080/",
          "height": 34
        },
        "outputId": "0bcc5a96-2daa-496d-a5a7-3b44b99835c3"
      },
      "cell_type": "code",
      "source": [
        "print(\"has blank/empty values\",training_data.isnull().values.any())"
      ],
      "execution_count": 31,
      "outputs": [
        {
          "output_type": "stream",
          "text": [
            "has blank/empty values False\n"
          ],
          "name": "stdout"
        }
      ]
    },
    {
      "metadata": {
        "id": "C-Dz6OdyHcqg",
        "colab_type": "code",
        "colab": {
          "base_uri": "https://localhost:8080/",
          "height": 52
        },
        "outputId": "88c5698e-c4d5-426a-809f-5830f0211e86"
      },
      "cell_type": "code",
      "source": [
        "from nltk.corpus import brown, stopwords\n",
        "from nltk.cluster.util import cosine_distance\n",
        "from sklearn.feature_extraction.text import CountVectorizer\n",
        "from sklearn.metrics.pairwise import cosine_similarity\n",
        "from collections import Counter\n",
        "\n",
        "\n",
        "nltk.download('stopwords')\n",
        "\n",
        " \n",
        "def sentence_similarity(sent1, sent2, stopwords=None):\n",
        "    sent1 = sent1.split(' ')\n",
        "    sent2 = sent2.split(' ')\n",
        "    if stopwords is None:\n",
        "        stopwords = []\n",
        " \n",
        "    sent1 = [w.lower() for w in sent1]\n",
        "    sent2 = [w.lower() for w in sent2]\n",
        " \n",
        "    all_words = list(set(sent1 + sent2))\n",
        " \n",
        "    vector1 = [0] * len(all_words)\n",
        "    vector2 = [0] * len(all_words)\n",
        " \n",
        "    # build the vector for the first sentence\n",
        "    for w in sent1:\n",
        "        if w in stopwords:\n",
        "            continue\n",
        "        vector1[all_words.index(w)] += 1\n",
        " \n",
        "    # build the vector for the second sentence\n",
        "    for w in sent2:\n",
        "        if w in stopwords:\n",
        "            continue\n",
        "        vector2[all_words.index(w)] += 1\n",
        " \n",
        "    return 1 - cosine_distance(vector1, vector2)\n",
        "\n",
        "# def sentence_similarity(*strs, stopwords = None):\n",
        "#     text = [t for t in strs]\n",
        "#     vectorizer = CountVectorizer(text, stop_words=stopwords) if stopwords else CountVectorizer(text)\n",
        "#     vectorizer.fit(text)\n",
        "#     r = vectorizer.transform(text).toarray()\n",
        "#     return 1 - cosine_distance(*r)\n",
        "\n",
        "\n",
        "def get_jaccard_sim(str1, str2): \n",
        "    a = set(str1.split()) \n",
        "    b = set(str2.split())\n",
        "    c = a.intersection(b)\n",
        "    return float(len(c)) / (len(a) + len(b) - len(c))\n"
      ],
      "execution_count": 35,
      "outputs": [
        {
          "output_type": "stream",
          "text": [
            "[nltk_data] Downloading package stopwords to /root/nltk_data...\n",
            "[nltk_data]   Package stopwords is already up-to-date!\n"
          ],
          "name": "stdout"
        }
      ]
    },
    {
      "metadata": {
        "id": "i_Hl7Qc9Hcq_",
        "colab_type": "code",
        "colab": {}
      },
      "cell_type": "code",
      "source": [
        "############## apply stemming #####################\n",
        "training_data['search_term'] = training_data['search_term'].map(lambda x:str_stemmer_title(x))\n",
        "training_data['product_title'] = training_data['product_title'].map(lambda x:str_stemmer(x))\n",
        "\n",
        "training_data['product_description'] = training_data['product_description'].map(lambda x:str_stemmer(x))"
      ],
      "execution_count": 0,
      "outputs": []
    },
    {
      "metadata": {
        "id": "bdnnWG7lHcrC",
        "colab_type": "code",
        "colab": {}
      },
      "cell_type": "code",
      "source": [
        "############## building custome feature, let's build a few of them before compare which one is the best ###########\n",
        "training_data['shared_words'] = training_data[['search_term','product_description', 'product_title']].apply(lambda row:np.sum([str_common_word(*row[:-1]), str_common_word(*row[1:])]), axis=1)\n",
        "training_data[\"edistance_sprot\"] = training_data.loc[:, [\"search_term\",\"product_title\"]].apply(lambda x: edit_distance(*x), axis=1)\n",
        "training_data[\"edistance_sd\"] = training_data.loc[:, [\"search_term\",\"product_description\"]].apply(lambda x: edit_distance(*x), axis=1)\n",
        "\n",
        "training_data['cos_dis_sqt'] = training_data.loc[:, [\"search_term\",\"product_title\"]].apply(lambda x: sentence_similarity(x[0],x[1]), axis=1)\n",
        "training_data['cos_dis_sqd'] = training_data.loc[:, [\"search_term\",\"product_description\"]].apply(lambda x: sentence_similarity(x[0],x[1]),axis=1)\n",
        "\n",
        "training_data['j_dis_sqt'] = training_data.loc[:, [\"search_term\",\"product_title\"]].apply(lambda x: get_jaccard_sim(x[0],x[1]), axis=1)\n",
        "training_data['j_dis_sqd'] = training_data.loc[:, [\"search_term\",\"product_description\"]].apply(lambda x: get_jaccard_sim(x[0],x[1]),axis=1)\n",
        "\n",
        "\n",
        "\n",
        "training_data['search_query_length'] = training_data.search_term.str.len()\n",
        "training_data['number_of_words_in_descr'] = training_data.product_description.str.count(\"\\\\w+\")"
      ],
      "execution_count": 0,
      "outputs": []
    },
    {
      "metadata": {
        "id": "QnrEQ2CjHcrH",
        "colab_type": "code",
        "colab": {}
      },
      "cell_type": "code",
      "source": [
        "training_data.corr()"
      ],
      "execution_count": 0,
      "outputs": []
    },
    {
      "metadata": {
        "id": "QD43FX4NHcrO",
        "colab_type": "text"
      },
      "cell_type": "markdown",
      "source": [
        "__test dataset__\n",
        "we have to have to apply symmetric transformation for both data set, except relevance score field since it is target field. Except we are not allow to take any actions which might lead to overfitting the data"
      ]
    },
    {
      "metadata": {
        "id": "jO_WraovHcrQ",
        "colab_type": "code",
        "colab": {}
      },
      "cell_type": "code",
      "source": [
        "testing_data = pd.merge(testing_data, descriptions, \n",
        "                         on=\"product_uid\", how=\"left\")\n",
        "print(\"has blank/empty values\",testing_data.isnull().values.any())"
      ],
      "execution_count": 0,
      "outputs": []
    },
    {
      "metadata": {
        "id": "2t3QBjiLHcrY",
        "colab_type": "code",
        "colab": {}
      },
      "cell_type": "code",
      "source": [
        "############## apply stemming for test data #####################\n",
        "testing_data['search_term'] = testing_data['search_term'].map(lambda x:str_stemmer_title(x))\n",
        "testing_data['product_title'] = testing_data['product_title'].map(lambda x:str_stemmer(x))\n",
        "\n",
        "testing_data['product_description'] = testing_data['product_description'].map(lambda x:str_stemmer(x))\n",
        "\n",
        "############## end stemming #####################"
      ],
      "execution_count": 0,
      "outputs": []
    },
    {
      "metadata": {
        "id": "D4epJUPdHcrb",
        "colab_type": "code",
        "colab": {}
      },
      "cell_type": "code",
      "source": [
        "############## building custome feature for test data, let's build a few of them before compare which one is the best ###########\n",
        "testing_data['shared_words'] = testing_data[['search_term','product_description', 'product_title']].apply(lambda row:np.sum([str_common_word(*row[:-1]), str_common_word(*row[1:])]), axis=1)\n",
        "testing_data[\"edistance_sprot\"] = testing_data.loc[:, [\"search_term\",\"product_title\"]].apply(lambda x: edit_distance(*x), axis=1)\n",
        "testing_data[\"edistance_sd\"] = testing_data.loc[:, [\"search_term\",\"product_description\"]].apply(lambda x: edit_distance(*x), axis=1)\n",
        "\n",
        "testing_data['cos_dis_sqt'] = testing_data.loc[:, [\"search_term\",\"product_title\"]].apply(lambda x: sentence_similarity(x[0],x[1]), axis=1)\n",
        "testing_data['cos_dis_sqd'] = testing_data.loc[:, [\"search_term\",\"product_description\"]].apply(lambda x: sentence_similarity(x[0],x[1]),axis=1)\n",
        "\n",
        "testing_data['j_dis_sqt'] = testing_data.loc[:, [\"search_term\",\"product_title\"]].apply(lambda x: get_jaccard_sim(x[0],x[1]), axis=1)\n",
        "testing_data['j_dis_sqd'] = testing_data.loc[:, [\"search_term\",\"product_description\"]].apply(lambda x: get_jaccard_sim(x[0],x[1]),axis=1)\n",
        "\n",
        "\n",
        "\n",
        "testing_data['search_query_length'] = testing_data.search_term.str.len()\n",
        "testing_data['number_of_words_in_descr'] = testing_data.product_description.str.count(\"\\\\w+\")"
      ],
      "execution_count": 0,
      "outputs": []
    },
    {
      "metadata": {
        "id": "TFjcEZHqHcrf",
        "colab_type": "code",
        "colab": {}
      },
      "cell_type": "code",
      "source": [
        "testing_data.corr()"
      ],
      "execution_count": 0,
      "outputs": []
    },
    {
      "metadata": {
        "id": "sEzYKN8YHcrn",
        "colab_type": "code",
        "colab": {}
      },
      "cell_type": "code",
      "source": [
        "training_data.describe()"
      ],
      "execution_count": 0,
      "outputs": []
    },
    {
      "metadata": {
        "id": "iIbAUyP-Hcrr",
        "colab_type": "code",
        "colab": {}
      },
      "cell_type": "code",
      "source": [
        "testing_data.describe()"
      ],
      "execution_count": 0,
      "outputs": []
    },
    {
      "metadata": {
        "id": "_GAtyJOzHcrv",
        "colab_type": "code",
        "colab": {}
      },
      "cell_type": "code",
      "source": [
        "import seaborn as sns\n",
        "plt.figure(figsize=(12, 12))\n",
        "temp = training_data.drop(['product_uid','id'],axis=1)\n",
        "sns.heatmap(temp.corr(), annot=True)\n",
        "plt.show()"
      ],
      "execution_count": 0,
      "outputs": []
    },
    {
      "metadata": {
        "id": "ky8dHcxwHcr0",
        "colab_type": "code",
        "colab": {}
      },
      "cell_type": "code",
      "source": [
        "import seaborn as sns\n",
        "plt.figure(figsize=(12, 12))\n",
        "temp = testing_data.drop(['product_uid','id'],axis=1)\n",
        "sns.heatmap(temp.corr(), annot=True)\n",
        "plt.show()"
      ],
      "execution_count": 0,
      "outputs": []
    },
    {
      "metadata": {
        "id": "fd6OSe7SHcsA",
        "colab_type": "code",
        "colab": {}
      },
      "cell_type": "code",
      "source": [
        "%matplotlib inline\n",
        "import matplotlib.pyplot as plt\n",
        "from scipy.stats import norm  \n",
        "\n",
        "training_data.cos_dis_sqd.plot(kind='hist', normed=True)\n",
        "\n",
        "mu, std = norm.fit(training_data.cos_dis_sqd)\n",
        "\n",
        "xmin, xmax = plt.xlim()\n",
        "x = np.linspace(xmin, xmax, 100)\n",
        "p = norm.pdf(x, mu, std)\n",
        "plt.plot(x, p, 'k', linewidth=2)\n",
        "title = \"Fit results: mu = %.2f,  std = %.2f\" % (mu, std)\n",
        "plt.title(title)\n",
        "\n",
        "plt.show()"
      ],
      "execution_count": 0,
      "outputs": []
    },
    {
      "metadata": {
        "id": "x_kXT6taHcsB",
        "colab_type": "code",
        "colab": {}
      },
      "cell_type": "code",
      "source": [
        "%matplotlib inline\n",
        "import matplotlib.pyplot as plt\n",
        "from scipy.stats import norm  \n",
        "\n",
        "training_data.cos_dis_sqt.plot(kind='hist', normed=True)\n",
        "\n",
        "mu, std = norm.fit(training_data.cos_dis_sqt)\n",
        "\n",
        "xmin, xmax = plt.xlim()\n",
        "x = np.linspace(xmin, xmax, 100)\n",
        "p = norm.pdf(x, mu, std)\n",
        "plt.plot(x, p, 'k', linewidth=2)\n",
        "title = \"Fit results: mu = %.2f,  std = %.2f\" % (mu, std)\n",
        "plt.title(title)\n",
        "\n",
        "plt.show()"
      ],
      "execution_count": 0,
      "outputs": []
    },
    {
      "metadata": {
        "id": "1IEmgxy1HcsG",
        "colab_type": "text"
      },
      "cell_type": "markdown",
      "source": [
        "From the below histogram we can conclude that the sum of shared words between search_query product_title, and product description follows the standard distribution.\n"
      ]
    },
    {
      "metadata": {
        "id": "orEvZHQEHcsI",
        "colab_type": "code",
        "colab": {}
      },
      "cell_type": "code",
      "source": [
        "%matplotlib inline\n",
        "import matplotlib.pyplot as plt\n",
        "from scipy.stats import norm  \n",
        "\n",
        "training_data.shared_words.plot(kind='hist', normed=True)\n",
        "\n",
        "mu, std = norm.fit(training_data.shared_words)\n",
        "\n",
        "xmin, xmax = plt.xlim()\n",
        "x = np.linspace(xmin, xmax, 100)\n",
        "p = norm.pdf(x, mu, std)\n",
        "plt.plot(x, p, 'k', linewidth=2)\n",
        "title = \"Fit results: mu = %.2f,  std = %.2f\" % (mu, std)\n",
        "plt.title(title)\n",
        "\n",
        "plt.show()"
      ],
      "execution_count": 0,
      "outputs": []
    },
    {
      "metadata": {
        "id": "oa4ZN0-nHcsX",
        "colab_type": "code",
        "colab": {}
      },
      "cell_type": "code",
      "source": [
        "%matplotlib inline\n",
        "import matplotlib.pyplot as plt\n",
        "from scipy.stats import norm  \n",
        "\n",
        "training_data.edistance_sprot.plot(kind='hist', normed=True)\n",
        "\n",
        "mu, std = norm.fit(training_data.edistance_sprot)\n",
        "\n",
        "xmin, xmax = plt.xlim()\n",
        "x = np.linspace(xmin, xmax, 100)\n",
        "p = norm.pdf(x, mu, std)\n",
        "plt.plot(x, p, 'k', linewidth=2)\n",
        "title = \"Fit results: mu = %.2f,  std = %.2f\" % (mu, std)\n",
        "plt.title(title)\n",
        "\n",
        "plt.show()"
      ],
      "execution_count": 0,
      "outputs": []
    },
    {
      "metadata": {
        "id": "t6B5gKeBHcsa",
        "colab_type": "code",
        "colab": {}
      },
      "cell_type": "code",
      "source": [
        "%matplotlib inline\n",
        "import matplotlib.pyplot as plt\n",
        "from scipy.stats import norm  \n",
        "\n",
        "training_data.search_query_length.plot(kind='hist', normed=True)\n",
        "\n",
        "mu, std = norm.fit(training_data.search_query_length)\n",
        "\n",
        "xmin, xmax = plt.xlim()\n",
        "x = np.linspace(xmin, xmax, 100)\n",
        "p = norm.pdf(x, mu, std)\n",
        "plt.plot(x, p, 'k', linewidth=2)\n",
        "title = \"Fit results: mu = %.2f,  std = %.2f\" % (mu, std)\n",
        "plt.title(title)\n",
        "\n",
        "plt.show()"
      ],
      "execution_count": 0,
      "outputs": []
    },
    {
      "metadata": {
        "id": "xvAkLt22Hcsd",
        "colab_type": "text"
      },
      "cell_type": "markdown",
      "source": [
        "let's examing if the same behaviour can be spotted on __testing__ dataset"
      ]
    },
    {
      "metadata": {
        "id": "tv8HXlQXHcsd",
        "colab_type": "code",
        "colab": {}
      },
      "cell_type": "code",
      "source": [
        "%matplotlib inline\n",
        "import matplotlib.pyplot as plt\n",
        "from scipy.stats import norm  \n",
        "\n",
        "testing_data.cos_dis_sqd.plot(kind='hist', normed=True)\n",
        "\n",
        "mu, std = norm.fit(testing_data.cos_dis_sqd)\n",
        "\n",
        "xmin, xmax = plt.xlim()\n",
        "x = np.linspace(xmin, xmax, 100)\n",
        "p = norm.pdf(x, mu, std)\n",
        "plt.plot(x, p, 'k', linewidth=2)\n",
        "title = \"Fit results: mu = %.2f,  std = %.2f\" % (mu, std)\n",
        "plt.title(title)\n",
        "\n",
        "plt.show()"
      ],
      "execution_count": 0,
      "outputs": []
    },
    {
      "metadata": {
        "id": "Lme6DcFoHcsi",
        "colab_type": "code",
        "colab": {}
      },
      "cell_type": "code",
      "source": [
        "%matplotlib inline\n",
        "import matplotlib.pyplot as plt\n",
        "from scipy.stats import norm  \n",
        "\n",
        "testing_data.cos_dis_sqt.plot(kind='hist', normed=True)\n",
        "\n",
        "mu, std = norm.fit(testing_data.cos_dis_sqt)\n",
        "\n",
        "xmin, xmax = plt.xlim()\n",
        "x = np.linspace(xmin, xmax, 100)\n",
        "p = norm.pdf(x, mu, std)\n",
        "plt.plot(x, p, 'k', linewidth=2)\n",
        "title = \"Fit results: mu = %.2f,  std = %.2f\" % (mu, std)\n",
        "plt.title(title)\n",
        "\n",
        "plt.show()"
      ],
      "execution_count": 0,
      "outputs": []
    },
    {
      "metadata": {
        "id": "UhQyrbwZHcsq",
        "colab_type": "code",
        "colab": {}
      },
      "cell_type": "code",
      "source": [
        "%matplotlib inline\n",
        "import matplotlib.pyplot as plt\n",
        "from scipy.stats import norm  \n",
        "\n",
        "testing_data.shared_words.plot(kind='hist', normed=True)\n",
        "\n",
        "mu, std = norm.fit(testing_data.shared_words)\n",
        "\n",
        "xmin, xmax = plt.xlim()\n",
        "x = np.linspace(xmin, xmax, 100)\n",
        "p = norm.pdf(x, mu, std)\n",
        "plt.plot(x, p, 'k', linewidth=2)\n",
        "title = \"Fit results: mu = %.2f,  std = %.2f\" % (mu, std)\n",
        "plt.title(title)\n",
        "\n",
        "plt.show()"
      ],
      "execution_count": 0,
      "outputs": []
    },
    {
      "metadata": {
        "id": "TXslEKKdHcs8",
        "colab_type": "code",
        "colab": {}
      },
      "cell_type": "code",
      "source": [
        "%matplotlib inline\n",
        "import matplotlib.pyplot as plt\n",
        "from scipy.stats import norm  \n",
        "\n",
        "testing_data.edistance_sprot.plot(kind='hist', normed=True)\n",
        "\n",
        "mu, std = norm.fit(testing_data.edistance_sprot)\n",
        "\n",
        "xmin, xmax = plt.xlim()\n",
        "x = np.linspace(xmin, xmax, 100)\n",
        "p = norm.pdf(x, mu, std)\n",
        "plt.plot(x, p, 'k', linewidth=2)\n",
        "title = \"Fit results: mu = %.2f,  std = %.2f\" % (mu, std)\n",
        "plt.title(title)\n",
        "\n",
        "plt.show()"
      ],
      "execution_count": 0,
      "outputs": []
    },
    {
      "metadata": {
        "id": "7jXmjwwYHctC",
        "colab_type": "code",
        "colab": {}
      },
      "cell_type": "code",
      "source": [
        "%matplotlib inline\n",
        "import matplotlib.pyplot as plt\n",
        "from scipy.stats import norm  \n",
        "\n",
        "testing_data.search_query_length.plot(kind='hist', normed=True)\n",
        "\n",
        "mu, std = norm.fit(testing_data.search_query_length)\n",
        "\n",
        "xmin, xmax = plt.xlim()\n",
        "x = np.linspace(xmin, xmax, 100)\n",
        "p = norm.pdf(x, mu, std)\n",
        "plt.plot(x, p, 'k', linewidth=2)\n",
        "title = \"Fit results: mu = %.2f,  std = %.2f\" % (mu, std)\n",
        "plt.title(title)\n",
        "\n",
        "plt.show()"
      ],
      "execution_count": 0,
      "outputs": []
    },
    {
      "metadata": {
        "id": "xnmLP17cHctE",
        "colab_type": "text"
      },
      "cell_type": "markdown",
      "source": [
        "# 3. Let's start machine learning\n",
        "first of all let's create training and test data sets\n"
      ]
    },
    {
      "metadata": {
        "id": "TpR3C53cHctE",
        "colab_type": "text"
      },
      "cell_type": "markdown",
      "source": [
        "We are going to apply the following models:\n",
        "1. RandomForestRegressor\n",
        "2. LinearRegression\n",
        "4. GradientBoostingRegressor \n",
        "5. BaggingRegressor\n",
        "6. XGBoost\n",
        "7. CatBoost\n",
        "8. Naive Baies\n",
        "8. PolynomialFeatures for all previous algorithms\n",
        "\n",
        "\n",
        "### Plan\n",
        "We are going to do the following:\n",
        "0. Define pipeline\n",
        "1. drop non numeric columns because these information has been already transformed to numberic\n",
        "2. Apply the model which has been mentioned above within pipeline mode\n",
        "3. Train models and compare their result on __test__ dataset\n",
        "4. write a summary about it\n",
        "\n"
      ]
    },
    {
      "metadata": {
        "id": "pcBsWKAKHctG",
        "colab_type": "code",
        "colab": {}
      },
      "cell_type": "code",
      "source": [
        "df_training = training_data.drop(['product_title','search_term','product_description'],axis=1)\n",
        "\n",
        "y_train = df_training['relevance'].values\n",
        "X_train = df_training.drop(['id','relevance'],axis=1).values"
      ],
      "execution_count": 0,
      "outputs": []
    },
    {
      "metadata": {
        "id": "BDlja11sHctK",
        "colab_type": "code",
        "colab": {}
      },
      "cell_type": "code",
      "source": [
        "testing_data.head(10)"
      ],
      "execution_count": 0,
      "outputs": []
    },
    {
      "metadata": {
        "id": "PnQblLURHctb",
        "colab_type": "code",
        "colab": {}
      },
      "cell_type": "code",
      "source": [
        "X_test = testing_data.drop(['id','product_title','search_term','product_description'],axis=1).values\n",
        "id_test = testing_data['id']\n"
      ],
      "execution_count": 0,
      "outputs": []
    },
    {
      "metadata": {
        "id": "mxEv94H3Hctg",
        "colab_type": "code",
        "colab": {}
      },
      "cell_type": "code",
      "source": [
        "# define models which will be chained togher in a bigger model, which aims to predict the relevancy score\n",
        "import numpy as np\n",
        "import pandas as pd\n",
        "from sklearn.ensemble import RandomForestRegressor, BaggingRegressor\n",
        "from sklearn.preprocessing import StandardScaler\n",
        "from sklearn.pipeline import Pipeline\n",
        "\n",
        "#define standard scaler\n",
        "scaler = StandardScaler()\n",
        "scaler.fit(X_train, y_train)\n",
        "scaled_train_data = scaler.transform(X_train)\n",
        "scaled_test_data = scaler.transform(X_test)\n",
        "\n",
        "\n",
        "rf = RandomForestRegressor(n_estimators=4, max_depth=6, random_state=0)\n",
        "clf = BaggingRegressor(rf, n_estimators=4, max_samples=0.1, random_state=25)\n",
        "\n",
        "\n",
        "pipeline = Pipeline(steps = [('scaling', scaler), ('baggingregressor', clf)])\n",
        "#end pipeline \n",
        "clf.fit(X_train, y_train)\n",
        "\n",
        "y_pred = clf.predict(X_test)\n",
        "pd.DataFrame({\"id\": id_test, \"relevance\": y_pred}).to_csv('submission.csv',index=False)\n"
      ],
      "execution_count": 0,
      "outputs": []
    },
    {
      "metadata": {
        "id": "slr0y2lsHctj",
        "colab_type": "code",
        "colab": {}
      },
      "cell_type": "code",
      "source": [
        "pipeline.fit(train_data, train_labels)"
      ],
      "execution_count": 0,
      "outputs": []
    },
    {
      "metadata": {
        "id": "glnSevkVHctm",
        "colab_type": "code",
        "colab": {}
      },
      "cell_type": "code",
      "source": [
        "# clf.fit(X_train, y_train)\n",
        "# y_pred = clf.predict(X_test)\n",
        "\n",
        "# pd.DataFrame({\"id\": id_test, \"relevance\": y_pred}).to_csv('submission.csv',index=False)"
      ],
      "execution_count": 0,
      "outputs": []
    },
    {
      "metadata": {
        "id": "hXKN-KBgIekM",
        "colab_type": "code",
        "colab": {}
      },
      "cell_type": "code",
      "source": [
        ""
      ],
      "execution_count": 0,
      "outputs": []
    }
  ]
}