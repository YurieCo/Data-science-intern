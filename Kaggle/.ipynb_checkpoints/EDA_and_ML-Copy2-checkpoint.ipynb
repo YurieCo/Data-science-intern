{
 "cells": [
  {
   "cell_type": "markdown",
   "metadata": {
    "_uuid": "4b828c46f913d3767c01de7e2d6192d5706e4619",
    "colab_type": "text",
    "id": "BGi45RunhgSq"
   },
   "source": [
    "## Data Cleaning and Shape Examining \n"
   ]
  },
  {
   "cell_type": "markdown",
   "metadata": {},
   "source": [
    "## Home Depot Product Search Relevance\n",
    "\n"
   ]
  },
  {
   "cell_type": "markdown",
   "metadata": {
    "_uuid": "2ad7ddccf61efdb2e9e7dd131aa7ae38f6dc6543",
    "colab": {
     "base_uri": "https://localhost:8080/",
     "height": 419
    },
    "colab_type": "code",
    "id": "a0Sqe1x7hjzu",
    "outputId": "da28f8a4-fb3c-4505-d9c5-34726bfb4246"
   },
   "source": [
    "Shoppers rely on Home Depot’s product authority to find and buy the latest products and to get timely solutions to their home improvement needs. From installing a new ceiling fan to remodeling an entire kitchen, with the click of a mouse or tap of the screen, customers expect the correct results to their queries – quickly. Speed, accuracy and delivering a frictionless customer experience are essential.\n",
    "\n",
    "In this competition, Home Depot is asking Kagglers to help them improve their customers' shopping experience by developing a model that can accurately predict the relevance of search results.\n",
    "\n",
    "Search relevancy is an implicit measure Home Depot uses to gauge how quickly they can get customers to the right products. Currently, human raters evaluate the impact of potential changes to their search algorithms, which is a slow and subjective process. By removing or minimizing human input in search relevance evaluation, Home Depot hopes to increase the number of iterations their team can perform on the current search algorithms."
   ]
  },
  {
   "cell_type": "markdown",
   "metadata": {},
   "source": [
    "### Data description"
   ]
  },
  {
   "cell_type": "markdown",
   "metadata": {},
   "source": [
    "This data set contains a number of products and real customer search terms from Home Depot's website. The challenge is to predict a relevance score for the provided combinations of search terms and products. To create the ground truth labels, Home Depot has crowdsourced the search/product pairs to multiple human raters.\n",
    "\n",
    "The relevance is a number between 1 (not relevant) to 3 (highly relevant). For example, a search for \"AA battery\" would be considered highly relevant to a pack of size AA batteries (relevance = 3), mildly relevant to a cordless drill battery (relevance = 2), and not relevant to a snow shovel (relevance = 1).\n",
    "\n",
    "Each pair was evaluated by at least three human raters. The provided relevance scores are the average value of the ratings. There are three additional things to know about the ratings:\n",
    "\n",
    "The specific instructions given to the raters is provided in relevance_instructions.docx.\n",
    "Raters did not have access to the attributes.\n",
    "Raters had access to product images, while the competition does not include images.\n",
    "Your task is to predict the relevance for each pair listed in the test set. Note that the test set contains both seen and unseen search terms.\n",
    "\n"
   ]
  },
  {
   "cell_type": "markdown",
   "metadata": {},
   "source": [
    "### File descriptions\n",
    "\n",
    "- train.csv - the training set, contains products, searches, and relevance scores\n",
    "- test.csv - the test set, contains products and searches. You must predict the relevance for these pairs.\n",
    "- product_descriptions.csv - contains a text description of each product. You may join this table to the training or test set via the product_uid.\n",
    "- attributes.csv -  provides extended information about a subset of the products (typically representing detailed technical specifications). Not every product will have attributes.\n",
    "- sample_submission.csv - a file showing the correct submission format\n",
    "- relevance_instructions.docx - the instructions provided to human raters\n",
    "\n",
    "### Data fields\n",
    "\n",
    "- id - a unique Id field which represents a (search_term, product_uid) pair\n",
    "- product_uid - an id for the products\n",
    "- product_title - the product title\n",
    "- product_description - the text description of the product (may contain HTML content)\n",
    "- search_term - the search query\n",
    "- relevance - the average of the relevance ratings for a given id\n",
    "- name - an attribute name\n",
    "- value - the attribute's value"
   ]
  },
  {
   "cell_type": "code",
   "execution_count": 5,
   "metadata": {
    "_uuid": "1720d9873a1549cd29ce34e9c821ca3628dfd3fe",
    "colab": {},
    "colab_type": "code",
    "id": "nqvGk3kkhgSv"
   },
   "outputs": [],
   "source": [
    "import numpy as np\n",
    "import pandas as pd\n",
    "from sklearn.ensemble import RandomForestRegressor, BaggingRegressor\n",
    "from nltk.stem.snowball import SnowballStemmer\n",
    "\n",
    "stemmer = SnowballStemmer('english')\n",
    "\n",
    "training_data = pd.read_csv(\"input/train.csv.zip\", encoding=\"ISO-8859-1\")\n",
    "testing_data = pd.read_csv(\"input/test.csv.zip\", encoding=\"ISO-8859-1\")\n",
    "attribute_data = pd.read_csv('input/attributes.csv.zip')\n",
    "descriptions = pd.read_csv('input/product_descriptions.csv.zip')\n",
    "\n",
    "# training_data = pd.merge(training_data, descriptions, \n",
    "#                          on=\"product_uid\", how=\"left\")\n",
    "\n"
   ]
  },
  {
   "cell_type": "markdown",
   "metadata": {},
   "source": [
    "Let's try to examing the data and try to spot if there are anything suspicious about it"
   ]
  },
  {
   "cell_type": "code",
   "execution_count": 9,
   "metadata": {
    "_uuid": "7f54e9a8f8cc18605e917d47aca6feebfb97b151",
    "colab": {
     "base_uri": "https://localhost:8080/",
     "height": 34
    },
    "colab_type": "code",
    "id": "78PcQC__hgS4",
    "outputId": "862af9df-97c3-49be-ed7e-5d19ed08c58d"
   },
   "outputs": [
    {
     "name": "stdout",
     "output_type": "stream",
     "text": [
      "training data shape is: (74067, 5)\n",
      "testing data shape is: (166693, 4)\n",
      "attribute data shape is: (2044803, 3)\n",
      "description data shape is: (124428, 2)\n"
     ]
    }
   ],
   "source": [
    "print(\"training data shape is:\",training_data.shape)\n",
    "print(\"testing data shape is:\",testing_data.shape)\n",
    "print(\"attribute data shape is:\",attribute_data.shape)\n",
    "print(\"description data shape is:\",descriptions.shape)"
   ]
  },
  {
   "cell_type": "code",
   "execution_count": 65,
   "metadata": {},
   "outputs": [
    {
     "name": "stdout",
     "output_type": "stream",
     "text": [
      "training data has empty values: False\n",
      "testing data has empty values: False\n",
      "attribute data has empty values: True\n",
      "description data has empty values: False\n"
     ]
    }
   ],
   "source": [
    "print(\"training data has empty values:\",training_data.isnull().values.any())\n",
    "print(\"testing data has empty values:\",testing_data.isnull().values.any())\n",
    "print(\"attribute data has empty values:\",attribute_data.isnull().values.any())\n",
    "print(\"description data has empty values:\",descriptions.isnull().values.any())"
   ]
  },
  {
   "cell_type": "code",
   "execution_count": 10,
   "metadata": {},
   "outputs": [
    {
     "data": {
      "text/html": [
       "<div>\n",
       "<style scoped>\n",
       "    .dataframe tbody tr th:only-of-type {\n",
       "        vertical-align: middle;\n",
       "    }\n",
       "\n",
       "    .dataframe tbody tr th {\n",
       "        vertical-align: top;\n",
       "    }\n",
       "\n",
       "    .dataframe thead th {\n",
       "        text-align: right;\n",
       "    }\n",
       "</style>\n",
       "<table border=\"1\" class=\"dataframe\">\n",
       "  <thead>\n",
       "    <tr style=\"text-align: right;\">\n",
       "      <th></th>\n",
       "      <th>id</th>\n",
       "      <th>product_uid</th>\n",
       "      <th>product_title</th>\n",
       "      <th>search_term</th>\n",
       "      <th>relevance</th>\n",
       "    </tr>\n",
       "  </thead>\n",
       "  <tbody>\n",
       "    <tr>\n",
       "      <th>0</th>\n",
       "      <td>2</td>\n",
       "      <td>100001</td>\n",
       "      <td>Simpson Strong-Tie 12-Gauge Angle</td>\n",
       "      <td>angle bracket</td>\n",
       "      <td>3.00</td>\n",
       "    </tr>\n",
       "    <tr>\n",
       "      <th>1</th>\n",
       "      <td>3</td>\n",
       "      <td>100001</td>\n",
       "      <td>Simpson Strong-Tie 12-Gauge Angle</td>\n",
       "      <td>l bracket</td>\n",
       "      <td>2.50</td>\n",
       "    </tr>\n",
       "    <tr>\n",
       "      <th>2</th>\n",
       "      <td>9</td>\n",
       "      <td>100002</td>\n",
       "      <td>BEHR Premium Textured DeckOver 1-gal. #SC-141 ...</td>\n",
       "      <td>deck over</td>\n",
       "      <td>3.00</td>\n",
       "    </tr>\n",
       "    <tr>\n",
       "      <th>3</th>\n",
       "      <td>16</td>\n",
       "      <td>100005</td>\n",
       "      <td>Delta Vero 1-Handle Shower Only Faucet Trim Ki...</td>\n",
       "      <td>rain shower head</td>\n",
       "      <td>2.33</td>\n",
       "    </tr>\n",
       "    <tr>\n",
       "      <th>4</th>\n",
       "      <td>17</td>\n",
       "      <td>100005</td>\n",
       "      <td>Delta Vero 1-Handle Shower Only Faucet Trim Ki...</td>\n",
       "      <td>shower only faucet</td>\n",
       "      <td>2.67</td>\n",
       "    </tr>\n",
       "    <tr>\n",
       "      <th>5</th>\n",
       "      <td>18</td>\n",
       "      <td>100006</td>\n",
       "      <td>Whirlpool 1.9 cu. ft. Over the Range Convectio...</td>\n",
       "      <td>convection otr</td>\n",
       "      <td>3.00</td>\n",
       "    </tr>\n",
       "    <tr>\n",
       "      <th>6</th>\n",
       "      <td>20</td>\n",
       "      <td>100006</td>\n",
       "      <td>Whirlpool 1.9 cu. ft. Over the Range Convectio...</td>\n",
       "      <td>microwave over stove</td>\n",
       "      <td>2.67</td>\n",
       "    </tr>\n",
       "    <tr>\n",
       "      <th>7</th>\n",
       "      <td>21</td>\n",
       "      <td>100006</td>\n",
       "      <td>Whirlpool 1.9 cu. ft. Over the Range Convectio...</td>\n",
       "      <td>microwaves</td>\n",
       "      <td>3.00</td>\n",
       "    </tr>\n",
       "    <tr>\n",
       "      <th>8</th>\n",
       "      <td>23</td>\n",
       "      <td>100007</td>\n",
       "      <td>Lithonia Lighting Quantum 2-Light Black LED Em...</td>\n",
       "      <td>emergency light</td>\n",
       "      <td>2.67</td>\n",
       "    </tr>\n",
       "    <tr>\n",
       "      <th>9</th>\n",
       "      <td>27</td>\n",
       "      <td>100009</td>\n",
       "      <td>House of Fara 3/4 in. x 3 in. x 8 ft. MDF Flut...</td>\n",
       "      <td>mdf 3/4</td>\n",
       "      <td>3.00</td>\n",
       "    </tr>\n",
       "  </tbody>\n",
       "</table>\n",
       "</div>"
      ],
      "text/plain": [
       "   id  product_uid                                      product_title  \\\n",
       "0   2       100001                  Simpson Strong-Tie 12-Gauge Angle   \n",
       "1   3       100001                  Simpson Strong-Tie 12-Gauge Angle   \n",
       "2   9       100002  BEHR Premium Textured DeckOver 1-gal. #SC-141 ...   \n",
       "3  16       100005  Delta Vero 1-Handle Shower Only Faucet Trim Ki...   \n",
       "4  17       100005  Delta Vero 1-Handle Shower Only Faucet Trim Ki...   \n",
       "5  18       100006  Whirlpool 1.9 cu. ft. Over the Range Convectio...   \n",
       "6  20       100006  Whirlpool 1.9 cu. ft. Over the Range Convectio...   \n",
       "7  21       100006  Whirlpool 1.9 cu. ft. Over the Range Convectio...   \n",
       "8  23       100007  Lithonia Lighting Quantum 2-Light Black LED Em...   \n",
       "9  27       100009  House of Fara 3/4 in. x 3 in. x 8 ft. MDF Flut...   \n",
       "\n",
       "            search_term  relevance  \n",
       "0         angle bracket       3.00  \n",
       "1             l bracket       2.50  \n",
       "2             deck over       3.00  \n",
       "3      rain shower head       2.33  \n",
       "4    shower only faucet       2.67  \n",
       "5        convection otr       3.00  \n",
       "6  microwave over stove       2.67  \n",
       "7            microwaves       3.00  \n",
       "8       emergency light       2.67  \n",
       "9               mdf 3/4       3.00  "
      ]
     },
     "execution_count": 10,
     "metadata": {},
     "output_type": "execute_result"
    }
   ],
   "source": [
    "training_data.head(10)"
   ]
  },
  {
   "cell_type": "code",
   "execution_count": 130,
   "metadata": {},
   "outputs": [
    {
     "name": "stdout",
     "output_type": "stream",
     "text": [
      "there are in total 53489 products \n",
      "there are in total 11795 search query \n",
      "there are in total 54667 product_uid\n"
     ]
    }
   ],
   "source": [
    "print(\"there are in total {} products \".format(len(training_data.product_title.unique())))\n",
    "print(\"there are in total {} search query \".format(len(training_data.search_term.unique())))\n",
    "print(\"there are in total {} product_uid\".format(len(training_data.product_uid.unique())))\n",
    "\n",
    "\n"
   ]
  },
  {
   "cell_type": "code",
   "execution_count": 11,
   "metadata": {},
   "outputs": [
    {
     "data": {
      "text/html": [
       "<div>\n",
       "<style scoped>\n",
       "    .dataframe tbody tr th:only-of-type {\n",
       "        vertical-align: middle;\n",
       "    }\n",
       "\n",
       "    .dataframe tbody tr th {\n",
       "        vertical-align: top;\n",
       "    }\n",
       "\n",
       "    .dataframe thead th {\n",
       "        text-align: right;\n",
       "    }\n",
       "</style>\n",
       "<table border=\"1\" class=\"dataframe\">\n",
       "  <thead>\n",
       "    <tr style=\"text-align: right;\">\n",
       "      <th></th>\n",
       "      <th>id</th>\n",
       "      <th>product_uid</th>\n",
       "      <th>product_title</th>\n",
       "      <th>search_term</th>\n",
       "    </tr>\n",
       "  </thead>\n",
       "  <tbody>\n",
       "    <tr>\n",
       "      <th>0</th>\n",
       "      <td>1</td>\n",
       "      <td>100001</td>\n",
       "      <td>Simpson Strong-Tie 12-Gauge Angle</td>\n",
       "      <td>90 degree bracket</td>\n",
       "    </tr>\n",
       "    <tr>\n",
       "      <th>1</th>\n",
       "      <td>4</td>\n",
       "      <td>100001</td>\n",
       "      <td>Simpson Strong-Tie 12-Gauge Angle</td>\n",
       "      <td>metal l brackets</td>\n",
       "    </tr>\n",
       "    <tr>\n",
       "      <th>2</th>\n",
       "      <td>5</td>\n",
       "      <td>100001</td>\n",
       "      <td>Simpson Strong-Tie 12-Gauge Angle</td>\n",
       "      <td>simpson sku able</td>\n",
       "    </tr>\n",
       "    <tr>\n",
       "      <th>3</th>\n",
       "      <td>6</td>\n",
       "      <td>100001</td>\n",
       "      <td>Simpson Strong-Tie 12-Gauge Angle</td>\n",
       "      <td>simpson strong  ties</td>\n",
       "    </tr>\n",
       "    <tr>\n",
       "      <th>4</th>\n",
       "      <td>7</td>\n",
       "      <td>100001</td>\n",
       "      <td>Simpson Strong-Tie 12-Gauge Angle</td>\n",
       "      <td>simpson strong tie hcc668</td>\n",
       "    </tr>\n",
       "    <tr>\n",
       "      <th>5</th>\n",
       "      <td>8</td>\n",
       "      <td>100001</td>\n",
       "      <td>Simpson Strong-Tie 12-Gauge Angle</td>\n",
       "      <td>wood connectors</td>\n",
       "    </tr>\n",
       "    <tr>\n",
       "      <th>6</th>\n",
       "      <td>10</td>\n",
       "      <td>100003</td>\n",
       "      <td>STERLING Ensemble 33-1/4 in. x 60 in. x 75-1/4...</td>\n",
       "      <td>bath and shower kit</td>\n",
       "    </tr>\n",
       "    <tr>\n",
       "      <th>7</th>\n",
       "      <td>11</td>\n",
       "      <td>100003</td>\n",
       "      <td>STERLING Ensemble 33-1/4 in. x 60 in. x 75-1/4...</td>\n",
       "      <td>bath drain kit</td>\n",
       "    </tr>\n",
       "    <tr>\n",
       "      <th>8</th>\n",
       "      <td>12</td>\n",
       "      <td>100003</td>\n",
       "      <td>STERLING Ensemble 33-1/4 in. x 60 in. x 75-1/4...</td>\n",
       "      <td>one piece tub shower</td>\n",
       "    </tr>\n",
       "    <tr>\n",
       "      <th>9</th>\n",
       "      <td>13</td>\n",
       "      <td>100004</td>\n",
       "      <td>Grape Solar 265-Watt Polycrystalline Solar Pan...</td>\n",
       "      <td>solar panel</td>\n",
       "    </tr>\n",
       "  </tbody>\n",
       "</table>\n",
       "</div>"
      ],
      "text/plain": [
       "   id  product_uid                                      product_title  \\\n",
       "0   1       100001                  Simpson Strong-Tie 12-Gauge Angle   \n",
       "1   4       100001                  Simpson Strong-Tie 12-Gauge Angle   \n",
       "2   5       100001                  Simpson Strong-Tie 12-Gauge Angle   \n",
       "3   6       100001                  Simpson Strong-Tie 12-Gauge Angle   \n",
       "4   7       100001                  Simpson Strong-Tie 12-Gauge Angle   \n",
       "5   8       100001                  Simpson Strong-Tie 12-Gauge Angle   \n",
       "6  10       100003  STERLING Ensemble 33-1/4 in. x 60 in. x 75-1/4...   \n",
       "7  11       100003  STERLING Ensemble 33-1/4 in. x 60 in. x 75-1/4...   \n",
       "8  12       100003  STERLING Ensemble 33-1/4 in. x 60 in. x 75-1/4...   \n",
       "9  13       100004  Grape Solar 265-Watt Polycrystalline Solar Pan...   \n",
       "\n",
       "                 search_term  \n",
       "0          90 degree bracket  \n",
       "1           metal l brackets  \n",
       "2           simpson sku able  \n",
       "3       simpson strong  ties  \n",
       "4  simpson strong tie hcc668  \n",
       "5            wood connectors  \n",
       "6        bath and shower kit  \n",
       "7             bath drain kit  \n",
       "8       one piece tub shower  \n",
       "9                solar panel  "
      ]
     },
     "execution_count": 11,
     "metadata": {},
     "output_type": "execute_result"
    }
   ],
   "source": [
    "testing_data.head(10)"
   ]
  },
  {
   "cell_type": "code",
   "execution_count": null,
   "metadata": {},
   "outputs": [],
   "source": [
    "print(\"there are in total {} products \".format(len(training_data.product_title.unique())))\n",
    "print(\"there are in total {} search query \".format(len(training_data.search_term.unique())))\n",
    "print(\"there are in total {} product_uid\".format(len(training_data.product_uid.unique())))\n",
    "\n",
    "\n",
    "\n"
   ]
  },
  {
   "cell_type": "code",
   "execution_count": 12,
   "metadata": {},
   "outputs": [
    {
     "data": {
      "text/html": [
       "<div>\n",
       "<style scoped>\n",
       "    .dataframe tbody tr th:only-of-type {\n",
       "        vertical-align: middle;\n",
       "    }\n",
       "\n",
       "    .dataframe tbody tr th {\n",
       "        vertical-align: top;\n",
       "    }\n",
       "\n",
       "    .dataframe thead th {\n",
       "        text-align: right;\n",
       "    }\n",
       "</style>\n",
       "<table border=\"1\" class=\"dataframe\">\n",
       "  <thead>\n",
       "    <tr style=\"text-align: right;\">\n",
       "      <th></th>\n",
       "      <th>product_uid</th>\n",
       "      <th>name</th>\n",
       "      <th>value</th>\n",
       "    </tr>\n",
       "  </thead>\n",
       "  <tbody>\n",
       "    <tr>\n",
       "      <th>0</th>\n",
       "      <td>100001.0</td>\n",
       "      <td>Bullet01</td>\n",
       "      <td>Versatile connector for various 90° connection...</td>\n",
       "    </tr>\n",
       "    <tr>\n",
       "      <th>1</th>\n",
       "      <td>100001.0</td>\n",
       "      <td>Bullet02</td>\n",
       "      <td>Stronger than angled nailing or screw fastenin...</td>\n",
       "    </tr>\n",
       "    <tr>\n",
       "      <th>2</th>\n",
       "      <td>100001.0</td>\n",
       "      <td>Bullet03</td>\n",
       "      <td>Help ensure joints are consistently straight a...</td>\n",
       "    </tr>\n",
       "    <tr>\n",
       "      <th>3</th>\n",
       "      <td>100001.0</td>\n",
       "      <td>Bullet04</td>\n",
       "      <td>Dimensions: 3 in. x 3 in. x 1-1/2 in.</td>\n",
       "    </tr>\n",
       "    <tr>\n",
       "      <th>4</th>\n",
       "      <td>100001.0</td>\n",
       "      <td>Bullet05</td>\n",
       "      <td>Made from 12-Gauge steel</td>\n",
       "    </tr>\n",
       "    <tr>\n",
       "      <th>5</th>\n",
       "      <td>100001.0</td>\n",
       "      <td>Bullet06</td>\n",
       "      <td>Galvanized for extra corrosion resistance</td>\n",
       "    </tr>\n",
       "    <tr>\n",
       "      <th>6</th>\n",
       "      <td>100001.0</td>\n",
       "      <td>Bullet07</td>\n",
       "      <td>Install with 10d common nails or #9 x 1-1/2 in...</td>\n",
       "    </tr>\n",
       "    <tr>\n",
       "      <th>7</th>\n",
       "      <td>100001.0</td>\n",
       "      <td>Gauge</td>\n",
       "      <td>12</td>\n",
       "    </tr>\n",
       "    <tr>\n",
       "      <th>8</th>\n",
       "      <td>100001.0</td>\n",
       "      <td>Material</td>\n",
       "      <td>Galvanized Steel</td>\n",
       "    </tr>\n",
       "    <tr>\n",
       "      <th>9</th>\n",
       "      <td>100001.0</td>\n",
       "      <td>MFG Brand Name</td>\n",
       "      <td>Simpson Strong-Tie</td>\n",
       "    </tr>\n",
       "  </tbody>\n",
       "</table>\n",
       "</div>"
      ],
      "text/plain": [
       "   product_uid            name  \\\n",
       "0     100001.0        Bullet01   \n",
       "1     100001.0        Bullet02   \n",
       "2     100001.0        Bullet03   \n",
       "3     100001.0        Bullet04   \n",
       "4     100001.0        Bullet05   \n",
       "5     100001.0        Bullet06   \n",
       "6     100001.0        Bullet07   \n",
       "7     100001.0           Gauge   \n",
       "8     100001.0        Material   \n",
       "9     100001.0  MFG Brand Name   \n",
       "\n",
       "                                               value  \n",
       "0  Versatile connector for various 90° connection...  \n",
       "1  Stronger than angled nailing or screw fastenin...  \n",
       "2  Help ensure joints are consistently straight a...  \n",
       "3              Dimensions: 3 in. x 3 in. x 1-1/2 in.  \n",
       "4                           Made from 12-Gauge steel  \n",
       "5          Galvanized for extra corrosion resistance  \n",
       "6  Install with 10d common nails or #9 x 1-1/2 in...  \n",
       "7                                                 12  \n",
       "8                                   Galvanized Steel  \n",
       "9                                 Simpson Strong-Tie  "
      ]
     },
     "execution_count": 12,
     "metadata": {},
     "output_type": "execute_result"
    }
   ],
   "source": [
    "attribute_data.head(10)"
   ]
  },
  {
   "cell_type": "code",
   "execution_count": 25,
   "metadata": {},
   "outputs": [
    {
     "data": {
      "text/html": [
       "<div>\n",
       "<style scoped>\n",
       "    .dataframe tbody tr th:only-of-type {\n",
       "        vertical-align: middle;\n",
       "    }\n",
       "\n",
       "    .dataframe tbody tr th {\n",
       "        vertical-align: top;\n",
       "    }\n",
       "\n",
       "    .dataframe thead th {\n",
       "        text-align: right;\n",
       "    }\n",
       "</style>\n",
       "<table border=\"1\" class=\"dataframe\">\n",
       "  <thead>\n",
       "    <tr style=\"text-align: right;\">\n",
       "      <th></th>\n",
       "      <th>product_uid</th>\n",
       "      <th>product_description</th>\n",
       "    </tr>\n",
       "  </thead>\n",
       "  <tbody>\n",
       "    <tr>\n",
       "      <th>0</th>\n",
       "      <td>100001</td>\n",
       "      <td>Not only do angles make joints stronger, they ...</td>\n",
       "    </tr>\n",
       "    <tr>\n",
       "      <th>1</th>\n",
       "      <td>100002</td>\n",
       "      <td>BEHR Premium Textured DECKOVER is an innovativ...</td>\n",
       "    </tr>\n",
       "    <tr>\n",
       "      <th>2</th>\n",
       "      <td>100003</td>\n",
       "      <td>Classic architecture meets contemporary design...</td>\n",
       "    </tr>\n",
       "    <tr>\n",
       "      <th>3</th>\n",
       "      <td>100004</td>\n",
       "      <td>The Grape Solar 265-Watt Polycrystalline PV So...</td>\n",
       "    </tr>\n",
       "    <tr>\n",
       "      <th>4</th>\n",
       "      <td>100005</td>\n",
       "      <td>Update your bathroom with the Delta Vero Singl...</td>\n",
       "    </tr>\n",
       "    <tr>\n",
       "      <th>5</th>\n",
       "      <td>100006</td>\n",
       "      <td>Achieving delicious results is almost effortle...</td>\n",
       "    </tr>\n",
       "    <tr>\n",
       "      <th>6</th>\n",
       "      <td>100007</td>\n",
       "      <td>The Quantum Adjustable 2-Light LED Black Emerg...</td>\n",
       "    </tr>\n",
       "    <tr>\n",
       "      <th>7</th>\n",
       "      <td>100008</td>\n",
       "      <td>The Teks #10 x 1-1/2 in. Zinc-Plated Steel Was...</td>\n",
       "    </tr>\n",
       "    <tr>\n",
       "      <th>8</th>\n",
       "      <td>100009</td>\n",
       "      <td>Get the House of Fara 3/4 in. x 3 in. x 8 ft. ...</td>\n",
       "    </tr>\n",
       "    <tr>\n",
       "      <th>9</th>\n",
       "      <td>100010</td>\n",
       "      <td>Valley View Industries Metal Stakes (4-Pack) a...</td>\n",
       "    </tr>\n",
       "  </tbody>\n",
       "</table>\n",
       "</div>"
      ],
      "text/plain": [
       "   product_uid                                product_description\n",
       "0       100001  Not only do angles make joints stronger, they ...\n",
       "1       100002  BEHR Premium Textured DECKOVER is an innovativ...\n",
       "2       100003  Classic architecture meets contemporary design...\n",
       "3       100004  The Grape Solar 265-Watt Polycrystalline PV So...\n",
       "4       100005  Update your bathroom with the Delta Vero Singl...\n",
       "5       100006  Achieving delicious results is almost effortle...\n",
       "6       100007  The Quantum Adjustable 2-Light LED Black Emerg...\n",
       "7       100008  The Teks #10 x 1-1/2 in. Zinc-Plated Steel Was...\n",
       "8       100009  Get the House of Fara 3/4 in. x 3 in. x 8 ft. ...\n",
       "9       100010  Valley View Industries Metal Stakes (4-Pack) a..."
      ]
     },
     "execution_count": 25,
     "metadata": {},
     "output_type": "execute_result"
    }
   ],
   "source": [
    "descriptions.head(10)"
   ]
  },
  {
   "cell_type": "code",
   "execution_count": 32,
   "metadata": {},
   "outputs": [
    {
     "data": {
      "text/plain": [
       "<matplotlib.axes._subplots.AxesSubplot at 0x1a1cb9fc88>"
      ]
     },
     "execution_count": 32,
     "metadata": {},
     "output_type": "execute_result"
    },
    {
     "data": {
      "image/png": "[encoded data removed]",
      "text/plain": [
       "<Figure size 432x288 with 1 Axes>"
      ]
     },
     "metadata": {
      "needs_background": "light"
     },
     "output_type": "display_data"
    }
   ],
   "source": [
    "(descriptions.product_description.str.count('\\d+') + 1).hist(bins=30)\n",
    "(descriptions.product_description.str.count('\\W')+1).hist(bins=30)\n",
    "\n",
    "\n"
   ]
  },
  {
   "cell_type": "code",
   "execution_count": 93,
   "metadata": {},
   "outputs": [
    {
     "data": {
      "text/plain": [
       "<matplotlib.axes._subplots.AxesSubplot at 0x1a227dea20>"
      ]
     },
     "execution_count": 93,
     "metadata": {},
     "output_type": "execute_result"
    },
    {
     "data": {
      "image/png": "[encoded data removed]",
      "text/plain": [
       "<Figure size 432x288 with 1 Axes>"
      ]
     },
     "metadata": {
      "needs_background": "light"
     },
     "output_type": "display_data"
    }
   ],
   "source": [
    "(training_data.product_title.str.count(\"\\\\d+\") + 1).hist(bins=30)#plot number of digits in title\n",
    "(training_data.product_title.str.count(\"\\\\w+\") + 1).hist(bins=30)#plot number of digits in title\n",
    "\n",
    "\n",
    "\n"
   ]
  },
  {
   "cell_type": "code",
   "execution_count": 95,
   "metadata": {},
   "outputs": [
    {
     "data": {
      "text/plain": [
       "<matplotlib.axes._subplots.AxesSubplot at 0x1a23235a90>"
      ]
     },
     "execution_count": 95,
     "metadata": {},
     "output_type": "execute_result"
    },
    {
     "data": {
      "image/png": "[encoded data removed]",
      "text/plain": [
       "<Figure size 432x288 with 1 Axes>"
      ]
     },
     "metadata": {
      "needs_background": "light"
     },
     "output_type": "display_data"
    }
   ],
   "source": [
    "(training_data.search_term.str.count(\"\\\\w+\") + 1).hist(bins=30) #plot number of words in search therms\n",
    "(training_data.search_term.str.count(\"\\\\d+\") + 1).hist(bins=30) #plot number of digits in search terms\n",
    "\n",
    "\n",
    "\n",
    "\n",
    "\n"
   ]
  },
  {
   "cell_type": "code",
   "execution_count": 108,
   "metadata": {},
   "outputs": [
    {
     "data": {
      "text/plain": [
       "<matplotlib.axes._subplots.AxesSubplot at 0x1a23b427b8>"
      ]
     },
     "execution_count": 108,
     "metadata": {},
     "output_type": "execute_result"
    },
    {
     "data": {
      "image/png": "[encoded data removed]",
      "text/plain": [
       "<Figure size 432x288 with 1 Axes>"
      ]
     },
     "metadata": {
      "needs_background": "light"
     },
     "output_type": "display_data"
    }
   ],
   "source": [
    "(training_data.relevance ).hist(bins=30)"
   ]
  },
  {
   "cell_type": "code",
   "execution_count": 114,
   "metadata": {},
   "outputs": [
    {
     "data": {
      "image/png": "[encoded data removed]",
      "text/plain": [
       "<Figure size 432x288 with 1 Axes>"
      ]
     },
     "metadata": {
      "needs_background": "light"
     },
     "output_type": "display_data"
    }
   ],
   "source": [
    "%matplotlib inline\n",
    "import matplotlib.pyplot as plt\n",
    "from scipy.stats import norm  \n",
    "\n",
    "training_data.relevance.plot(kind='hist', normed=True)\n",
    "\n",
    "mu, std = norm.fit(training_data.relevance)\n",
    "\n",
    "xmin, xmax = plt.xlim()\n",
    "x = np.linspace(xmin, xmax, 100)\n",
    "p = norm.pdf(x, mu, std)\n",
    "plt.plot(x, p, 'k', linewidth=2)\n",
    "title = \"Fit results: mu = %.2f,  std = %.2f\" % (mu, std)\n",
    "plt.title(title)\n",
    "\n",
    "plt.show()"
   ]
  },
  {
   "cell_type": "code",
   "execution_count": 50,
   "metadata": {},
   "outputs": [
    {
     "name": "stdout",
     "output_type": "stream",
     "text": [
      "total data has html tags in 173\n"
     ]
    }
   ],
   "source": [
    "print('total data has html tags in',descriptions.product_description.str.count('<br$').values.sum())"
   ]
  },
  {
   "cell_type": "code",
   "execution_count": 26,
   "metadata": {
    "scrolled": true
   },
   "outputs": [
    {
     "data": {
      "text/plain": [
       "[[100050,\n",
       "  'Sit back and relax in comfort and style in these Beverly Patio Dining Armchairs with Bare Cushions (2-Pack) from Hampton Bay. Perfect for a deck, porch, patio or sunroom, the chairs are made with a powder-coated, sturdy and durable rust-resistant, steel-reinforced frame with all-weather resin wicker to help withstand outdoor elements. Inspired by vintage styles, they feature a woven multi-brown wicker finish and include bare seat cushions that can be customized with slipcovers through the Choose Your Own Color option.Part of the Choose Your Own Color program, slipcovers for cushions must be purchased separatelyAll-weather resin wicker crafts a versatile piece for indoor and outdoor useFashioned with a multi-brown wicker finish for a vintage aesthetic in your outdoor living areaNo assembly requiredAll components packed in 1 boxCoordinates with other brown wicker items in the Beverly collection (sold separately)2-year limited frame, fabric and weave warrantyPowder-coated steel frame is durable and rust-resistantMore options available, CLICK HERE to Choose Your Own ColorCustomizable items cannot be returned. Click here to review our return policy for additional information regarding returns<br'],\n",
       " [100247,\n",
       "  'Choose among several fabric options to coordinate your outdoor decor theme with these Posada Patio Dining Chairs with Bare Cushions from Hampton Bay. Or, go the DIY route and fashion your own slipcovers with fabric from another provider. Either way, these all-weather armless dining side chairs are sure to spruce up your patio, deck or porch. This item is part of the Choose Your Own Color program and comes with bare cushions (customizable slipcovers available for an additional price and shipped separately).Part of the Choose Your Own Color program, slipcovers for cushions must be purchased separatelyNo assembly required2 chairs and 2 bare cushions packed in 1 boxClean with mild soap and waterCoordinates with other patio furniture and accessories in Posada collection, available separatelyEach chair supports up to 300 lbs.2-year limited frame and weave warrantyPowder-coated steel frame is durable and rust-resistantMore options available, CLICK HERE to Choose Your Own ColorCustomizable items cannot be returned. Click here to review our return policy for additional information regarding returns<br'],\n",
       " [100585,\n",
       "  'Relax in comfort and style with this Spring Haven Chaise Lounge. Perfect for the patio, porch or sunroom, the chaise lounge combines a sturdy rust-resistant, steel frame with all-weather resin for seasons of outdoor use. Includes bare cushions that you can customize your patio collection. Coordinates with other pieces in the Spring Haven collection (sold separately) or purchase as stand-alone piece.Multi-tone brown wicker finish for a sophisticated lookPowder-coated steel reinforced frame is durable and rust-resistantAll-weather resin wicker resists the outdoor elementsDesigned for easy assemblyCoordinates with other items in Spring Haven collection (sold separately)Durable steel frameGreat for patios, porches, sunroomsMore options available, CLICK HERE to Choose Your Own ColorCustomizable items cannot be returned. Click here to review our return policy for additional information regarding returns<br']]"
      ]
     },
     "execution_count": 26,
     "metadata": {},
     "output_type": "execute_result"
    }
   ],
   "source": [
    "descriptions[descriptions.product_description.str.contains(\"<br\")].values.tolist()[:3]"
   ]
  },
  {
   "cell_type": "code",
   "execution_count": 70,
   "metadata": {},
   "outputs": [
    {
     "data": {
      "text/plain": [
       "173"
      ]
     },
     "execution_count": 70,
     "metadata": {},
     "output_type": "execute_result"
    }
   ],
   "source": [
    "descriptions.product_description.str.contains(\"Click here to review our return policy for additional information regarding returns\").values.sum()"
   ]
  },
  {
   "cell_type": "code",
   "execution_count": 57,
   "metadata": {},
   "outputs": [
    {
     "data": {
      "text/html": [
       "<div>\n",
       "<style scoped>\n",
       "    .dataframe tbody tr th:only-of-type {\n",
       "        vertical-align: middle;\n",
       "    }\n",
       "\n",
       "    .dataframe tbody tr th {\n",
       "        vertical-align: top;\n",
       "    }\n",
       "\n",
       "    .dataframe thead th {\n",
       "        text-align: right;\n",
       "    }\n",
       "</style>\n",
       "<table border=\"1\" class=\"dataframe\">\n",
       "  <thead>\n",
       "    <tr style=\"text-align: right;\">\n",
       "      <th></th>\n",
       "      <th>id</th>\n",
       "      <th>product_uid</th>\n",
       "      <th>product_title</th>\n",
       "      <th>search_term</th>\n",
       "      <th>relevance</th>\n",
       "    </tr>\n",
       "  </thead>\n",
       "  <tbody>\n",
       "    <tr>\n",
       "      <th>3377</th>\n",
       "      <td>10452</td>\n",
       "      <td>101800</td>\n",
       "      <td>Kaleen Habitat Bahama Rose Paprika 4 ft. x 6 f...</td>\n",
       "      <td>4 x 6</td>\n",
       "      <td>2.00</td>\n",
       "    </tr>\n",
       "    <tr>\n",
       "      <th>3650</th>\n",
       "      <td>11307</td>\n",
       "      <td>101959</td>\n",
       "      <td>Pressure-Treated Timber #2 Southern Yellow Pin...</td>\n",
       "      <td>4 x 6</td>\n",
       "      <td>1.67</td>\n",
       "    </tr>\n",
       "    <tr>\n",
       "      <th>3766</th>\n",
       "      <td>11705</td>\n",
       "      <td>102041</td>\n",
       "      <td>Kaleen Habitat Calypso Azure 4 ft. x 6 ft. Ind...</td>\n",
       "      <td>4 x 6</td>\n",
       "      <td>3.00</td>\n",
       "    </tr>\n",
       "    <tr>\n",
       "      <th>4513</th>\n",
       "      <td>14166</td>\n",
       "      <td>102472</td>\n",
       "      <td>Safavieh Lyndhurst Sage/Ivory 4 ft. x 6 ft. Ar...</td>\n",
       "      <td>4 x 6</td>\n",
       "      <td>1.33</td>\n",
       "    </tr>\n",
       "    <tr>\n",
       "      <th>7247</th>\n",
       "      <td>22691</td>\n",
       "      <td>104370</td>\n",
       "      <td>Wilsonart 48 in. x 96 in. Laminate Sheet in Mo...</td>\n",
       "      <td>48 x 96</td>\n",
       "      <td>2.33</td>\n",
       "    </tr>\n",
       "    <tr>\n",
       "      <th>7485</th>\n",
       "      <td>23405</td>\n",
       "      <td>104575</td>\n",
       "      <td>Yosemite Home Decor Undermount Stainless Steel...</td>\n",
       "      <td>23 x 38</td>\n",
       "      <td>2.33</td>\n",
       "    </tr>\n",
       "    <tr>\n",
       "      <th>13639</th>\n",
       "      <td>42190</td>\n",
       "      <td>110172</td>\n",
       "      <td>Sigman 20 ft. x 20 ft. Blue Tarp</td>\n",
       "      <td>20 x 20</td>\n",
       "      <td>2.67</td>\n",
       "    </tr>\n",
       "    <tr>\n",
       "      <th>15523</th>\n",
       "      <td>47882</td>\n",
       "      <td>112008</td>\n",
       "      <td>Wilsonart 48 in. x 96 in. Laminate Sheet in Su...</td>\n",
       "      <td>48 x 96</td>\n",
       "      <td>3.00</td>\n",
       "    </tr>\n",
       "    <tr>\n",
       "      <th>21335</th>\n",
       "      <td>65959</td>\n",
       "      <td>118174</td>\n",
       "      <td>1 in. Depth EZ Flow Heavy Duty (Case of 12)</td>\n",
       "      <td>20 x 20</td>\n",
       "      <td>1.67</td>\n",
       "    </tr>\n",
       "    <tr>\n",
       "      <th>23618</th>\n",
       "      <td>72613</td>\n",
       "      <td>120571</td>\n",
       "      <td>Honeywell 1 in. Allergen Superior Pleated FPR ...</td>\n",
       "      <td>20 x 20</td>\n",
       "      <td>1.67</td>\n",
       "    </tr>\n",
       "  </tbody>\n",
       "</table>\n",
       "</div>"
      ],
      "text/plain": [
       "          id  product_uid                                      product_title  \\\n",
       "3377   10452       101800  Kaleen Habitat Bahama Rose Paprika 4 ft. x 6 f...   \n",
       "3650   11307       101959  Pressure-Treated Timber #2 Southern Yellow Pin...   \n",
       "3766   11705       102041  Kaleen Habitat Calypso Azure 4 ft. x 6 ft. Ind...   \n",
       "4513   14166       102472  Safavieh Lyndhurst Sage/Ivory 4 ft. x 6 ft. Ar...   \n",
       "7247   22691       104370  Wilsonart 48 in. x 96 in. Laminate Sheet in Mo...   \n",
       "7485   23405       104575  Yosemite Home Decor Undermount Stainless Steel...   \n",
       "13639  42190       110172                   Sigman 20 ft. x 20 ft. Blue Tarp   \n",
       "15523  47882       112008  Wilsonart 48 in. x 96 in. Laminate Sheet in Su...   \n",
       "21335  65959       118174        1 in. Depth EZ Flow Heavy Duty (Case of 12)   \n",
       "23618  72613       120571  Honeywell 1 in. Allergen Superior Pleated FPR ...   \n",
       "\n",
       "      search_term  relevance  \n",
       "3377        4 x 6       2.00  \n",
       "3650        4 x 6       1.67  \n",
       "3766        4 x 6       3.00  \n",
       "4513        4 x 6       1.33  \n",
       "7247      48 x 96       2.33  \n",
       "7485      23 x 38       2.33  \n",
       "13639     20 x 20       2.67  \n",
       "15523     48 x 96       3.00  \n",
       "21335     20 x 20       1.67  \n",
       "23618     20 x 20       1.67  "
      ]
     },
     "execution_count": 57,
     "metadata": {},
     "output_type": "execute_result"
    }
   ],
   "source": [
    "training_data[training_data.search_term.str.contains(\"^\\\\d+ . \\\\d+$\")].head(10)"
   ]
  },
  {
   "cell_type": "code",
   "execution_count": 60,
   "metadata": {},
   "outputs": [
    {
     "data": {
      "text/html": [
       "<div>\n",
       "<style scoped>\n",
       "    .dataframe tbody tr th:only-of-type {\n",
       "        vertical-align: middle;\n",
       "    }\n",
       "\n",
       "    .dataframe tbody tr th {\n",
       "        vertical-align: top;\n",
       "    }\n",
       "\n",
       "    .dataframe thead th {\n",
       "        text-align: right;\n",
       "    }\n",
       "</style>\n",
       "<table border=\"1\" class=\"dataframe\">\n",
       "  <thead>\n",
       "    <tr style=\"text-align: right;\">\n",
       "      <th></th>\n",
       "      <th>id</th>\n",
       "      <th>product_uid</th>\n",
       "      <th>product_title</th>\n",
       "      <th>search_term</th>\n",
       "      <th>relevance</th>\n",
       "    </tr>\n",
       "  </thead>\n",
       "  <tbody>\n",
       "    <tr>\n",
       "      <th>44</th>\n",
       "      <td>164</td>\n",
       "      <td>100030</td>\n",
       "      <td>9.1 in. x 5.8 in. White Designer Shelf Bracket</td>\n",
       "      <td>8 4616809045 9</td>\n",
       "      <td>1.67</td>\n",
       "    </tr>\n",
       "    <tr>\n",
       "      <th>45</th>\n",
       "      <td>165</td>\n",
       "      <td>100030</td>\n",
       "      <td>9.1 in. x 5.8 in. White Designer Shelf Bracket</td>\n",
       "      <td>shelf bracket</td>\n",
       "      <td>3.00</td>\n",
       "    </tr>\n",
       "    <tr>\n",
       "      <th>46</th>\n",
       "      <td>166</td>\n",
       "      <td>100030</td>\n",
       "      <td>9.1 in. x 5.8 in. White Designer Shelf Bracket</td>\n",
       "      <td>white 4shelves</td>\n",
       "      <td>1.67</td>\n",
       "    </tr>\n",
       "  </tbody>\n",
       "</table>\n",
       "</div>"
      ],
      "text/plain": [
       "     id  product_uid                                   product_title  \\\n",
       "44  164       100030  9.1 in. x 5.8 in. White Designer Shelf Bracket   \n",
       "45  165       100030  9.1 in. x 5.8 in. White Designer Shelf Bracket   \n",
       "46  166       100030  9.1 in. x 5.8 in. White Designer Shelf Bracket   \n",
       "\n",
       "       search_term  relevance  \n",
       "44  8 4616809045 9       1.67  \n",
       "45   shelf bracket       3.00  \n",
       "46  white 4shelves       1.67  "
      ]
     },
     "execution_count": 60,
     "metadata": {},
     "output_type": "execute_result"
    }
   ],
   "source": [
    "training_data[training_data.product_uid==100030]"
   ]
  },
  {
   "cell_type": "markdown",
   "metadata": {},
   "source": [
    "from above the following conclusion follows. \n",
    "   - At first there exists fields which has html tags in for __description__ dataset. (maybe and error made by the scrapper) along with _Click here to review our return policy_\n",
    "   - There is no missing/empty values in any of these datasets \n",
    "   - in dataset __description__ field product_description contains more digits than word characters\n",
    "   - some query in dataset __training__ are too straight, it's hard to guess exactly what user meant in terms of broad  sense\n",
    "   - some of the search query in dataset __training__ has too specific meaning like 8 4616809045 9\t\n",
    "   - number of diggits appearence in the product title tends to be greater number of characters for dataset __training__ (and the same is true for search query field)\n",
    "   - the relevancy score is between 1 and 3. Because the density of product whose relevancy score is between 2 and 3 is higher we can conclude that most of search query has been classifield between 2 and 3\n",
    "   - The histogram of relevancy score doesn't follow standard distribution pattern\n",
    "   \n",
    "   \n",
    "   \n",
    "In order to continue the analysis we will need the whole datasets\n",
    "   - description datasets might be joined together to training by the product_uid (the same holds for attribute datasets) then clean the html parts\n",
    "   \n",
    "   "
   ]
  },
  {
   "cell_type": "markdown",
   "metadata": {},
   "source": [
    "## Data cleaning"
   ]
  },
  {
   "cell_type": "code",
   "execution_count": 96,
   "metadata": {
    "_uuid": "66018a689e75b4413ae9f944f625378e42e6bb55",
    "colab": {
     "base_uri": "https://localhost:8080/",
     "height": 314
    },
    "colab_type": "code",
    "id": "mD3zyodThgTD",
    "outputId": "e4611f88-2a09-4554-dcf3-f6995b02796a"
   },
   "outputs": [],
   "source": [
    "## let's create first the cleaning functions\n",
    "from bs4 import BeautifulSoup\n",
    "import lxml\n",
    "import re\n",
    "import nltk\n",
    "from nltk.corpus import stopwords # Import the stop word list\n",
    "from nltk.metrics import edit_distance\n",
    "from string import punctuation\n",
    "from collections import Counter\n",
    "\n",
    "\n",
    "def remove_html_tag(text):\n",
    "    soup = BeautifulSoup(text, 'lxml')\n",
    "    text = soup.get_text().replace('Click here to review our return policy for additional information regarding returns', '')\n",
    "    return text\n",
    "\n",
    "def str_stemmer(doc):\n",
    "    # split into tokens by white space\n",
    "    tokens = doc.split()\n",
    "    # remove punctuation from each token\n",
    "    table = str.maketrans('', '', punctuation)\n",
    "    tokens = [w.translate(table) for w in tokens]\n",
    "    # remove remaining tokens that are not alphabetic\n",
    "    tokens = [word for word in tokens if word.isalpha()]\n",
    "    # filter out stop words\n",
    "    stop_words = set(stopwords.words('english'))\n",
    "    tokens = [w for w in tokens if not w in stop_words]\n",
    "    # filter out short tokens\n",
    "    tokens = [word for word in tokens if len(word) > 1]\n",
    "    return ' '.join(tokens)\n",
    "\n",
    "def str_stemmer_title(s):\n",
    "    return \" \".join([stemmer.stem(word) for word in s.lower().split()])\n",
    "\n",
    "def str_common_word(str1, str2):\n",
    "    whole_set = set(str1.split())\n",
    "    return sum(int(str2.find(word)>=0) for word in whole_set)\n",
    "\n",
    "\n",
    "\n"
   ]
  },
  {
   "cell_type": "code",
   "execution_count": 78,
   "metadata": {},
   "outputs": [],
   "source": [
    "############### cleaning html tags ##################\n",
    "has_tag_in = descriptions.product_description.str.contains('<br')\n",
    "descriptions.loc[has_tag_in, 'product_description'] = descriptions.loc[has_tag_in, 'product_description'].map(lambda x:remove_html_tag(x))\n",
    "###############"
   ]
  },
  {
   "cell_type": "markdown",
   "metadata": {
    "_uuid": "a6295bb7eca8efb42e364a95169bec7b576dcae5",
    "colab_type": "text",
    "id": "n-UOBiz0hgTt"
   },
   "source": [
    "Examing the search query in the datasets __training__, there some misspelings for field _search_term_ contains a lot of misspelling (more than 3000). This might be fixed by using Google API "
   ]
  },
  {
   "cell_type": "code",
   "execution_count": 117,
   "metadata": {},
   "outputs": [],
   "source": [
    "import requests\n",
    "import re\n",
    "import time\n",
    "from random import randint\n",
    "\n",
    "START_SPELL_CHECK=\"<span class=\\\"spell\\\">Showing results for</span>\"\n",
    "END_SPELL_CHECK=\"<br><span class=\\\"spell_orig\\\">Search instead for\"\n",
    "HTML_Codes = ((\"'\", '&#39;'),('\"', '&quot;'),('>', '&gt;'),('<', '&lt;'),('&', '&amp;'))\n",
    "\n",
    "def spell_check(s):\n",
    "    q = '+'.join(s.split())\n",
    "    time.sleep(  randint(0,1) ) #relax and don't let google be angry\n",
    "    r = requests.get(\"https://www.google.co.uk/search?q=\"+q)\n",
    "    content = r.text\n",
    "    start=content.find(START_SPELL_CHECK) \n",
    "    if ( start > -1 ):\n",
    "        start = start + len(START_SPELL_CHECK)\n",
    "        end=content.find(END_SPELL_CHECK)\n",
    "        search= content[start:end]\n",
    "        search = re.sub(r'<[^>]+>', '', search)\n",
    "        for code in HTML_Codes:\n",
    "            search = search.replace(code[1], code[0])\n",
    "        search = search[1:]\n",
    "    else:\n",
    "        search = s\n",
    "    return search "
   ]
  },
  {
   "cell_type": "markdown",
   "metadata": {
    "_uuid": "8e4afafc8871c75d1395afe354536facd601c1fd"
   },
   "source": [
    "Indeed correcting the misspelings words might help, due to ability of reproducing the result at Kaggle just take it as a spot "
   ]
  },
  {
   "cell_type": "code",
   "execution_count": 119,
   "metadata": {
    "_uuid": "c86493591b2c80347dbb30794d17752dccb2999c",
    "colab": {
     "base_uri": "https://localhost:8080/",
     "height": 175
    },
    "colab_type": "code",
    "id": "qLK6NtZ7hgUJ",
    "outputId": "36df4ff3-d9c4-4a17-a38a-859fc59ea915"
   },
   "outputs": [],
   "source": [
    "training_data = pd.merge(training_data, descriptions, \n",
    "                         on=\"product_uid\", how=\"left\")"
   ]
  },
  {
   "cell_type": "code",
   "execution_count": 123,
   "metadata": {
    "_uuid": "e4a223cf4cf2162a5e723d69bd29287e958eb434",
    "colab": {
     "base_uri": "https://localhost:8080/",
     "height": 175
    },
    "colab_type": "code",
    "id": "BgBG3ClMhgUQ",
    "outputId": "7e8fddb7-b57b-4ed1-c1d0-120cdf68b63d"
   },
   "outputs": [
    {
     "name": "stdout",
     "output_type": "stream",
     "text": [
      "It has blank/empty fields  0\n"
     ]
    }
   ],
   "source": [
    "print(\"It has blank/empty fields \",training_data.isnull().values.sum())"
   ]
  },
  {
   "cell_type": "code",
   "execution_count": 124,
   "metadata": {
    "_uuid": "93fedb89bc23576ba7c52cbaac874acecfdbad77"
   },
   "outputs": [
    {
     "data": {
      "text/html": [
       "<div>\n",
       "<style scoped>\n",
       "    .dataframe tbody tr th:only-of-type {\n",
       "        vertical-align: middle;\n",
       "    }\n",
       "\n",
       "    .dataframe tbody tr th {\n",
       "        vertical-align: top;\n",
       "    }\n",
       "\n",
       "    .dataframe thead th {\n",
       "        text-align: right;\n",
       "    }\n",
       "</style>\n",
       "<table border=\"1\" class=\"dataframe\">\n",
       "  <thead>\n",
       "    <tr style=\"text-align: right;\">\n",
       "      <th></th>\n",
       "      <th>id</th>\n",
       "      <th>product_uid</th>\n",
       "      <th>relevance</th>\n",
       "    </tr>\n",
       "  </thead>\n",
       "  <tbody>\n",
       "    <tr>\n",
       "      <th>count</th>\n",
       "      <td>14.000000</td>\n",
       "      <td>14.000000</td>\n",
       "      <td>14.000000</td>\n",
       "    </tr>\n",
       "    <tr>\n",
       "      <th>mean</th>\n",
       "      <td>77397.785714</td>\n",
       "      <td>124132.857143</td>\n",
       "      <td>2.642143</td>\n",
       "    </tr>\n",
       "    <tr>\n",
       "      <th>std</th>\n",
       "      <td>42688.781685</td>\n",
       "      <td>16331.426990</td>\n",
       "      <td>0.307250</td>\n",
       "    </tr>\n",
       "    <tr>\n",
       "      <th>min</th>\n",
       "      <td>11705.000000</td>\n",
       "      <td>102041.000000</td>\n",
       "      <td>2.330000</td>\n",
       "    </tr>\n",
       "    <tr>\n",
       "      <th>25%</th>\n",
       "      <td>43613.000000</td>\n",
       "      <td>110631.000000</td>\n",
       "      <td>2.330000</td>\n",
       "    </tr>\n",
       "    <tr>\n",
       "      <th>50%</th>\n",
       "      <td>81846.500000</td>\n",
       "      <td>124047.000000</td>\n",
       "      <td>2.670000</td>\n",
       "    </tr>\n",
       "    <tr>\n",
       "      <th>75%</th>\n",
       "      <td>112707.500000</td>\n",
       "      <td>137228.500000</td>\n",
       "      <td>3.000000</td>\n",
       "    </tr>\n",
       "    <tr>\n",
       "      <th>max</th>\n",
       "      <td>143403.000000</td>\n",
       "      <td>152452.000000</td>\n",
       "      <td>3.000000</td>\n",
       "    </tr>\n",
       "  </tbody>\n",
       "</table>\n",
       "</div>"
      ],
      "text/plain": [
       "                  id    product_uid  relevance\n",
       "count      14.000000      14.000000  14.000000\n",
       "mean    77397.785714  124132.857143   2.642143\n",
       "std     42688.781685   16331.426990   0.307250\n",
       "min     11705.000000  102041.000000   2.330000\n",
       "25%     43613.000000  110631.000000   2.330000\n",
       "50%     81846.500000  124047.000000   2.670000\n",
       "75%    112707.500000  137228.500000   3.000000\n",
       "max    143403.000000  152452.000000   3.000000"
      ]
     },
     "execution_count": 124,
     "metadata": {},
     "output_type": "execute_result"
    }
   ],
   "source": [
    "# training_data[training_data.search_term.str.contains(\"^\\\\d+ . \\\\d+$\")].head(4)\n",
    "training_data[(training_data.search_term.str.cokntains(\"^\\\\d+ . \\\\d+$\") )& (training_data.relevance > 2)].describe()\n",
    "# (training_data.search_term.str.len() & (training_data.relevance > 2)).hist(bins=30)\n"
   ]
  },
  {
   "cell_type": "code",
   "execution_count": null,
   "metadata": {
    "_uuid": "a7421559e56add89cd7d499835d1f10ec97d5374"
   },
   "outputs": [],
   "source": [
    "training_data[(training_data.search_term.str.contains(\"^\\w+\") )& (training_data.relevance > 2)].describe()\n"
   ]
  },
  {
   "cell_type": "code",
   "execution_count": null,
   "metadata": {
    "_uuid": "c9c2046634982ef61d6a2a0f538b3c595d013351"
   },
   "outputs": [],
   "source": [
    "# exception_number = training_data[training_data.search_term.str.contains(\"^\\\\d+ . \\\\d+$\") ]['search_term'].values\n",
    "# training_data['test'] = training_data[training_data.search_term.str.contains(\"^\\\\d+ . \\\\d+$\") ]['search_term'].str.split(' ').values\n",
    "# training_data[['product_title', 'product_description', 'relevance', ]].corr()\n",
    "training_data.head(3)"
   ]
  },
  {
   "cell_type": "markdown",
   "metadata": {
    "_uuid": "97e55700afeec197d8d21bab071e5855b8b0f8c5",
    "colab_type": "text",
    "id": "CXJ6qmA8hgUb"
   },
   "source": [
    "In order to apply any standard method for analysis we have to standardize metric for text fields, which we define as follows\n",
    "\n",
    "- split into tokens by white space\n",
    "- remove punctuation from each token\n",
    "- remove remaining tokens that are not alphabetic\n",
    "- filter out stop words\n",
    "- filter out short tokens\n",
    "\n",
    "and lets also create new feature in the same time which will denote our hypothesis.\n",
    "\n",
    "\\begin{equation*}\n",
    "H_1 = \\{\\ \\frac{ card(search query)}{ card(product title)} = high\\ relevance\\ score\\} \\\\\n",
    "H_2 = \\{ length(search query)\\ influence\\ relevance\\ score \\} \\\\\n",
    "H_3 = \\{ card(common\\_words(search\\ query,product\\ title,product\\ description)) = influence\\ relevance\\ score \\} \\\\\n",
    "\\end{equation*}"
   ]
  },
  {
   "cell_type": "code",
   "execution_count": null,
   "metadata": {
    "_uuid": "9b1eff84cc084045a3dcfb7f4ebaf34380898781",
    "colab": {
     "base_uri": "https://localhost:8080/",
     "height": 230
    },
    "colab_type": "code",
    "id": "wNvUTEEahgUe",
    "outputId": "c43af0b5-7981-44d6-a691-49b0e53bd8f1"
   },
   "outputs": [],
   "source": [
    "from bs4 import BeautifulSoup\n",
    "import lxml\n",
    "import re\n",
    "import nltk\n",
    "from nltk.corpus import stopwords # Import the stop word list\n",
    "from nltk.metrics import edit_distance\n",
    "from string import punctuation\n",
    "from collections import Counter\n",
    "import nltk\n",
    "\n",
    "\n",
    "\n",
    "def remove_html_tag(text):\n",
    "    soup = BeautifulSoup(text, 'lxml')\n",
    "    text = soup.get_text().replace('Click here to review our return policy for additional information regarding returns', '')\n",
    "    return text\n",
    "\n",
    "def str_stemmer(doc):\n",
    "    # split into tokens by white space\n",
    "    tokens = doc.split()\n",
    "    # remove punctuation from each token\n",
    "    table = str.maketrans('', '', punctuation)\n",
    "    tokens = [w.translate(table) for w in tokens]\n",
    "    # remove remaining tokens that are not alphabetic\n",
    "    tokens = [word for word in tokens if word.isalpha()]\n",
    "    # filter out stop words\n",
    "    stop_words = set(stopwords.words('english'))\n",
    "    tokens = [w for w in tokens if not w in stop_words]\n",
    "    # filter out short tokens\n",
    "    tokens = [word for word in tokens if len(word) > 1]\n",
    "    return ' '.join(tokens)\n",
    "\n",
    "def str_stemmer_title(s):\n",
    "    return \" \".join([stemmer.stem(word) for word in s.lower().split()])\n",
    "\n",
    "def str_common_word(str1, str2):\n",
    "    whole_set = set(str1.split())\n",
    "    return sum(int(str2.find(word)>=0) for word in whole_set)\n",
    "\n",
    " \n",
    "\n"
   ]
  },
  {
   "cell_type": "markdown",
   "metadata": {
    "_uuid": "e330e25193001be60477ed0aa0f066ca56058873",
    "colab_type": "text",
    "id": "Fd5F1ZGphgUk"
   },
   "source": [
    "Now let's build feature accordingly to \n",
    "\\begin{equation*}\n",
    "H_1, H_2, H_3\\\\\n",
    "\\end{equation*}"
   ]
  },
  {
   "cell_type": "code",
   "execution_count": null,
   "metadata": {
    "_uuid": "ed1faf63f647d3b449e07af13c07296af5db752e"
   },
   "outputs": [],
   "source": [
    "import numpy as np\n",
    "import pandas as pd\n",
    "from sklearn.ensemble import RandomForestRegressor, BaggingRegressor\n",
    "from nltk.stem.snowball import SnowballStemmer\n",
    "\n",
    "stemmer = SnowballStemmer('english')\n",
    "\n",
    "training_data = pd.read_csv(\"../input/train.csv\", encoding=\"ISO-8859-1\")\n",
    "testing_data = pd.read_csv(\"../input/test.csv\", encoding=\"ISO-8859-1\")\n",
    "attribute_data = pd.read_csv('../input/attributes.csv')\n",
    "descriptions = pd.read_csv('../input/product_descriptions.csv')\n",
    "\n",
    "\n",
    "num_train = training_data.shape[0] # memorize the boundary\n",
    "\n",
    "training_data = pd.concat((training_data, testing_data), axis=0, ignore_index=True, sort=False)\n",
    "training_data = pd.merge(training_data, descriptions, how='left', on='product_uid')\n",
    "\n",
    "\n"
   ]
  },
  {
   "cell_type": "code",
   "execution_count": null,
   "metadata": {
    "_uuid": "21ab783ea78856137325738bb6cb6ae492c64e65",
    "colab": {
     "base_uri": "https://localhost:8080/",
     "height": 49
    },
    "colab_type": "code",
    "id": "8D-bAJDchgUn",
    "outputId": "8ee2b3bd-4c08-48c0-efd5-e7076655918b"
   },
   "outputs": [],
   "source": [
    "############### cleaning html tags ##################\n",
    "has_tag_in = training_data.product_description.str.contains('<br')\n",
    "training_data.loc[has_tag_in, 'product_description'] = training_data.loc[has_tag_in, 'product_description'].map(lambda x:remove_html_tag(x))\n",
    "###############\n",
    "\n",
    "############## apply stemming #####################\n",
    "training_data['search_term'] = training_data['search_term'].map(lambda x:str_stemmer_title(x))\n",
    "training_data['product_title'] = training_data['product_title'].map(lambda x:str_stemmer(x))\n",
    "\n",
    "training_data['product_description'] = training_data['product_description'].map(lambda x:str_stemmer(x))\n",
    "############## end stemming #####################\n",
    "\n"
   ]
  },
  {
   "cell_type": "code",
   "execution_count": null,
   "metadata": {
    "_uuid": "58a8fd421556f14aae735f4b179486d261dc2466",
    "colab": {
     "base_uri": "https://localhost:8080/",
     "height": 143
    },
    "colab_type": "code",
    "id": "moBdZ8SchgUw",
    "outputId": "5cdbd166-8cd5-45f2-ad5d-85d8c8ec6ddb"
   },
   "outputs": [],
   "source": [
    "#let's take a look if there is not empty search query now\n",
    "# empty_search_query = training_data[training_data.search_term.str.count('\\\\w+') < 1].values\n",
    "# print('data frame of empty seach query along with products',empty_search_query)\n",
    "# # training_data[training_data.product_uid==100030]\n",
    "is_anything_none = training_data.isnull().values.any()\n",
    "print('presence of Nan values',  is_anything_none)\n"
   ]
  },
  {
   "cell_type": "markdown",
   "metadata": {
    "_uuid": "62a89ae2e2925f9870e489dadb1b9168218b0523",
    "colab": {
     "base_uri": "https://localhost:8080/",
     "height": 49
    },
    "colab_type": "code",
    "id": "Z5kKyVZZhgU1",
    "outputId": "6f7182ae-d237-490b-c432-439cd47c2f2d"
   },
   "source": []
  },
  {
   "cell_type": "code",
   "execution_count": null,
   "metadata": {
    "_uuid": "5c7f97a17836a705f1e8a098ece7c171188c80a9",
    "colab": {
     "base_uri": "https://localhost:8080/",
     "height": 175
    },
    "colab_type": "code",
    "id": "SecjsKcjhgU4",
    "outputId": "bc13f12b-2ad7-45f4-c1a8-ae51719dbde7"
   },
   "outputs": [],
   "source": [
    "training_data[training_data.search_term.str.match(\"\\\\d+ x \\\\d+\") > 0]"
   ]
  },
  {
   "cell_type": "code",
   "execution_count": null,
   "metadata": {
    "_uuid": "fd86d03f65c6298bc88b0c018db0d25f9af9a79e",
    "colab": {
     "base_uri": "https://localhost:8080/",
     "height": 206
    },
    "colab_type": "code",
    "id": "r7e4vBF-hgU8",
    "outputId": "da94c93e-b9a8-4941-a9d6-88ad8017ace3"
   },
   "outputs": [],
   "source": [
    "training_data[['product_title','len_of_query','shared_words','frequency_words_in_sq','relevance']].corr()"
   ]
  },
  {
   "cell_type": "code",
   "execution_count": null,
   "metadata": {
    "_uuid": "925eb015e7d3fc199052121835b7ebc0fd9a5173",
    "colab": {
     "base_uri": "https://localhost:8080/",
     "height": 529
    },
    "colab_type": "code",
    "id": "mOetNpVMhgVC",
    "outputId": "41db7474-b780-45f4-e690-58707741c47b"
   },
   "outputs": [],
   "source": [
    "df_all = training_data.drop(['search_term','product_description','product_title'],axis=1)\n",
    "\n",
    "\n",
    "df_train = df_all.iloc[:num_train]\n",
    "df_test = df_all.iloc[num_train:]\n",
    "id_test = df_test['id']\n",
    "\n",
    "y_train = df_train['relevance'].values\n",
    "X_train = df_train.drop(['id','relevance'],axis=1).values\n",
    "X_test = df_test.drop(['id','relevance'],axis=1).values\n",
    "\n",
    "rf = RandomForestRegressor(n_estimators=4, max_depth=6, random_state=0)\n",
    "clf = BaggingRegressor(rf, n_estimators=4, max_samples=0.1, random_state=25)\n",
    "clf.fit(X_train, y_train)\n",
    "y_pred = clf.predict(X_test)\n",
    "\n",
    "pd.DataFrame({\"id\": id_test, \"relevance\": y_pred}).to_csv('submission.csv',index=False)\n"
   ]
  },
  {
   "cell_type": "markdown",
   "metadata": {
    "_uuid": "d7f2e70686dbdc26fac1709c502f5765a7a7af3a",
    "colab": {},
    "colab_type": "code",
    "id": "2L4kUtZ49C_l"
   },
   "source": [
    "Analysis of the Model\n"
   ]
  },
  {
   "cell_type": "code",
   "execution_count": null,
   "metadata": {
    "_uuid": "7f23f22d4838dc39f4e01f4ec8ae5f9fc75770a1"
   },
   "outputs": [],
   "source": [
    "# from nltk.metrics import edit_distance\n",
    "# from sklearn.preprocessing import StandardScaler\n",
    "\n",
    "# import numpy as np\n",
    "# import pandas as pd\n",
    "# from sklearn.ensemble import RandomForestRegressor, BaggingRegressor\n",
    "# from nltk.stem.snowball import SnowballStemmer\n",
    "\n",
    "# stemmer = SnowballStemmer('english')\n",
    "\n",
    "\n",
    "# df_train = pd.read_csv(\"../input/train.csv\", encoding=\"ISO-8859-1\")\n",
    "# df_test = pd.read_csv(\"../input/test.csv\", encoding=\"ISO-8859-1\")\n",
    "# attribute_data = pd.read_csv('../input/attributes.csv')\n",
    "# df_pro_desc = pd.read_csv('../input/product_descriptions.csv')\n",
    "\n",
    "\n",
    "\n",
    "# df_all = pd.concat((df_train, df_test), axis=0, ignore_index=True)\n",
    "\n",
    "# num_train = df_train.shape[0]\n",
    "\n",
    "# ###############\n",
    "# from bs4 import BeautifulSoup\n",
    "# import lxml\n",
    "# import re\n",
    "# import nltk\n",
    "# from nltk.corpus import stopwords # Import the stop word list\n",
    "# from nltk.metrics import edit_distance\n",
    "# from string import punctuation\n",
    "# from collections import Counter\n",
    "# import nltk\n",
    "\n",
    "\n",
    "# def remove_html_tag(text):\n",
    "#     soup = BeautifulSoup(text, 'lxml')\n",
    "#     text = soup.get_text().replace('Click here to review our return policy for additional information regarding returns', '')\n",
    "#     return text\n",
    "\n",
    "# def str_stemmer(doc):\n",
    "#     # split into tokens by white space\n",
    "#     tokens = doc.split()\n",
    "#     # remove punctuation from each token\n",
    "#     table = str.maketrans('', '', punctuation)\n",
    "#     tokens = [w.translate(table) for w in tokens]\n",
    "#     # remove remaining tokens that are not alphabetic\n",
    "#     tokens = [word for word in tokens if word.isalpha()]\n",
    "#     # filter out stop words\n",
    "#     stop_words = set(stopwords.words('english'))\n",
    "#     tokens = [w for w in tokens if not w in stop_words]\n",
    "#     # filter out short tokens\n",
    "#     tokens = [word for word in tokens if len(word) > 1]\n",
    "#     return ' '.join(tokens)\n",
    "\n",
    "# def str_stemmer_title(s):\n",
    "#     return \" \".join([stemmer.stem(word) for word in s.lower().split()])\n",
    "\n",
    "# def str_common_word(str1, str2):\n",
    "#     whole_set = set(str1.split())\n",
    "#     return sum(int(str2.find(word)>=0) for word in whole_set)\n",
    "\n",
    " \n",
    "\n",
    "\n",
    "\n",
    "\n",
    "# ###############\n",
    "# df_all = pd.concat((df_train, df_test), axis=0, ignore_index=True)\n",
    "\n",
    "# df_all = pd.merge(df_all, df_pro_desc, how='left', on='product_uid')\n",
    "\n",
    "\n",
    "# ############## apply stemming #####################\n",
    "# df_all['search_term'] = df_all['search_term'].map(lambda x:str_stemmer_title(x))\n",
    "# df_all['product_title'] = df_all['product_title'].map(lambda x:str_stemmer(x))\n",
    "\n",
    "# df_all['product_description'] = df_all['product_description'].map(lambda x:str_stemmer(x))\n",
    "# ############## end stemming #####################\n",
    "\n",
    "# ############## building custome feature, let's build a few of them before compare which one is the best ###########\n",
    "# df_all['len_of_query'] = df_all['search_term'].map(lambda x:len(x.split())).astype(np.int64)\n",
    "# df_all['shared_words'] = df_all[['search_term','product_description', 'product_title']].apply(lambda row:sum([str_common_word(*row[:-1]), str_common_word(*row[1:])]), axis=1).astype(np.int64)\n",
    "\n",
    "# # training_data['frequency_digits_in_sq']=training_data.product_description.str.count(\"\\\\d+\")\n",
    "# df_all['frequency_words_in_sq'] = df_all.product_description.str.count(\"\\\\w+\").astype(np.int64)\n",
    "# df_all[\"distance_levistein\"] = df_all.loc[:, [\"search_term\",\"product_title\"]].apply(lambda x: edit_distance(*x), axis=1).astype(np.int64)\n",
    "\n",
    "# df_all['length in product info'] = training_data[['product_title','product_description']].apply(lambda row:sum([len(*row[:-1]), len(*row[1:])]), axis=1).astype(np.int64)\n",
    "\n",
    "# df_all = df_all.drop(['search_term','product_title','product_description'],axis=1)\n",
    "\n",
    "\n",
    "# df_train = df_all.iloc[:num_train]\n",
    "# print('df_train',df_train)\n",
    "# df_test = df_all.iloc[num_train:]\n",
    "# print('df_test',df_test)\n",
    "# id_test = df_test['id']\n",
    "\n",
    "# y_train = df_train['relevance'].values\n",
    "# X_train = df_train.drop(['id','relevance'],axis=1).values\n",
    "# X_test = df_test.drop(['id','relevance'],axis=1).values\n",
    "\n",
    "# #### Feature to the same scale\n",
    "# scX = StandardScaler()\n",
    "# X_train = scX.fit_transform(X_train)\n",
    "# X_test = scX.fit_transform(X_test)\n",
    "\n",
    "# rf = RandomForestRegressor(n_estimators=4, max_depth=6, random_state=0)\n",
    "# clf = BaggingRegressor(rf, n_estimators=4, max_samples=0.1, random_state=25)\n",
    "# clf.fit(X_train, y_train)\n",
    "# y_pred = clf.predict(X_test)\n",
    "\n",
    "# pd.DataFrame({\"id\": id_test, \"relevance\": y_pred}).to_csv('submission.csv',index=False)"
   ]
  },
  {
   "cell_type": "code",
   "execution_count": null,
   "metadata": {
    "_uuid": "77a6d49ae3a271a2554129165a8a71e982b4ad3e"
   },
   "outputs": [],
   "source": [
    "training_data[training_data.search_term.str.count('\\\\w+')<1]"
   ]
  },
  {
   "cell_type": "markdown",
   "metadata": {
    "_uuid": "c61143c65f667a056eb4852715f05af06bf91d06"
   },
   "source": []
  },
  {
   "cell_type": "markdown",
   "metadata": {
    "_uuid": "0febb1253bafa58a82d82bbc4899016056e615ca"
   },
   "source": []
  },
  {
   "cell_type": "code",
   "execution_count": null,
   "metadata": {
    "_uuid": "87b2af79b2c22fdd74b6b8cb06a2694ca6a941f5"
   },
   "outputs": [],
   "source": [
    "# df[training_data.isnull]"
   ]
  },
  {
   "cell_type": "markdown",
   "metadata": {
    "_uuid": "980bcb2ba3175a1234a78b208785f519ca256fd4"
   },
   "source": []
  },
  {
   "cell_type": "markdown",
   "metadata": {
    "_uuid": "f98c4acbb92a424c1d3561b88e0bc6f279825223"
   },
   "source": []
  },
  {
   "cell_type": "code",
   "execution_count": null,
   "metadata": {
    "_uuid": "23a9fbf8c61b111881c923ea7509cf17a3a83f3c"
   },
   "outputs": [],
   "source": [
    "# from nltk.metrics import edit_distance\n",
    "# from sklearn.preprocessing import StandardScaler\n",
    "\n",
    "# import numpy as np\n",
    "# import pandas as pd\n",
    "# from sklearn.ensemble import RandomForestRegressor, BaggingRegressor\n",
    "# from nltk.stem.snowball import SnowballStemmer\n",
    "\n",
    "# stemmer = SnowballStemmer('english')\n",
    "\n",
    "\n",
    "# df_train = pd.read_csv(\"../input/train.csv\", encoding=\"ISO-8859-1\")\n",
    "# df_test = pd.read_csv(\"../input/test.csv\", encoding=\"ISO-8859-1\")\n",
    "# attribute_data = pd.read_csv('../input/attributes.csv')\n",
    "# df_pro_desc = pd.read_csv('../input/product_descriptions.csv')\n",
    "\n",
    "\n",
    "\n",
    "# df_all = pd.concat((df_train, df_test), axis=0, ignore_index=True)\n",
    "\n",
    "# num_train = df_train.shape[0]\n",
    "\n",
    "# ###############\n",
    "# from bs4 import BeautifulSoup\n",
    "# import lxml\n",
    "# import re\n",
    "# import nltk\n",
    "# from nltk.corpus import stopwords # Import the stop word list\n",
    "# from nltk.metrics import edit_distance\n",
    "# from string import punctuation\n",
    "# from collections import Counter\n",
    "# import nltk\n",
    "\n",
    "\n",
    "# def remove_html_tag(text):\n",
    "#     soup = BeautifulSoup(text, 'lxml')\n",
    "#     text = soup.get_text().replace('Click here to review our return policy for additional information regarding returns', '')\n",
    "#     return text\n",
    "\n",
    "# def str_stemmer(doc):\n",
    "#     # split into tokens by white space\n",
    "#     tokens = doc.split()\n",
    "#     # remove punctuation from each token\n",
    "#     table = str.maketrans('', '', punctuation)\n",
    "#     tokens = [w.translate(table) for w in tokens]\n",
    "#     # remove remaining tokens that are not alphabetic\n",
    "#     tokens = [word for word in tokens if word.isalpha()]\n",
    "#     # filter out stop words\n",
    "#     stop_words = set(stopwords.words('english'))\n",
    "#     tokens = [w for w in tokens if not w in stop_words]\n",
    "#     # filter out short tokens\n",
    "#     tokens = [word for word in tokens if len(word) > 1]\n",
    "#     return ' '.join(tokens)\n",
    "\n",
    "# def str_stemmer_title(s):\n",
    "#     return \" \".join([stemmer.stem(word) for word in s.lower().split()])\n",
    "\n",
    "# def str_common_word(str1, str2):\n",
    "#     whole_set = set(str1.split())\n",
    "#     return sum(int(str2.find(word)>=0) for word in whole_set)\n",
    "\n",
    "\n",
    "\n",
    "# ###############\n",
    "# df_all = pd.concat((df_train, df_test), axis=0, ignore_index=True)\n",
    "\n",
    "# df_all = pd.merge(df_all, df_pro_desc, how='left', on='product_uid')\n",
    "\n"
   ]
  },
  {
   "cell_type": "markdown",
   "metadata": {
    "_uuid": "fefcb96fe21436cf0ba9e6f842ef7b9a30f2912b"
   },
   "source": [
    "Cleaning function"
   ]
  },
  {
   "cell_type": "code",
   "execution_count": null,
   "metadata": {
    "_uuid": "2070769bb5138b83a7dc8695b5c24dba187228a9"
   },
   "outputs": [],
   "source": [
    "from nltk.corpus import brown, stopwords\n",
    "from nltk.cluster.util import cosine_distance\n",
    " \n",
    "def sentence_similarity(sent1, sent2, stopwords=None):\n",
    "    sent1 = sent1.split(' ')\n",
    "    sent2 = sent2.split(' ')\n",
    "    if stopwords is None:\n",
    "        stopwords = []\n",
    " \n",
    "    sent1 = [w.lower() for w in sent1]\n",
    "    sent2 = [w.lower() for w in sent2]\n",
    " \n",
    "    all_words = list(set(sent1 + sent2))\n",
    " \n",
    "    vector1 = [0] * len(all_words)\n",
    "    vector2 = [0] * len(all_words)\n",
    " \n",
    "    # build the vector for the first sentence\n",
    "    for w in sent1:\n",
    "        if w in stopwords:\n",
    "            continue\n",
    "        vector1[all_words.index(w)] += 1\n",
    " \n",
    "    # build the vector for the second sentence\n",
    "    for w in sent2:\n",
    "        if w in stopwords:\n",
    "            continue\n",
    "        vector2[all_words.index(w)] += 1\n",
    " \n",
    "    return 1 - cosine_distance(vector1, vector2)"
   ]
  },
  {
   "cell_type": "code",
   "execution_count": null,
   "metadata": {
    "_uuid": "2d2b84dc711ef2c8ef65046d05478b4022520c74"
   },
   "outputs": [],
   "source": [
    "\n",
    "# ############## apply stemming #####################\n",
    "# df_all['search_term'] = df_all['search_term'].map(lambda x:str_stemmer_title(x))\n",
    "# df_all['product_title'] = df_all['product_title'].map(lambda x:str_stemmer(x))\n",
    "\n",
    "# df_all['product_description'] = df_all['product_description'].map(lambda x:str_stemmer(x))\n",
    "# ############## end stemming #####################\n",
    "\n",
    "# ############## building custome feature, let's build a few of them before compare which one is the best ###########\n",
    "# df_all['len_of_query'] = df_all['search_term'].map(lambda x:len(x.split())).astype(np.int64)\n",
    "# df_all['shared_words'] = df_all[['search_term','product_description', 'product_title']].apply(lambda row:sum([str_common_word(*row[:-1]), str_common_word(*row[1:])]), axis=1).astype(np.int64)\n",
    "\n",
    "# # training_data['frequency_digits_in_sq']=training_data.product_description.str.count(\"\\\\d+\")\n",
    "# df_all['frequency_words_in_sq'] = df_all.product_description.str.count(\"\\\\w+\").astype(np.int64)\n",
    "# df_all[\"distance_levistein\"] = df_all.loc[:, [\"search_term\",\"product_title\"]].apply(lambda x: edit_distance(*x), axis=1).astype(np.int64)\n",
    "\n",
    "# df_all['length in product info'] = training_data[['product_title','product_description']].apply(lambda row:sum([len(*row[:-1]), len(*row[1:])]), axis=1).astype(np.int64)\n",
    "\n",
    "# df_all = df_all.drop(['search_term','product_title','product_description'],axis=1)\n",
    "\n",
    "\n",
    "# # df_train = df_all.iloc[:num_train]\n",
    "# # print('df_train',df_train)\n",
    "# # df_test = df_all.iloc[num_train:]\n",
    "# # print('df_test',df_test)\n",
    "# # id_test = df_test['id']\n",
    "\n",
    "# # y_train = df_train['relevance'].values\n",
    "# # X_train = df_train.drop(['id','relevance'],axis=1).values\n",
    "# # X_test = df_test.drop(['id','relevance'],axis=1).values\n",
    "\n",
    "# # #### Feature to the same scale\n",
    "# # scX = StandardScaler()\n",
    "# # X_train = scX.fit_transform(X_train)\n",
    "# # X_test = scX.fit_transform(X_test)\n",
    "\n",
    "# # rf = RandomForestRegressor(n_estimators=4, max_depth=6, random_state=0)\n",
    "# # clf = BaggingRegressor(rf, n_estimators=4, max_samples=0.1, random_state=25)\n",
    "# # clf.fit(X_train, y_train)\n",
    "# # y_pred = clf.predict(X_test)\n",
    "\n",
    "# # pd.DataFrame({\"id\": id_test, \"relevance\": y_pred}).to_csv('submission.csv',index=False)"
   ]
  },
  {
   "cell_type": "code",
   "execution_count": null,
   "metadata": {
    "_uuid": "d702bb2b56a5d0489ff98d63333306f23a071b4e"
   },
   "outputs": [],
   "source": []
  },
  {
   "cell_type": "code",
   "execution_count": null,
   "metadata": {
    "_uuid": "63ab0fc654f6915b0d4733a2e421003b1843b9b2"
   },
   "outputs": [],
   "source": []
  },
  {
   "cell_type": "code",
   "execution_count": null,
   "metadata": {
    "_uuid": "4f4642abf3d84b8d2adc2f846e2a6e6732e9814a"
   },
   "outputs": [],
   "source": []
  },
  {
   "cell_type": "code",
   "execution_count": null,
   "metadata": {
    "_uuid": "ea3635d67ec66f8b645a47587facf0afc166a74f"
   },
   "outputs": [],
   "source": [
    "# from nltk.metrics import edit_distance\n",
    "# from sklearn.preprocessing import StandardScaler\n",
    "\n",
    "# import numpy as np\n",
    "# import pandas as pd\n",
    "# from sklearn.ensemble import RandomForestRegressor, BaggingRegressor\n",
    "# from nltk.stem.snowball import SnowballStemmer\n",
    "\n",
    "# stemmer = SnowballStemmer('english')\n",
    "\n",
    "\n",
    "# df_train = pd.read_csv(\"../input/train.csv\", encoding=\"ISO-8859-1\")\n",
    "# df_test = pd.read_csv(\"../input/test.csv\", encoding=\"ISO-8859-1\")\n",
    "# attribute_data = pd.read_csv('../input/attributes.csv')\n",
    "# df_pro_desc = pd.read_csv('../input/product_descriptions.csv')\n",
    "\n",
    "\n",
    "\n",
    "# df_all = pd.concat((df_train, df_test), axis=0, ignore_index=True)\n",
    "\n",
    "# num_train = df_train.shape[0]\n",
    "\n",
    "# # def str_stemmer(s):\n",
    "# #     return \" \".join([stemmer.stem(word) for word in s.lower().split()])\n",
    "\n",
    "# def str_common_word(str1, str2):\n",
    "#     return sum(int(str2.find(word)>=0) for word in str1.split())\n",
    "\n",
    "\n",
    "# df_all = pd.concat((df_train, df_test), axis=0, ignore_index=True)\n",
    "\n",
    "# df_all = pd.merge(df_all, df_pro_desc, how='left', on='product_uid')\n",
    "\n",
    "\n",
    "\n"
   ]
  }
 ],
 "metadata": {
  "colab": {
   "collapsed_sections": [],
   "name": "EDA and ML.ipynb",
   "provenance": [],
   "version": "0.3.2"
  },
  "kernelspec": {
   "display_name": "Python 3",
   "language": "python",
   "name": "python3"
  },
  "language_info": {
   "codemirror_mode": {
    "name": "ipython",
    "version": 3
   },
   "file_extension": ".py",
   "mimetype": "text/x-python",
   "name": "python",
   "nbconvert_exporter": "python",
   "pygments_lexer": "ipython3",
   "version": "3.6.6"
  }
 },
 "nbformat": 4,
 "nbformat_minor": 1
}
