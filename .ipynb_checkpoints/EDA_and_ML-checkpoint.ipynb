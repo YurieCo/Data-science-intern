{
 "cells": [
  {
   "cell_type": "markdown",
   "metadata": {
    "colab_type": "text",
    "id": "BGi45RunhgSq"
   },
   "source": [
    "## Data Cleaning and Shape Examining \n"
   ]
  },
  {
   "cell_type": "code",
   "execution_count": 1,
   "metadata": {
    "colab": {
     "base_uri": "https://localhost:8080/",
     "height": 419
    },
    "colab_type": "code",
    "id": "a0Sqe1x7hjzu",
    "outputId": "da28f8a4-fb3c-4505-d9c5-34726bfb4246"
   },
   "outputs": [
    {
     "name": "stdout",
     "output_type": "stream",
     "text": [
      "ref                                                           title                                                size  lastUpdated          downloadCount  \n",
      "------------------------------------------------------------  --------------------------------------------------  -----  -------------------  -------------  \n",
      "karangadiya/fifa19                                            FIFA 19 complete player dataset                       2MB  2018-12-21 03:52:59           3602  \n",
      "mohansacharya/graduate-admissions                             Graduate Admissions                                   9KB  2018-12-28 10:07:14           4262  \n",
      "gsutters/the-human-freedom-index                              The Human Freedom Index                             451KB  2018-12-17 21:42:23            809  \n",
      "lucabasa/dutch-energy                                         Energy consumption of the Netherlands               102MB  2018-12-17 23:41:45            615  \n",
      "fivethirtyeight/fivethirtyeight-comic-characters-dataset      FiveThirtyEight Comic Characters Dataset            577KB  2019-01-13 15:02:19            556  \n",
      "vbookshelf/v2-plant-seedlings-dataset                         V2 Plant Seedlings Dataset                            2GB  2018-12-13 14:20:52            262  \n",
      "lava18/google-play-store-apps                                 Google Play Store Apps                                2MB  2018-09-18 20:49:49          32445  \n",
      "timoboz/stock-data-dow-jones                                  EOD data for all Dow Jones stocks                     2MB  2019-01-23 02:33:44            597  \n",
      "cityofLA/los-angeles-parking-citations                        Los Angeles Parking Citations                       244MB  2019-01-22 22:18:55           1027  \n",
      "xvivancos/barcelona-data-sets                                 Barcelona data sets                                   1MB  2018-12-13 14:16:53            913  \n",
      "sid321axn/amazon-alexa-reviews                                Amazon Alexa Reviews                                164KB  2018-07-31 17:45:14           2400  \n",
      "thedownhill/art-images-drawings-painting-sculpture-engraving  Art Images: Drawing/Painting/Sculptures/Engravings  581MB  2018-05-25 18:00:50           1449  \n",
      "noriuk/us-education-datasets-unification-project              U.S. Education Datasets: Unification Project         84MB  2018-12-22 17:09:05            456  \n",
      "safegraph/visit-patterns-by-census-block-group                Consumer & Visitor Insights For Neighborhoods        66MB  2018-12-19 21:31:50            147  \n",
      "nguyenhoc/plane-crash                                         Historical Plane Crashes                            700KB  2018-11-21 04:32:41           2543  \n",
      "anokas/kuzushiji                                              Kuzushiji-MNIST                                     318MB  2018-12-17 01:19:31            178  \n",
      "kaggle/kaggle-survey-2018                                     2018 Kaggle ML & DS Survey Challenge                  4MB  2018-11-03 22:35:07           7080  \n",
      "safegraph/census-block-group-american-community-survey-data   Census Block Group American Community Survey Data     2GB  2018-12-22 00:29:56            102  \n",
      "jkkphys/english-wikipedia-articles-20170820-sqlite            English Wikipedia Articles 2017-08-20 SQLite          7GB  2018-11-27 21:54:22            342  \n",
      "olistbr/marketing-funnel-olist                                Marketing Funnel by Olist                           275KB  2018-11-16 14:00:20            719  \n"
     ]
    }
   ],
   "source": [
    "# !kaggle competitions download -c home-depot-product-search-relevance"
   ]
  },
  {
   "cell_type": "code",
   "execution_count": 3,
   "metadata": {
    "colab": {},
    "colab_type": "code",
    "id": "nqvGk3kkhgSv"
   },
   "outputs": [],
   "source": [
    "import numpy as np\n",
    "import pandas as pd\n",
    "from sklearn.ensemble import RandomForestRegressor, BaggingRegressor\n",
    "from nltk.stem.snowball import SnowballStemmer\n",
    "\n",
    "stemmer = SnowballStemmer('english')\n",
    "\n",
    "training_data = pd.read_csv(\"../train.csv.zip\", encoding=\"ISO-8859-1\")\n",
    "testing_data = pd.read_csv(\"../test.csv.zip\", encoding=\"ISO-8859-1\")\n",
    "attribute_data = pd.read_csv('../attributes.csv.zip')\n",
    "descriptions = pd.read_csv('../product_descriptions.csv.zip')\n",
    "\n",
    "training_data = pd.merge(training_data, descriptions, \n",
    "                         on=\"product_uid\", how=\"left\")\n",
    "\n",
    "num_train = training_data.shape[0]"
   ]
  },
  {
   "cell_type": "code",
   "execution_count": null,
   "metadata": {
    "colab": {
     "base_uri": "https://localhost:8080/",
     "height": 34
    },
    "colab_type": "code",
    "id": "78PcQC__hgS4",
    "outputId": "862af9df-97c3-49be-ed7e-5d19ed08c58d"
   },
   "outputs": [],
   "source": [
    "training_data.shape"
   ]
  },
  {
   "cell_type": "markdown",
   "metadata": {
    "colab_type": "text",
    "id": "eXunump9hgTA"
   },
   "source": [
    "As in the dataset page has mentioned that it might contains some embedded html tags, let's plot and see how many in percentage, more prececily the fields 'product_description'"
   ]
  },
  {
   "cell_type": "code",
   "execution_count": 4,
   "metadata": {
    "colab": {
     "base_uri": "https://localhost:8080/",
     "height": 314
    },
    "colab_type": "code",
    "id": "mD3zyodThgTD",
    "outputId": "e4611f88-2a09-4554-dcf3-f6995b02796a"
   },
   "outputs": [
    {
     "data": {
      "image/png": "[encoded data removed]",
      "text/plain": [
       "<Figure size 432x288 with 1 Axes>"
      ]
     },
     "metadata": {
      "needs_background": "light"
     },
     "output_type": "display_data"
    },
    {
     "name": "stdout",
     "output_type": "stream",
     "text": [
      "has html tags in  174\n",
      "doesn't have html tags in  124254\n"
     ]
    }
   ],
   "source": [
    "%matplotlib inline\n",
    "total_length = len(descriptions['product_description'] )\n",
    "has_tag = sum([1 for _ in descriptions['product_description'] if '<br' in _])\n",
    "no_tags = total_length - has_tag\n",
    "\n",
    "import matplotlib.pyplot as plt\n",
    "\n",
    "fig, ax = plt.subplots()\n",
    "ax.hist(x=[has_tag])\n",
    "ax.ticklabel_format(useOffset=False)\n",
    "_ = plt.xlabel('number of phrase which has html tags in')\n",
    "\n",
    "plt.show()\n",
    "print('has html tags in ',has_tag)\n",
    "print('doesn\\'t have html tags in ', no_tags)\n"
   ]
  },
  {
   "cell_type": "markdown",
   "metadata": {
    "colab_type": "text",
    "id": "p8LoHiaRhgTJ"
   },
   "source": [
    "Now let's see what is the frequency of search query which include digits in it with respect to product_title which \n",
    "includes words. As you can see most of them includes digits in search bar. \n"
   ]
  },
  {
   "cell_type": "code",
   "execution_count": 62,
   "metadata": {
    "colab": {
     "base_uri": "https://localhost:8080/",
     "height": 282
    },
    "colab_type": "code",
    "id": "fcw8aOLVhgTL",
    "outputId": "5bf61497-3243-4b3d-a9e0-e4d0313c92b5"
   },
   "outputs": [
    {
     "data": {
      "text/plain": [
       "<matplotlib.axes._subplots.AxesSubplot at 0x7faea4ba2a58>"
      ]
     },
     "execution_count": 62,
     "metadata": {
      "tags": []
     },
     "output_type": "execute_result"
    },
    {
     "data": {
      "image/png": "[encoded data removed]",
      "text/plain": [
       "<Figure size 432x288 with 1 Axes>"
      ]
     },
     "metadata": {
      "tags": []
     },
     "output_type": "display_data"
    }
   ],
   "source": [
    "(training_data.search_term.str.count(\"\\\\w+\") + 1).hist(bins=30) #plot number of words in search therms\n",
    "(training_data.search_term.str.count(\"\\\\d+\") + 1).hist(bins=30) #plot number of digits in search terms\n",
    "# (training_data.product_title.str.count(\"\\\\d+\") + 1).hist(bins=30)#plot number of digits in title\n",
    "\n",
    "\n",
    "\n",
    "\n"
   ]
  },
  {
   "cell_type": "code",
   "execution_count": 63,
   "metadata": {
    "colab": {
     "base_uri": "https://localhost:8080/",
     "height": 282
    },
    "colab_type": "code",
    "id": "reW74Co1hgTR",
    "outputId": "5f8454a7-9975-4f09-c473-222de8f65f60"
   },
   "outputs": [
    {
     "data": {
      "text/plain": [
       "<matplotlib.axes._subplots.AxesSubplot at 0x7faeae6aba20>"
      ]
     },
     "execution_count": 63,
     "metadata": {
      "tags": []
     },
     "output_type": "execute_result"
    },
    {
     "data": {
      "image/png": "[encoded data removed]",
      "text/plain": [
       "<Figure size 432x288 with 1 Axes>"
      ]
     },
     "metadata": {
      "tags": []
     },
     "output_type": "display_data"
    }
   ],
   "source": [
    "(training_data.product_title.str.count(\"\\\\w+\") + 1).hist(bins=30)#plot number of words in title\n",
    "(training_data.search_term.str.count(\"\\\\w+\") + 1).hist(bins=30) #plot number of words in search query\n",
    "\n",
    "\n",
    "\n"
   ]
  },
  {
   "cell_type": "code",
   "execution_count": 64,
   "metadata": {
    "colab": {
     "base_uri": "https://localhost:8080/",
     "height": 282
    },
    "colab_type": "code",
    "id": "xRYiXtBbhgTZ",
    "outputId": "c4e90de1-b7f7-48f5-841f-9bf109eedcd1"
   },
   "outputs": [
    {
     "data": {
      "text/plain": [
       "<matplotlib.axes._subplots.AxesSubplot at 0x7faeae5f4d30>"
      ]
     },
     "execution_count": 64,
     "metadata": {
      "tags": []
     },
     "output_type": "execute_result"
    },
    {
     "data": {
      "image/png": "[encoded data removed]",
      "text/plain": [
       "<Figure size 432x288 with 1 Axes>"
      ]
     },
     "metadata": {
      "tags": []
     },
     "output_type": "display_data"
    }
   ],
   "source": [
    "(training_data.product_title.str.count(\"\\\\d+\") + 1).hist(bins=30)#plot number of words in title\n",
    "(training_data.search_term.str.count(\"\\\\d+\") + 1).hist(bins=30) #plot number of words in search query\n",
    "\n",
    "\n",
    "\n",
    "\n"
   ]
  },
  {
   "cell_type": "code",
   "execution_count": 65,
   "metadata": {
    "colab": {
     "base_uri": "https://localhost:8080/",
     "height": 282
    },
    "colab_type": "code",
    "id": "qcpD17U5hgTh",
    "outputId": "3380f8b4-4d09-4da8-f18c-fdf3802ce872"
   },
   "outputs": [
    {
     "data": {
      "text/plain": [
       "<matplotlib.axes._subplots.AxesSubplot at 0x7faeae5d57f0>"
      ]
     },
     "execution_count": 65,
     "metadata": {
      "tags": []
     },
     "output_type": "execute_result"
    },
    {
     "data": {
      "image/png": "[encoded data removed]",
      "text/plain": [
       "<Figure size 432x288 with 1 Axes>"
      ]
     },
     "metadata": {
      "tags": []
     },
     "output_type": "display_data"
    }
   ],
   "source": [
    "(training_data.product_description.str.count(\"\\\\d+\") + 1).hist(bins=30)\n",
    "(training_data.product_description.str.count(\"\\\\d+\\W+\\d+\") + 1).hist(bins=30)\n",
    "\n"
   ]
  },
  {
   "cell_type": "markdown",
   "metadata": {
    "colab_type": "text",
    "id": "n-UOBiz0hgTt"
   },
   "source": [
    "let's plot at histogram following number of words in search query, and on the other hand relevancy score"
   ]
  },
  {
   "cell_type": "code",
   "execution_count": 66,
   "metadata": {
    "colab": {
     "base_uri": "https://localhost:8080/",
     "height": 282
    },
    "colab_type": "code",
    "id": "Cegd1o0phgTv",
    "outputId": "4f66723a-9243-473b-f122-094814ea2b08"
   },
   "outputs": [
    {
     "data": {
      "text/plain": [
       "<matplotlib.axes._subplots.AxesSubplot at 0x7faea4c0c5c0>"
      ]
     },
     "execution_count": 66,
     "metadata": {
      "tags": []
     },
     "output_type": "execute_result"
    },
    {
     "data": {
      "image/png": "[encoded data removed]",
      "text/plain": [
       "<Figure size 432x288 with 1 Axes>"
      ]
     },
     "metadata": {
      "tags": []
     },
     "output_type": "display_data"
    }
   ],
   "source": [
    "(training_data.search_term.str.count(\"\\\\w+\") + 1).hist(bins=30)\n",
    "(training_data.relevance + 1).hist(bins=30)\n",
    "\n"
   ]
  },
  {
   "cell_type": "markdown",
   "metadata": {
    "colab_type": "text",
    "id": "txZqaXn0hgT0"
   },
   "source": [
    "let's take a look how does the persistence of digits in the search query influence the relevancy score, from below plot it clearly that most of the search query must have between 2.0 and 3.0 "
   ]
  },
  {
   "cell_type": "code",
   "execution_count": 67,
   "metadata": {
    "colab": {
     "base_uri": "https://localhost:8080/",
     "height": 282
    },
    "colab_type": "code",
    "id": "vFzL6dsuhgT2",
    "outputId": "2b18aa72-e015-4836-9db5-76d9269a48de"
   },
   "outputs": [
    {
     "data": {
      "text/plain": [
       "<matplotlib.axes._subplots.AxesSubplot at 0x7faea4f519e8>"
      ]
     },
     "execution_count": 67,
     "metadata": {
      "tags": []
     },
     "output_type": "execute_result"
    },
    {
     "data": {
      "image/png": "[encoded data removed]",
      "text/plain": [
       "<Figure size 432x288 with 1 Axes>"
      ]
     },
     "metadata": {
      "tags": []
     },
     "output_type": "display_data"
    }
   ],
   "source": [
    "(training_data.search_term.str.count(\"\\\\d+\")).hist(bins=30)\n",
    "(training_data.relevance ).hist(bins=30)"
   ]
  },
  {
   "cell_type": "markdown",
   "metadata": {
    "colab_type": "text",
    "id": "1i4JNV2HhgT7"
   },
   "source": [
    "lets assume that there are zero response for null query search term"
   ]
  },
  {
   "cell_type": "code",
   "execution_count": 5,
   "metadata": {
    "colab": {
     "base_uri": "https://localhost:8080/",
     "height": 49
    },
    "colab_type": "code",
    "id": "5bekfrZZhgT9",
    "outputId": "27b742e6-2420-48ae-c9a0-b24ffd47b8dd"
   },
   "outputs": [
    {
     "data": {
      "text/html": [
       "<div>\n",
       "<style scoped>\n",
       "    .dataframe tbody tr th:only-of-type {\n",
       "        vertical-align: middle;\n",
       "    }\n",
       "\n",
       "    .dataframe tbody tr th {\n",
       "        vertical-align: top;\n",
       "    }\n",
       "\n",
       "    .dataframe thead th {\n",
       "        text-align: right;\n",
       "    }\n",
       "</style>\n",
       "<table border=\"1\" class=\"dataframe\">\n",
       "  <thead>\n",
       "    <tr style=\"text-align: right;\">\n",
       "      <th></th>\n",
       "      <th>id</th>\n",
       "      <th>product_uid</th>\n",
       "      <th>product_title</th>\n",
       "      <th>search_term</th>\n",
       "      <th>relevance</th>\n",
       "      <th>product_description</th>\n",
       "    </tr>\n",
       "  </thead>\n",
       "  <tbody>\n",
       "  </tbody>\n",
       "</table>\n",
       "</div>"
      ],
      "text/plain": [
       "Empty DataFrame\n",
       "Columns: [id, product_uid, product_title, search_term, relevance, product_description]\n",
       "Index: []"
      ]
     },
     "execution_count": 5,
     "metadata": {},
     "output_type": "execute_result"
    }
   ],
   "source": [
    "training_data[training_data.search_term.str.count('\\\\w+') < 1]\n",
    "# training_data[training_data.search_term.str.contains('^\\d+') < 1]"
   ]
  },
  {
   "cell_type": "code",
   "execution_count": 6,
   "metadata": {
    "colab": {
     "base_uri": "https://localhost:8080/",
     "height": 143
    },
    "colab_type": "code",
    "id": "zTyh6QnHhgUC",
    "outputId": "3e28d49d-442f-4bf3-d795-c26b97a77624"
   },
   "outputs": [
    {
     "data": {
      "text/html": [
       "<div>\n",
       "<style scoped>\n",
       "    .dataframe tbody tr th:only-of-type {\n",
       "        vertical-align: middle;\n",
       "    }\n",
       "\n",
       "    .dataframe tbody tr th {\n",
       "        vertical-align: top;\n",
       "    }\n",
       "\n",
       "    .dataframe thead th {\n",
       "        text-align: right;\n",
       "    }\n",
       "</style>\n",
       "<table border=\"1\" class=\"dataframe\">\n",
       "  <thead>\n",
       "    <tr style=\"text-align: right;\">\n",
       "      <th></th>\n",
       "      <th>id</th>\n",
       "      <th>product_uid</th>\n",
       "      <th>product_title</th>\n",
       "      <th>search_term</th>\n",
       "      <th>relevance</th>\n",
       "      <th>product_description</th>\n",
       "    </tr>\n",
       "  </thead>\n",
       "  <tbody>\n",
       "    <tr>\n",
       "      <th>44</th>\n",
       "      <td>164</td>\n",
       "      <td>100030</td>\n",
       "      <td>9.1 in. x 5.8 in. White Designer Shelf Bracket</td>\n",
       "      <td>8 4616809045 9</td>\n",
       "      <td>1.67</td>\n",
       "      <td>White Designer Shelf Brackets offer a stylish ...</td>\n",
       "    </tr>\n",
       "    <tr>\n",
       "      <th>45</th>\n",
       "      <td>165</td>\n",
       "      <td>100030</td>\n",
       "      <td>9.1 in. x 5.8 in. White Designer Shelf Bracket</td>\n",
       "      <td>shelf bracket</td>\n",
       "      <td>3.00</td>\n",
       "      <td>White Designer Shelf Brackets offer a stylish ...</td>\n",
       "    </tr>\n",
       "    <tr>\n",
       "      <th>46</th>\n",
       "      <td>166</td>\n",
       "      <td>100030</td>\n",
       "      <td>9.1 in. x 5.8 in. White Designer Shelf Bracket</td>\n",
       "      <td>white 4shelves</td>\n",
       "      <td>1.67</td>\n",
       "      <td>White Designer Shelf Brackets offer a stylish ...</td>\n",
       "    </tr>\n",
       "  </tbody>\n",
       "</table>\n",
       "</div>"
      ],
      "text/plain": [
       "     id  product_uid                                   product_title  \\\n",
       "44  164       100030  9.1 in. x 5.8 in. White Designer Shelf Bracket   \n",
       "45  165       100030  9.1 in. x 5.8 in. White Designer Shelf Bracket   \n",
       "46  166       100030  9.1 in. x 5.8 in. White Designer Shelf Bracket   \n",
       "\n",
       "       search_term  relevance  \\\n",
       "44  8 4616809045 9       1.67   \n",
       "45   shelf bracket       3.00   \n",
       "46  white 4shelves       1.67   \n",
       "\n",
       "                                  product_description  \n",
       "44  White Designer Shelf Brackets offer a stylish ...  \n",
       "45  White Designer Shelf Brackets offer a stylish ...  \n",
       "46  White Designer Shelf Brackets offer a stylish ...  "
      ]
     },
     "execution_count": 6,
     "metadata": {},
     "output_type": "execute_result"
    }
   ],
   "source": [
    "# an interest case can be see below, unfortunattly we cannot get rid of this element since it will make a bad impact on model\n",
    "training_data[training_data.product_uid==100030]"
   ]
  },
  {
   "cell_type": "code",
   "execution_count": 70,
   "metadata": {
    "colab": {
     "base_uri": "https://localhost:8080/",
     "height": 175
    },
    "colab_type": "code",
    "id": "qLK6NtZ7hgUJ",
    "outputId": "36df4ff3-d9c4-4a17-a38a-859fc59ea915"
   },
   "outputs": [
    {
     "data": {
      "text/html": [
       "<div>\n",
       "<style scoped>\n",
       "    .dataframe tbody tr th:only-of-type {\n",
       "        vertical-align: middle;\n",
       "    }\n",
       "\n",
       "    .dataframe tbody tr th {\n",
       "        vertical-align: top;\n",
       "    }\n",
       "\n",
       "    .dataframe thead th {\n",
       "        text-align: right;\n",
       "    }\n",
       "</style>\n",
       "<table border=\"1\" class=\"dataframe\">\n",
       "  <thead>\n",
       "    <tr style=\"text-align: right;\">\n",
       "      <th></th>\n",
       "      <th>id</th>\n",
       "      <th>product_uid</th>\n",
       "      <th>product_title</th>\n",
       "      <th>search_term</th>\n",
       "      <th>relevance</th>\n",
       "      <th>product_description</th>\n",
       "    </tr>\n",
       "  </thead>\n",
       "  <tbody>\n",
       "    <tr>\n",
       "      <th>285</th>\n",
       "      <td>902</td>\n",
       "      <td>100151</td>\n",
       "      <td>Commercial Electric 7 in. White LED Easy Light...</td>\n",
       "      <td>closet light fixture</td>\n",
       "      <td>3.0</td>\n",
       "      <td>7 in. LED Easy Utility Light. Fastest and easi...</td>\n",
       "    </tr>\n",
       "    <tr>\n",
       "      <th>346</th>\n",
       "      <td>1121</td>\n",
       "      <td>100193</td>\n",
       "      <td>Main Door 36 in. x 80 in. Rustic Mahogany Type...</td>\n",
       "      <td>80 x 36 solid wood</td>\n",
       "      <td>3.0</td>\n",
       "      <td>36 in. x 80 in. wood mahogany prehung 2-panel ...</td>\n",
       "    </tr>\n",
       "    <tr>\n",
       "      <th>347</th>\n",
       "      <td>1128</td>\n",
       "      <td>100193</td>\n",
       "      <td>Main Door 36 in. x 80 in. Rustic Mahogany Type...</td>\n",
       "      <td>front door</td>\n",
       "      <td>3.0</td>\n",
       "      <td>36 in. x 80 in. wood mahogany prehung 2-panel ...</td>\n",
       "    </tr>\n",
       "    <tr>\n",
       "      <th>348</th>\n",
       "      <td>1129</td>\n",
       "      <td>100193</td>\n",
       "      <td>Main Door 36 in. x 80 in. Rustic Mahogany Type...</td>\n",
       "      <td>front doors</td>\n",
       "      <td>3.0</td>\n",
       "      <td>36 in. x 80 in. wood mahogany prehung 2-panel ...</td>\n",
       "    </tr>\n",
       "  </tbody>\n",
       "</table>\n",
       "</div>"
      ],
      "text/plain": [
       "       id  product_uid                                      product_title  \\\n",
       "285   902       100151  Commercial Electric 7 in. White LED Easy Light...   \n",
       "346  1121       100193  Main Door 36 in. x 80 in. Rustic Mahogany Type...   \n",
       "347  1128       100193  Main Door 36 in. x 80 in. Rustic Mahogany Type...   \n",
       "348  1129       100193  Main Door 36 in. x 80 in. Rustic Mahogany Type...   \n",
       "\n",
       "              search_term  relevance  \\\n",
       "285  closet light fixture        3.0   \n",
       "346    80 x 36 solid wood        3.0   \n",
       "347            front door        3.0   \n",
       "348           front doors        3.0   \n",
       "\n",
       "                                   product_description  \n",
       "285  7 in. LED Easy Utility Light. Fastest and easi...  \n",
       "346  36 in. x 80 in. wood mahogany prehung 2-panel ...  \n",
       "347  36 in. x 80 in. wood mahogany prehung 2-panel ...  \n",
       "348  36 in. x 80 in. wood mahogany prehung 2-panel ...  "
      ]
     },
     "execution_count": 70,
     "metadata": {
      "tags": []
     },
     "output_type": "execute_result"
    }
   ],
   "source": [
    "training_data[training_data.product_description.str.contains('^\\d+')].head(4) # at first it looks like nothing unsual \n"
   ]
  },
  {
   "cell_type": "markdown",
   "metadata": {
    "colab_type": "text",
    "id": "26BS8KLFhgUP"
   },
   "source": [
    "Unfortunately it is kind ambiguous to figure out the meaning of digits in the search context like an example below, it can mean anything. we should take care of this when cleaning context. It looks that most of the case the meaning of X is denoted the unit of measure like fit/inch/or something by something"
   ]
  },
  {
   "cell_type": "code",
   "execution_count": 71,
   "metadata": {
    "colab": {
     "base_uri": "https://localhost:8080/",
     "height": 175
    },
    "colab_type": "code",
    "id": "BgBG3ClMhgUQ",
    "outputId": "7e8fddb7-b57b-4ed1-c1d0-120cdf68b63d"
   },
   "outputs": [
    {
     "data": {
      "text/html": [
       "<div>\n",
       "<style scoped>\n",
       "    .dataframe tbody tr th:only-of-type {\n",
       "        vertical-align: middle;\n",
       "    }\n",
       "\n",
       "    .dataframe tbody tr th {\n",
       "        vertical-align: top;\n",
       "    }\n",
       "\n",
       "    .dataframe thead th {\n",
       "        text-align: right;\n",
       "    }\n",
       "</style>\n",
       "<table border=\"1\" class=\"dataframe\">\n",
       "  <thead>\n",
       "    <tr style=\"text-align: right;\">\n",
       "      <th></th>\n",
       "      <th>id</th>\n",
       "      <th>product_uid</th>\n",
       "      <th>product_title</th>\n",
       "      <th>search_term</th>\n",
       "      <th>relevance</th>\n",
       "      <th>product_description</th>\n",
       "    </tr>\n",
       "  </thead>\n",
       "  <tbody>\n",
       "    <tr>\n",
       "      <th>3377</th>\n",
       "      <td>10452</td>\n",
       "      <td>101800</td>\n",
       "      <td>Kaleen Habitat Bahama Rose Paprika 4 ft. x 6 f...</td>\n",
       "      <td>4 x 6</td>\n",
       "      <td>2.00</td>\n",
       "      <td>Habitat Bahama Rose Paprika 4 ft. x 6 ft. Area...</td>\n",
       "    </tr>\n",
       "    <tr>\n",
       "      <th>3650</th>\n",
       "      <td>11307</td>\n",
       "      <td>101959</td>\n",
       "      <td>Pressure-Treated Timber #2 Southern Yellow Pin...</td>\n",
       "      <td>4 x 6</td>\n",
       "      <td>1.67</td>\n",
       "      <td>This sturdy Pressure-Treated Timber #2 Souther...</td>\n",
       "    </tr>\n",
       "    <tr>\n",
       "      <th>3766</th>\n",
       "      <td>11705</td>\n",
       "      <td>102041</td>\n",
       "      <td>Kaleen Habitat Calypso Azure 4 ft. x 6 ft. Ind...</td>\n",
       "      <td>4 x 6</td>\n",
       "      <td>3.00</td>\n",
       "      <td>Habitat Calypso Azure 4 ft. x 6 ft. Area Rug i...</td>\n",
       "    </tr>\n",
       "    <tr>\n",
       "      <th>4513</th>\n",
       "      <td>14166</td>\n",
       "      <td>102472</td>\n",
       "      <td>Safavieh Lyndhurst Sage/Ivory 4 ft. x 6 ft. Ar...</td>\n",
       "      <td>4 x 6</td>\n",
       "      <td>1.33</td>\n",
       "      <td>Safavieh's Lyndhurst collection offers the bea...</td>\n",
       "    </tr>\n",
       "  </tbody>\n",
       "</table>\n",
       "</div>"
      ],
      "text/plain": [
       "         id  product_uid                                      product_title  \\\n",
       "3377  10452       101800  Kaleen Habitat Bahama Rose Paprika 4 ft. x 6 f...   \n",
       "3650  11307       101959  Pressure-Treated Timber #2 Southern Yellow Pin...   \n",
       "3766  11705       102041  Kaleen Habitat Calypso Azure 4 ft. x 6 ft. Ind...   \n",
       "4513  14166       102472  Safavieh Lyndhurst Sage/Ivory 4 ft. x 6 ft. Ar...   \n",
       "\n",
       "     search_term  relevance                                product_description  \n",
       "3377       4 x 6       2.00  Habitat Bahama Rose Paprika 4 ft. x 6 ft. Area...  \n",
       "3650       4 x 6       1.67  This sturdy Pressure-Treated Timber #2 Souther...  \n",
       "3766       4 x 6       3.00  Habitat Calypso Azure 4 ft. x 6 ft. Area Rug i...  \n",
       "4513       4 x 6       1.33  Safavieh's Lyndhurst collection offers the bea...  "
      ]
     },
     "execution_count": 71,
     "metadata": {
      "tags": []
     },
     "output_type": "execute_result"
    }
   ],
   "source": [
    "training_data[training_data.search_term.str.contains(\"^\\\\d+ . \\\\d+$\")].head(4)"
   ]
  },
  {
   "cell_type": "markdown",
   "metadata": {
    "colab_type": "text",
    "id": "CXJ6qmA8hgUb"
   },
   "source": [
    "In order to apply any standard method for analysis we have to standarize metric for text fields, which we define as follows\n",
    "\n",
    "- split into tokens by white space\n",
    "- remove punctuation from each token\n",
    "- remove remaining tokens that are not alphabetic\n",
    "- filter out stop words\n",
    "- filter out short tokens\n",
    "\n",
    "and lets also create new feature in the same time which will denote our hypothesis. \n",
    "\\begin{equation*}\n",
    "H_1 = \\{\\ \\frac{ card(search query)}{ card(product title)} = high\\ relevance\\ score\\} \\\\\n",
    "H_2 = \\{ length(search query)\\ influence\\ relevance\\ score \\} \\\\\n",
    "H_3 = \\{ card(common\\_words(search\\ query,product\\ title,product\\ description)) = influence\\ relevance\\ score \\} \\\\\n",
    "\\end{equation*}"
   ]
  },
  {
   "cell_type": "code",
   "execution_count": 133,
   "metadata": {
    "colab": {
     "base_uri": "https://localhost:8080/",
     "height": 230
    },
    "colab_type": "code",
    "id": "wNvUTEEahgUe",
    "outputId": "c43af0b5-7981-44d6-a691-49b0e53bd8f1"
   },
   "outputs": [
    {
     "name": "stdout",
     "output_type": "stream",
     "text": [
      "[nltk_data] Downloading package stopwords to /root/nltk_data...\n",
      "[nltk_data]   Package stopwords is already up-to-date!\n"
     ]
    },
    {
     "data": {
      "text/html": [
       "<div>\n",
       "<style scoped>\n",
       "    .dataframe tbody tr th:only-of-type {\n",
       "        vertical-align: middle;\n",
       "    }\n",
       "\n",
       "    .dataframe tbody tr th {\n",
       "        vertical-align: top;\n",
       "    }\n",
       "\n",
       "    .dataframe thead th {\n",
       "        text-align: right;\n",
       "    }\n",
       "</style>\n",
       "<table border=\"1\" class=\"dataframe\">\n",
       "  <thead>\n",
       "    <tr style=\"text-align: right;\">\n",
       "      <th></th>\n",
       "      <th>id</th>\n",
       "      <th>product_uid</th>\n",
       "      <th>product_title</th>\n",
       "      <th>search_term</th>\n",
       "      <th>relevance</th>\n",
       "      <th>product_description</th>\n",
       "      <th>len_of_query</th>\n",
       "      <th>shared_words</th>\n",
       "      <th>frequency_words_in_sq</th>\n",
       "    </tr>\n",
       "  </thead>\n",
       "  <tbody>\n",
       "    <tr>\n",
       "      <th>0</th>\n",
       "      <td>2</td>\n",
       "      <td>100001</td>\n",
       "      <td>simpson strong-ti 12-gaug angl</td>\n",
       "      <td>angle bracket</td>\n",
       "      <td>3.0</td>\n",
       "      <td>Not angles make joints stronger also provide c...</td>\n",
       "      <td>2</td>\n",
       "      <td>1</td>\n",
       "      <td>74</td>\n",
       "    </tr>\n",
       "    <tr>\n",
       "      <th>1</th>\n",
       "      <td>3</td>\n",
       "      <td>100001</td>\n",
       "      <td>simpson strong-ti 12-gaug angl</td>\n",
       "      <td>bracket</td>\n",
       "      <td>2.5</td>\n",
       "      <td>Not angles make joints stronger also provide c...</td>\n",
       "      <td>1</td>\n",
       "      <td>0</td>\n",
       "      <td>74</td>\n",
       "    </tr>\n",
       "    <tr>\n",
       "      <th>2</th>\n",
       "      <td>9</td>\n",
       "      <td>100002</td>\n",
       "      <td>behr premium textur deckov 1-gal. #sc-141 tugb...</td>\n",
       "      <td>deck</td>\n",
       "      <td>3.0</td>\n",
       "      <td>BEHR Premium Textured DECKOVER innovative soli...</td>\n",
       "      <td>1</td>\n",
       "      <td>4</td>\n",
       "      <td>116</td>\n",
       "    </tr>\n",
       "  </tbody>\n",
       "</table>\n",
       "</div>"
      ],
      "text/plain": [
       "   id  product_uid                                      product_title  \\\n",
       "0   2       100001                     simpson strong-ti 12-gaug angl   \n",
       "1   3       100001                     simpson strong-ti 12-gaug angl   \n",
       "2   9       100002  behr premium textur deckov 1-gal. #sc-141 tugb...   \n",
       "\n",
       "     search_term  relevance  \\\n",
       "0  angle bracket        3.0   \n",
       "1        bracket        2.5   \n",
       "2           deck        3.0   \n",
       "\n",
       "                                 product_description  len_of_query  \\\n",
       "0  Not angles make joints stronger also provide c...             2   \n",
       "1  Not angles make joints stronger also provide c...             1   \n",
       "2  BEHR Premium Textured DECKOVER innovative soli...             1   \n",
       "\n",
       "   shared_words  frequency_words_in_sq  \n",
       "0             1                     74  \n",
       "1             0                     74  \n",
       "2             4                    116  "
      ]
     },
     "execution_count": 133,
     "metadata": {
      "tags": []
     },
     "output_type": "execute_result"
    }
   ],
   "source": [
    "from bs4 import BeautifulSoup\n",
    "import lxml\n",
    "import re\n",
    "import nltk\n",
    "from nltk.corpus import stopwords # Import the stop word list\n",
    "\n",
    "from string import punctuation\n",
    "from collections import Counter\n",
    "\n",
    "import nltk\n",
    "# nltk.download('stopwords')\n",
    "\n",
    "\n",
    "def remove_html_tag(text):\n",
    "    soup = BeautifulSoup(text, 'lxml')\n",
    "    text = soup.get_text().replace('Click here to review our return policy for additional information regarding returns', '')\n",
    "    return text\n",
    "\n",
    "def str_stemmer(doc):\n",
    "    # split into tokens by white space\n",
    "    tokens = doc.split()\n",
    "    # remove punctuation from each token\n",
    "    table = str.maketrans('', '', punctuation)\n",
    "    tokens = [w.translate(table) for w in tokens]\n",
    "    # remove remaining tokens that are not alphabetic\n",
    "    tokens = [word for word in tokens if word.isalpha()]\n",
    "    # filter out stop words\n",
    "    stop_words = set(stopwords.words('english'))\n",
    "    tokens = [w for w in tokens if not w in stop_words]\n",
    "    # filter out short tokens\n",
    "    tokens = [word for word in tokens if len(word) > 1]\n",
    "    return ' '.join(tokens)\n",
    "\n",
    "def str_stemmer_title(s):\n",
    "    return \" \".join([stemmer.stem(word) for word in s.lower().split()])\n",
    "\n",
    "def str_common_word(str1, str2):\n",
    "    whole_set = set(str1.split())\n",
    "    return sum(int(str2.find(word)>=0) for word in whole_set)\n",
    "\n",
    "############### cleaning html tags ##################\n",
    "has_tag_in = training_data.product_description.str.contains('<br')\n",
    "training_data.loc[has_tag_in, 'product_description'] = training_data.loc[has_tag_in, 'product_description'].map(lambda x:remove_html_tag(x))\n",
    "###############\n",
    "orign = training_data.copy()\n",
    "\n",
    "############## apply stemming #####################\n",
    "training_data['search_term'] = training_data['search_term'].map(lambda x:str_stemmer(x))\n",
    "training_data['product_title'] = training_data['product_title'].map(lambda x:str_stemmer_title(x))\n",
    "training_data['product_description'] = training_data['product_description'].map(lambda x:str_stemmer(x))\n",
    "############## end stemming #####################\n",
    "\n",
    "############## building custome feature, let's build a few of them before compare which one is the best ###########\n",
    "training_data['len_of_query'] = training_data['search_term'].map(lambda x:len(x.split())).astype(np.int64)\n",
    "training_data['shared_words'] = training_data[['search_term','product_description', 'product_title']].apply(lambda row:sum([str_common_word(*row[:-1]), str_common_word(*row[1:])]), axis=1)\n",
    "\n",
    "# training_data['frequency_digits_in_sq']=training_data.product_description.str.count(\"\\\\d+\")\n",
    "training_data['frequency_words_in_sq'] = training_data.product_description.str.count(\"\\\\w+\")\n",
    "\n",
    "training_data.head(3)\n",
    "\n"
   ]
  },
  {
   "cell_type": "markdown",
   "metadata": {
    "colab_type": "text",
    "id": "Fd5F1ZGphgUk"
   },
   "source": [
    "lets see if nothing wrong had have happened "
   ]
  },
  {
   "cell_type": "code",
   "execution_count": 73,
   "metadata": {
    "colab": {
     "base_uri": "https://localhost:8080/",
     "height": 49
    },
    "colab_type": "code",
    "id": "8D-bAJDchgUn",
    "outputId": "8ee2b3bd-4c08-48c0-efd5-e7076655918b"
   },
   "outputs": [
    {
     "data": {
      "text/html": [
       "<div>\n",
       "<style scoped>\n",
       "    .dataframe tbody tr th:only-of-type {\n",
       "        vertical-align: middle;\n",
       "    }\n",
       "\n",
       "    .dataframe tbody tr th {\n",
       "        vertical-align: top;\n",
       "    }\n",
       "\n",
       "    .dataframe thead th {\n",
       "        text-align: right;\n",
       "    }\n",
       "</style>\n",
       "<table border=\"1\" class=\"dataframe\">\n",
       "  <thead>\n",
       "    <tr style=\"text-align: right;\">\n",
       "      <th></th>\n",
       "      <th>id</th>\n",
       "      <th>product_uid</th>\n",
       "      <th>product_title</th>\n",
       "      <th>search_term</th>\n",
       "      <th>relevance</th>\n",
       "      <th>product_description</th>\n",
       "      <th>len_of_query</th>\n",
       "      <th>shared_words</th>\n",
       "      <th>frequency_words_in_sq</th>\n",
       "    </tr>\n",
       "  </thead>\n",
       "  <tbody>\n",
       "  </tbody>\n",
       "</table>\n",
       "</div>"
      ],
      "text/plain": [
       "Empty DataFrame\n",
       "Columns: [id, product_uid, product_title, search_term, relevance, product_description, len_of_query, shared_words, frequency_words_in_sq]\n",
       "Index: []"
      ]
     },
     "execution_count": 73,
     "metadata": {
      "tags": []
     },
     "output_type": "execute_result"
    }
   ],
   "source": [
    "training_data[training_data.search_term.str.count('\\\\w+') < 1]"
   ]
  },
  {
   "cell_type": "code",
   "execution_count": 74,
   "metadata": {
    "colab": {
     "base_uri": "https://localhost:8080/",
     "height": 143
    },
    "colab_type": "code",
    "id": "moBdZ8SchgUw",
    "outputId": "5cdbd166-8cd5-45f2-ad5d-85d8c8ec6ddb"
   },
   "outputs": [
    {
     "data": {
      "text/html": [
       "<div>\n",
       "<style scoped>\n",
       "    .dataframe tbody tr th:only-of-type {\n",
       "        vertical-align: middle;\n",
       "    }\n",
       "\n",
       "    .dataframe tbody tr th {\n",
       "        vertical-align: top;\n",
       "    }\n",
       "\n",
       "    .dataframe thead th {\n",
       "        text-align: right;\n",
       "    }\n",
       "</style>\n",
       "<table border=\"1\" class=\"dataframe\">\n",
       "  <thead>\n",
       "    <tr style=\"text-align: right;\">\n",
       "      <th></th>\n",
       "      <th>id</th>\n",
       "      <th>product_uid</th>\n",
       "      <th>product_title</th>\n",
       "      <th>search_term</th>\n",
       "      <th>relevance</th>\n",
       "      <th>product_description</th>\n",
       "    </tr>\n",
       "  </thead>\n",
       "  <tbody>\n",
       "    <tr>\n",
       "      <th>44</th>\n",
       "      <td>164</td>\n",
       "      <td>100030</td>\n",
       "      <td>9.1 in. x 5.8 in. White Designer Shelf Bracket</td>\n",
       "      <td>8 4616809045 9</td>\n",
       "      <td>1.67</td>\n",
       "      <td>White Designer Shelf Brackets offer a stylish ...</td>\n",
       "    </tr>\n",
       "    <tr>\n",
       "      <th>45</th>\n",
       "      <td>165</td>\n",
       "      <td>100030</td>\n",
       "      <td>9.1 in. x 5.8 in. White Designer Shelf Bracket</td>\n",
       "      <td>shelf bracket</td>\n",
       "      <td>3.00</td>\n",
       "      <td>White Designer Shelf Brackets offer a stylish ...</td>\n",
       "    </tr>\n",
       "    <tr>\n",
       "      <th>46</th>\n",
       "      <td>166</td>\n",
       "      <td>100030</td>\n",
       "      <td>9.1 in. x 5.8 in. White Designer Shelf Bracket</td>\n",
       "      <td>white 4shelves</td>\n",
       "      <td>1.67</td>\n",
       "      <td>White Designer Shelf Brackets offer a stylish ...</td>\n",
       "    </tr>\n",
       "  </tbody>\n",
       "</table>\n",
       "</div>"
      ],
      "text/plain": [
       "     id  product_uid                                   product_title  \\\n",
       "44  164       100030  9.1 in. x 5.8 in. White Designer Shelf Bracket   \n",
       "45  165       100030  9.1 in. x 5.8 in. White Designer Shelf Bracket   \n",
       "46  166       100030  9.1 in. x 5.8 in. White Designer Shelf Bracket   \n",
       "\n",
       "       search_term  relevance  \\\n",
       "44  8 4616809045 9       1.67   \n",
       "45   shelf bracket       3.00   \n",
       "46  white 4shelves       1.67   \n",
       "\n",
       "                                  product_description  \n",
       "44  White Designer Shelf Brackets offer a stylish ...  \n",
       "45  White Designer Shelf Brackets offer a stylish ...  \n",
       "46  White Designer Shelf Brackets offer a stylish ...  "
      ]
     },
     "execution_count": 74,
     "metadata": {
      "tags": []
     },
     "output_type": "execute_result"
    }
   ],
   "source": [
    "orign[orign.product_uid==100030]"
   ]
  },
  {
   "cell_type": "code",
   "execution_count": 75,
   "metadata": {
    "colab": {
     "base_uri": "https://localhost:8080/",
     "height": 49
    },
    "colab_type": "code",
    "id": "Z5kKyVZZhgU1",
    "outputId": "6f7182ae-d237-490b-c432-439cd47c2f2d"
   },
   "outputs": [
    {
     "data": {
      "text/html": [
       "<div>\n",
       "<style scoped>\n",
       "    .dataframe tbody tr th:only-of-type {\n",
       "        vertical-align: middle;\n",
       "    }\n",
       "\n",
       "    .dataframe tbody tr th {\n",
       "        vertical-align: top;\n",
       "    }\n",
       "\n",
       "    .dataframe thead th {\n",
       "        text-align: right;\n",
       "    }\n",
       "</style>\n",
       "<table border=\"1\" class=\"dataframe\">\n",
       "  <thead>\n",
       "    <tr style=\"text-align: right;\">\n",
       "      <th></th>\n",
       "      <th>id</th>\n",
       "      <th>product_uid</th>\n",
       "      <th>product_title</th>\n",
       "      <th>search_term</th>\n",
       "      <th>relevance</th>\n",
       "      <th>product_description</th>\n",
       "      <th>len_of_query</th>\n",
       "      <th>shared_words</th>\n",
       "      <th>frequency_words_in_sq</th>\n",
       "    </tr>\n",
       "  </thead>\n",
       "  <tbody>\n",
       "  </tbody>\n",
       "</table>\n",
       "</div>"
      ],
      "text/plain": [
       "Empty DataFrame\n",
       "Columns: [id, product_uid, product_title, search_term, relevance, product_description, len_of_query, shared_words, frequency_words_in_sq]\n",
       "Index: []"
      ]
     },
     "execution_count": 75,
     "metadata": {
      "tags": []
     },
     "output_type": "execute_result"
    }
   ],
   "source": [
    "training_data[training_data.search_term.str.count('\\\\w+') < 1]"
   ]
  },
  {
   "cell_type": "code",
   "execution_count": 76,
   "metadata": {
    "colab": {
     "base_uri": "https://localhost:8080/",
     "height": 175
    },
    "colab_type": "code",
    "id": "SecjsKcjhgU4",
    "outputId": "bc13f12b-2ad7-45f4-c1a8-ae51719dbde7"
   },
   "outputs": [
    {
     "data": {
      "text/html": [
       "<div>\n",
       "<style scoped>\n",
       "    .dataframe tbody tr th:only-of-type {\n",
       "        vertical-align: middle;\n",
       "    }\n",
       "\n",
       "    .dataframe tbody tr th {\n",
       "        vertical-align: top;\n",
       "    }\n",
       "\n",
       "    .dataframe thead th {\n",
       "        text-align: right;\n",
       "    }\n",
       "</style>\n",
       "<table border=\"1\" class=\"dataframe\">\n",
       "  <thead>\n",
       "    <tr style=\"text-align: right;\">\n",
       "      <th></th>\n",
       "      <th>len_of_query</th>\n",
       "      <th>shared_words</th>\n",
       "      <th>frequency_words_in_sq</th>\n",
       "      <th>relevance</th>\n",
       "    </tr>\n",
       "  </thead>\n",
       "  <tbody>\n",
       "    <tr>\n",
       "      <th>len_of_query</th>\n",
       "      <td>1.000000</td>\n",
       "      <td>0.273162</td>\n",
       "      <td>0.061650</td>\n",
       "      <td>-0.072279</td>\n",
       "    </tr>\n",
       "    <tr>\n",
       "      <th>shared_words</th>\n",
       "      <td>0.273162</td>\n",
       "      <td>1.000000</td>\n",
       "      <td>0.535064</td>\n",
       "      <td>0.049598</td>\n",
       "    </tr>\n",
       "    <tr>\n",
       "      <th>frequency_words_in_sq</th>\n",
       "      <td>0.061650</td>\n",
       "      <td>0.535064</td>\n",
       "      <td>1.000000</td>\n",
       "      <td>0.042004</td>\n",
       "    </tr>\n",
       "    <tr>\n",
       "      <th>relevance</th>\n",
       "      <td>-0.072279</td>\n",
       "      <td>0.049598</td>\n",
       "      <td>0.042004</td>\n",
       "      <td>1.000000</td>\n",
       "    </tr>\n",
       "  </tbody>\n",
       "</table>\n",
       "</div>"
      ],
      "text/plain": [
       "                       len_of_query  shared_words  frequency_words_in_sq  \\\n",
       "len_of_query               1.000000      0.273162               0.061650   \n",
       "shared_words               0.273162      1.000000               0.535064   \n",
       "frequency_words_in_sq      0.061650      0.535064               1.000000   \n",
       "relevance                 -0.072279      0.049598               0.042004   \n",
       "\n",
       "                       relevance  \n",
       "len_of_query           -0.072279  \n",
       "shared_words            0.049598  \n",
       "frequency_words_in_sq   0.042004  \n",
       "relevance               1.000000  "
      ]
     },
     "execution_count": 76,
     "metadata": {
      "tags": []
     },
     "output_type": "execute_result"
    }
   ],
   "source": [
    "training_data[['product_title','len_of_query','shared_words','frequency_words_in_sq','relevance']].corr()"
   ]
  },
  {
   "cell_type": "code",
   "execution_count": 87,
   "metadata": {
    "colab": {
     "base_uri": "https://localhost:8080/",
     "height": 175
    },
    "colab_type": "code",
    "id": "IHUgJIxx3s4s",
    "outputId": "783abc29-26dd-4b93-c9b5-104144114390"
   },
   "outputs": [
    {
     "data": {
      "text/html": [
       "<div>\n",
       "<style scoped>\n",
       "    .dataframe tbody tr th:only-of-type {\n",
       "        vertical-align: middle;\n",
       "    }\n",
       "\n",
       "    .dataframe tbody tr th {\n",
       "        vertical-align: top;\n",
       "    }\n",
       "\n",
       "    .dataframe thead th {\n",
       "        text-align: right;\n",
       "    }\n",
       "</style>\n",
       "<table border=\"1\" class=\"dataframe\">\n",
       "  <thead>\n",
       "    <tr style=\"text-align: right;\">\n",
       "      <th></th>\n",
       "      <th>len_of_query</th>\n",
       "      <th>shared_words</th>\n",
       "      <th>frequency_words_in_sq</th>\n",
       "      <th>relevance</th>\n",
       "    </tr>\n",
       "  </thead>\n",
       "  <tbody>\n",
       "    <tr>\n",
       "      <th>len_of_query</th>\n",
       "      <td>1.000000</td>\n",
       "      <td>0.313902</td>\n",
       "      <td>0.070958</td>\n",
       "      <td>-0.017934</td>\n",
       "    </tr>\n",
       "    <tr>\n",
       "      <th>shared_words</th>\n",
       "      <td>0.313902</td>\n",
       "      <td>1.000000</td>\n",
       "      <td>0.366671</td>\n",
       "      <td>0.061537</td>\n",
       "    </tr>\n",
       "    <tr>\n",
       "      <th>frequency_words_in_sq</th>\n",
       "      <td>0.070958</td>\n",
       "      <td>0.366671</td>\n",
       "      <td>1.000000</td>\n",
       "      <td>0.040146</td>\n",
       "    </tr>\n",
       "    <tr>\n",
       "      <th>relevance</th>\n",
       "      <td>-0.017934</td>\n",
       "      <td>0.061537</td>\n",
       "      <td>0.040146</td>\n",
       "      <td>1.000000</td>\n",
       "    </tr>\n",
       "  </tbody>\n",
       "</table>\n",
       "</div>"
      ],
      "text/plain": [
       "                       len_of_query  shared_words  frequency_words_in_sq  \\\n",
       "len_of_query               1.000000      0.313902               0.070958   \n",
       "shared_words               0.313902      1.000000               0.366671   \n",
       "frequency_words_in_sq      0.070958      0.366671               1.000000   \n",
       "relevance                 -0.017934      0.061537               0.040146   \n",
       "\n",
       "                       relevance  \n",
       "len_of_query           -0.017934  \n",
       "shared_words            0.061537  \n",
       "frequency_words_in_sq   0.040146  \n",
       "relevance               1.000000  "
      ]
     },
     "execution_count": 87,
     "metadata": {
      "tags": []
     },
     "output_type": "execute_result"
    }
   ],
   "source": [
    "training_data[['product_title','len_of_query','shared_words','frequency_words_in_sq','relevance']].corr()"
   ]
  },
  {
   "cell_type": "code",
   "execution_count": 0,
   "metadata": {
    "colab": {},
    "colab_type": "code",
    "id": "jSKc4U6GqBME"
   },
   "outputs": [],
   "source": [
    "# training_data['test'] = training_data[['len_of_query', 'shared_words']].apply(lambda row:row[1]/row[0],axis=1)\n",
    "# training_data['test'] = training_data[['len_of_query', 'shared_words']].apply(lambda row:row[0]**3.14,axis=1)\n",
    "# training_data['test'] = training_data[['shared_words', 'len_of_query']].apply(lambda row:row[1]+row[0],axis=1)\n"
   ]
  },
  {
   "cell_type": "code",
   "execution_count": 89,
   "metadata": {
    "colab": {
     "base_uri": "https://localhost:8080/",
     "height": 206
    },
    "colab_type": "code",
    "id": "r7e4vBF-hgU8",
    "outputId": "da94c93e-b9a8-4941-a9d6-88ad8017ace3"
   },
   "outputs": [
    {
     "data": {
      "text/html": [
       "<div>\n",
       "<style scoped>\n",
       "    .dataframe tbody tr th:only-of-type {\n",
       "        vertical-align: middle;\n",
       "    }\n",
       "\n",
       "    .dataframe tbody tr th {\n",
       "        vertical-align: top;\n",
       "    }\n",
       "\n",
       "    .dataframe thead th {\n",
       "        text-align: right;\n",
       "    }\n",
       "</style>\n",
       "<table border=\"1\" class=\"dataframe\">\n",
       "  <thead>\n",
       "    <tr style=\"text-align: right;\">\n",
       "      <th></th>\n",
       "      <th>len_of_query</th>\n",
       "      <th>shared_words</th>\n",
       "      <th>frequency_words_in_sq</th>\n",
       "      <th>relevance</th>\n",
       "      <th>test</th>\n",
       "    </tr>\n",
       "  </thead>\n",
       "  <tbody>\n",
       "    <tr>\n",
       "      <th>len_of_query</th>\n",
       "      <td>1.000000</td>\n",
       "      <td>0.313902</td>\n",
       "      <td>0.070958</td>\n",
       "      <td>-0.017934</td>\n",
       "      <td>0.640304</td>\n",
       "    </tr>\n",
       "    <tr>\n",
       "      <th>shared_words</th>\n",
       "      <td>0.313902</td>\n",
       "      <td>1.000000</td>\n",
       "      <td>0.366671</td>\n",
       "      <td>0.061537</td>\n",
       "      <td>0.930290</td>\n",
       "    </tr>\n",
       "    <tr>\n",
       "      <th>frequency_words_in_sq</th>\n",
       "      <td>0.070958</td>\n",
       "      <td>0.366671</td>\n",
       "      <td>1.000000</td>\n",
       "      <td>0.040146</td>\n",
       "      <td>0.324056</td>\n",
       "    </tr>\n",
       "    <tr>\n",
       "      <th>relevance</th>\n",
       "      <td>-0.017934</td>\n",
       "      <td>0.061537</td>\n",
       "      <td>0.040146</td>\n",
       "      <td>1.000000</td>\n",
       "      <td>0.042856</td>\n",
       "    </tr>\n",
       "    <tr>\n",
       "      <th>test</th>\n",
       "      <td>0.640304</td>\n",
       "      <td>0.930290</td>\n",
       "      <td>0.324056</td>\n",
       "      <td>0.042856</td>\n",
       "      <td>1.000000</td>\n",
       "    </tr>\n",
       "  </tbody>\n",
       "</table>\n",
       "</div>"
      ],
      "text/plain": [
       "                       len_of_query  shared_words  frequency_words_in_sq  \\\n",
       "len_of_query               1.000000      0.313902               0.070958   \n",
       "shared_words               0.313902      1.000000               0.366671   \n",
       "frequency_words_in_sq      0.070958      0.366671               1.000000   \n",
       "relevance                 -0.017934      0.061537               0.040146   \n",
       "test                       0.640304      0.930290               0.324056   \n",
       "\n",
       "                       relevance      test  \n",
       "len_of_query           -0.017934  0.640304  \n",
       "shared_words            0.061537  0.930290  \n",
       "frequency_words_in_sq   0.040146  0.324056  \n",
       "relevance               1.000000  0.042856  \n",
       "test                    0.042856  1.000000  "
      ]
     },
     "execution_count": 89,
     "metadata": {
      "tags": []
     },
     "output_type": "execute_result"
    }
   ],
   "source": [
    "# training_data[['product_title','len_of_query','shared_words','frequency_words_in_sq','relevance', 'test']].corr()"
   ]
  },
  {
   "cell_type": "code",
   "execution_count": 91,
   "metadata": {
    "colab": {
     "base_uri": "https://localhost:8080/",
     "height": 196
    },
    "colab_type": "code",
    "id": "YgtTGgzbhgU9",
    "outputId": "30b03ad8-aef1-4ebb-f089-a32907033ee6"
   },
   "outputs": [
    {
     "data": {
      "text/html": [
       "<div>\n",
       "<style scoped>\n",
       "    .dataframe tbody tr th:only-of-type {\n",
       "        vertical-align: middle;\n",
       "    }\n",
       "\n",
       "    .dataframe tbody tr th {\n",
       "        vertical-align: top;\n",
       "    }\n",
       "\n",
       "    .dataframe thead th {\n",
       "        text-align: right;\n",
       "    }\n",
       "</style>\n",
       "<table border=\"1\" class=\"dataframe\">\n",
       "  <thead>\n",
       "    <tr style=\"text-align: right;\">\n",
       "      <th></th>\n",
       "      <th>id</th>\n",
       "      <th>product_uid</th>\n",
       "      <th>product_title</th>\n",
       "      <th>search_term</th>\n",
       "      <th>relevance</th>\n",
       "      <th>product_description</th>\n",
       "      <th>len_of_query</th>\n",
       "      <th>shared_words</th>\n",
       "      <th>frequency_words_in_sq</th>\n",
       "      <th>test</th>\n",
       "    </tr>\n",
       "  </thead>\n",
       "  <tbody>\n",
       "    <tr>\n",
       "      <th>0</th>\n",
       "      <td>2</td>\n",
       "      <td>100001</td>\n",
       "      <td>simpson strong-ti 12-gaug angl</td>\n",
       "      <td>angle bracket</td>\n",
       "      <td>3.0</td>\n",
       "      <td>Not angles make joints stronger also provide c...</td>\n",
       "      <td>2</td>\n",
       "      <td>1</td>\n",
       "      <td>74</td>\n",
       "      <td>3</td>\n",
       "    </tr>\n",
       "    <tr>\n",
       "      <th>1</th>\n",
       "      <td>3</td>\n",
       "      <td>100001</td>\n",
       "      <td>simpson strong-ti 12-gaug angl</td>\n",
       "      <td>bracket</td>\n",
       "      <td>2.5</td>\n",
       "      <td>Not angles make joints stronger also provide c...</td>\n",
       "      <td>1</td>\n",
       "      <td>0</td>\n",
       "      <td>74</td>\n",
       "      <td>1</td>\n",
       "    </tr>\n",
       "    <tr>\n",
       "      <th>2</th>\n",
       "      <td>9</td>\n",
       "      <td>100002</td>\n",
       "      <td>behr premium textur deckov 1-gal. #sc-141 tugb...</td>\n",
       "      <td>deck</td>\n",
       "      <td>3.0</td>\n",
       "      <td>BEHR Premium Textured DECKOVER innovative soli...</td>\n",
       "      <td>1</td>\n",
       "      <td>4</td>\n",
       "      <td>116</td>\n",
       "      <td>5</td>\n",
       "    </tr>\n",
       "  </tbody>\n",
       "</table>\n",
       "</div>"
      ],
      "text/plain": [
       "   id  product_uid                                      product_title  \\\n",
       "0   2       100001                     simpson strong-ti 12-gaug angl   \n",
       "1   3       100001                     simpson strong-ti 12-gaug angl   \n",
       "2   9       100002  behr premium textur deckov 1-gal. #sc-141 tugb...   \n",
       "\n",
       "     search_term  relevance  \\\n",
       "0  angle bracket        3.0   \n",
       "1        bracket        2.5   \n",
       "2           deck        3.0   \n",
       "\n",
       "                                 product_description  len_of_query  \\\n",
       "0  Not angles make joints stronger also provide c...             2   \n",
       "1  Not angles make joints stronger also provide c...             1   \n",
       "2  BEHR Premium Textured DECKOVER innovative soli...             1   \n",
       "\n",
       "   shared_words  frequency_words_in_sq  test  \n",
       "0             1                     74     3  \n",
       "1             0                     74     1  \n",
       "2             4                    116     5  "
      ]
     },
     "execution_count": 91,
     "metadata": {
      "tags": []
     },
     "output_type": "execute_result"
    }
   ],
   "source": [
    "# %matplotlib inline\n",
    "# r = training_data[training_data.search_term.str.contains('^\\d+\\s+?\\w\\s+?\\d+$')]\n",
    "# (r.relevance ).hist(bins=30)\n",
    "# r.describe()\n",
    "training_data.head(3)"
   ]
  },
  {
   "cell_type": "code",
   "execution_count": 134,
   "metadata": {
    "colab": {
     "base_uri": "https://localhost:8080/",
     "height": 529
    },
    "colab_type": "code",
    "id": "mOetNpVMhgVC",
    "outputId": "41db7474-b780-45f4-e690-58707741c47b"
   },
   "outputs": [
    {
     "ename": "ValueError",
     "evalue": "ignored",
     "output_type": "error",
     "traceback": [
      "\u001b[0;31m---------------------------------------------------------------------------\u001b[0m",
      "\u001b[0;31mValueError\u001b[0m                                Traceback (most recent call last)",
      "\u001b[0;32m<ipython-input-134-00e12db2041c>\u001b[0m in \u001b[0;36m<module>\u001b[0;34m()\u001b[0m\n\u001b[0;32m----> 1\u001b[0;31m \u001b[0mdf_all\u001b[0m \u001b[0;34m=\u001b[0m \u001b[0mtraining_data\u001b[0m\u001b[0;34m.\u001b[0m\u001b[0mdrop\u001b[0m\u001b[0;34m(\u001b[0m\u001b[0;34m[\u001b[0m\u001b[0;34m'search_term'\u001b[0m\u001b[0;34m,\u001b[0m\u001b[0;34m'product_description'\u001b[0m\u001b[0;34m,\u001b[0m\u001b[0;34m'product_title'\u001b[0m\u001b[0;34m,\u001b[0m\u001b[0;34m'test'\u001b[0m\u001b[0;34m]\u001b[0m\u001b[0;34m,\u001b[0m\u001b[0maxis\u001b[0m\u001b[0;34m=\u001b[0m\u001b[0;36m1\u001b[0m\u001b[0;34m)\u001b[0m\u001b[0;34m\u001b[0m\u001b[0;34m\u001b[0m\u001b[0m\n\u001b[0m",
      "\u001b[0;32m/usr/local/lib/python3.6/dist-packages/pandas/core/generic.py\u001b[0m in \u001b[0;36mdrop\u001b[0;34m(self, labels, axis, index, columns, level, inplace, errors)\u001b[0m\n\u001b[1;32m   2528\u001b[0m         \u001b[0;32mfor\u001b[0m \u001b[0maxis\u001b[0m\u001b[0;34m,\u001b[0m \u001b[0mlabels\u001b[0m \u001b[0;32min\u001b[0m \u001b[0maxes\u001b[0m\u001b[0;34m.\u001b[0m\u001b[0mitems\u001b[0m\u001b[0;34m(\u001b[0m\u001b[0;34m)\u001b[0m\u001b[0;34m:\u001b[0m\u001b[0;34m\u001b[0m\u001b[0;34m\u001b[0m\u001b[0m\n\u001b[1;32m   2529\u001b[0m             \u001b[0;32mif\u001b[0m \u001b[0mlabels\u001b[0m \u001b[0;32mis\u001b[0m \u001b[0;32mnot\u001b[0m \u001b[0;32mNone\u001b[0m\u001b[0;34m:\u001b[0m\u001b[0;34m\u001b[0m\u001b[0;34m\u001b[0m\u001b[0m\n\u001b[0;32m-> 2530\u001b[0;31m                 \u001b[0mobj\u001b[0m \u001b[0;34m=\u001b[0m \u001b[0mobj\u001b[0m\u001b[0;34m.\u001b[0m\u001b[0m_drop_axis\u001b[0m\u001b[0;34m(\u001b[0m\u001b[0mlabels\u001b[0m\u001b[0;34m,\u001b[0m \u001b[0maxis\u001b[0m\u001b[0;34m,\u001b[0m \u001b[0mlevel\u001b[0m\u001b[0;34m=\u001b[0m\u001b[0mlevel\u001b[0m\u001b[0;34m,\u001b[0m \u001b[0merrors\u001b[0m\u001b[0;34m=\u001b[0m\u001b[0merrors\u001b[0m\u001b[0;34m)\u001b[0m\u001b[0;34m\u001b[0m\u001b[0;34m\u001b[0m\u001b[0m\n\u001b[0m\u001b[1;32m   2531\u001b[0m \u001b[0;34m\u001b[0m\u001b[0m\n\u001b[1;32m   2532\u001b[0m         \u001b[0;32mif\u001b[0m \u001b[0minplace\u001b[0m\u001b[0;34m:\u001b[0m\u001b[0;34m\u001b[0m\u001b[0;34m\u001b[0m\u001b[0m\n",
      "\u001b[0;32m/usr/local/lib/python3.6/dist-packages/pandas/core/generic.py\u001b[0m in \u001b[0;36m_drop_axis\u001b[0;34m(self, labels, axis, level, errors)\u001b[0m\n\u001b[1;32m   2560\u001b[0m                 \u001b[0mnew_axis\u001b[0m \u001b[0;34m=\u001b[0m \u001b[0maxis\u001b[0m\u001b[0;34m.\u001b[0m\u001b[0mdrop\u001b[0m\u001b[0;34m(\u001b[0m\u001b[0mlabels\u001b[0m\u001b[0;34m,\u001b[0m \u001b[0mlevel\u001b[0m\u001b[0;34m=\u001b[0m\u001b[0mlevel\u001b[0m\u001b[0;34m,\u001b[0m \u001b[0merrors\u001b[0m\u001b[0;34m=\u001b[0m\u001b[0merrors\u001b[0m\u001b[0;34m)\u001b[0m\u001b[0;34m\u001b[0m\u001b[0;34m\u001b[0m\u001b[0m\n\u001b[1;32m   2561\u001b[0m             \u001b[0;32melse\u001b[0m\u001b[0;34m:\u001b[0m\u001b[0;34m\u001b[0m\u001b[0;34m\u001b[0m\u001b[0m\n\u001b[0;32m-> 2562\u001b[0;31m                 \u001b[0mnew_axis\u001b[0m \u001b[0;34m=\u001b[0m \u001b[0maxis\u001b[0m\u001b[0;34m.\u001b[0m\u001b[0mdrop\u001b[0m\u001b[0;34m(\u001b[0m\u001b[0mlabels\u001b[0m\u001b[0;34m,\u001b[0m \u001b[0merrors\u001b[0m\u001b[0;34m=\u001b[0m\u001b[0merrors\u001b[0m\u001b[0;34m)\u001b[0m\u001b[0;34m\u001b[0m\u001b[0;34m\u001b[0m\u001b[0m\n\u001b[0m\u001b[1;32m   2563\u001b[0m             \u001b[0mdropped\u001b[0m \u001b[0;34m=\u001b[0m \u001b[0mself\u001b[0m\u001b[0;34m.\u001b[0m\u001b[0mreindex\u001b[0m\u001b[0;34m(\u001b[0m\u001b[0;34m**\u001b[0m\u001b[0;34m{\u001b[0m\u001b[0maxis_name\u001b[0m\u001b[0;34m:\u001b[0m \u001b[0mnew_axis\u001b[0m\u001b[0;34m}\u001b[0m\u001b[0;34m)\u001b[0m\u001b[0;34m\u001b[0m\u001b[0;34m\u001b[0m\u001b[0m\n\u001b[1;32m   2564\u001b[0m             \u001b[0;32mtry\u001b[0m\u001b[0;34m:\u001b[0m\u001b[0;34m\u001b[0m\u001b[0;34m\u001b[0m\u001b[0m\n",
      "\u001b[0;32m/usr/local/lib/python3.6/dist-packages/pandas/core/indexes/base.py\u001b[0m in \u001b[0;36mdrop\u001b[0;34m(self, labels, errors)\u001b[0m\n\u001b[1;32m   3742\u001b[0m             \u001b[0;32mif\u001b[0m \u001b[0merrors\u001b[0m \u001b[0;34m!=\u001b[0m \u001b[0;34m'ignore'\u001b[0m\u001b[0;34m:\u001b[0m\u001b[0;34m\u001b[0m\u001b[0;34m\u001b[0m\u001b[0m\n\u001b[1;32m   3743\u001b[0m                 raise ValueError('labels %s not contained in axis' %\n\u001b[0;32m-> 3744\u001b[0;31m                                  labels[mask])\n\u001b[0m\u001b[1;32m   3745\u001b[0m             \u001b[0mindexer\u001b[0m \u001b[0;34m=\u001b[0m \u001b[0mindexer\u001b[0m\u001b[0;34m[\u001b[0m\u001b[0;34m~\u001b[0m\u001b[0mmask\u001b[0m\u001b[0;34m]\u001b[0m\u001b[0;34m\u001b[0m\u001b[0;34m\u001b[0m\u001b[0m\n\u001b[1;32m   3746\u001b[0m         \u001b[0;32mreturn\u001b[0m \u001b[0mself\u001b[0m\u001b[0;34m.\u001b[0m\u001b[0mdelete\u001b[0m\u001b[0;34m(\u001b[0m\u001b[0mindexer\u001b[0m\u001b[0;34m)\u001b[0m\u001b[0;34m\u001b[0m\u001b[0;34m\u001b[0m\u001b[0m\n",
      "\u001b[0;31mValueError\u001b[0m: labels ['test'] not contained in axis"
     ]
    }
   ],
   "source": [
    "df_all = training_data.drop(['search_term','product_description','product_title','test'],axis=1)"
   ]
  },
  {
   "cell_type": "code",
   "execution_count": 0,
   "metadata": {
    "colab": {},
    "colab_type": "code",
    "id": "Hiy3qwEbhgVI"
   },
   "outputs": [],
   "source": []
  },
  {
   "cell_type": "code",
   "execution_count": 119,
   "metadata": {
    "colab": {
     "base_uri": "https://localhost:8080/",
     "height": 143
    },
    "colab_type": "code",
    "id": "-072JeJB8yoC",
    "outputId": "1f7434e2-cc4b-40c5-a9d1-714dd830a7da"
   },
   "outputs": [
    {
     "data": {
      "text/html": [
       "<div>\n",
       "<style scoped>\n",
       "    .dataframe tbody tr th:only-of-type {\n",
       "        vertical-align: middle;\n",
       "    }\n",
       "\n",
       "    .dataframe tbody tr th {\n",
       "        vertical-align: top;\n",
       "    }\n",
       "\n",
       "    .dataframe thead th {\n",
       "        text-align: right;\n",
       "    }\n",
       "</style>\n",
       "<table border=\"1\" class=\"dataframe\">\n",
       "  <thead>\n",
       "    <tr style=\"text-align: right;\">\n",
       "      <th></th>\n",
       "      <th>id</th>\n",
       "      <th>product_uid</th>\n",
       "      <th>relevance</th>\n",
       "      <th>len_of_query</th>\n",
       "      <th>shared_words</th>\n",
       "      <th>frequency_words_in_sq</th>\n",
       "    </tr>\n",
       "  </thead>\n",
       "  <tbody>\n",
       "    <tr>\n",
       "      <th>0</th>\n",
       "      <td>2</td>\n",
       "      <td>100001</td>\n",
       "      <td>3.0</td>\n",
       "      <td>2</td>\n",
       "      <td>1</td>\n",
       "      <td>74</td>\n",
       "    </tr>\n",
       "    <tr>\n",
       "      <th>1</th>\n",
       "      <td>3</td>\n",
       "      <td>100001</td>\n",
       "      <td>2.5</td>\n",
       "      <td>1</td>\n",
       "      <td>0</td>\n",
       "      <td>74</td>\n",
       "    </tr>\n",
       "    <tr>\n",
       "      <th>2</th>\n",
       "      <td>9</td>\n",
       "      <td>100002</td>\n",
       "      <td>3.0</td>\n",
       "      <td>1</td>\n",
       "      <td>4</td>\n",
       "      <td>116</td>\n",
       "    </tr>\n",
       "  </tbody>\n",
       "</table>\n",
       "</div>"
      ],
      "text/plain": [
       "   id  product_uid  relevance  len_of_query  shared_words  \\\n",
       "0   2       100001        3.0             2             1   \n",
       "1   3       100001        2.5             1             0   \n",
       "2   9       100002        3.0             1             4   \n",
       "\n",
       "   frequency_words_in_sq  \n",
       "0                     74  \n",
       "1                     74  \n",
       "2                    116  "
      ]
     },
     "execution_count": 119,
     "metadata": {
      "tags": []
     },
     "output_type": "execute_result"
    }
   ],
   "source": [
    "df_all.head(3)"
   ]
  },
  {
   "cell_type": "code",
   "execution_count": 0,
   "metadata": {
    "colab": {},
    "colab_type": "code",
    "id": "fjECFoW68nDX"
   },
   "outputs": [],
   "source": [
    "df_train = df_all.iloc[:num_train]\n",
    "df_test = df_all.iloc[num_train:]\n",
    "id_test = df_test['id']\n",
    "\n",
    "y_train = df_train['relevance'].values\n",
    "X_train = df_train.drop(['id','relevance'],axis=1).values\n",
    "X_test = df_test.drop(['id','relevance'],axis=1).values\n"
   ]
  },
  {
   "cell_type": "code",
   "execution_count": 121,
   "metadata": {
    "colab": {
     "base_uri": "https://localhost:8080/",
     "height": 143
    },
    "colab_type": "code",
    "id": "oNO-b-Rq9QYx",
    "outputId": "616d8eab-b199-4a9c-f5e1-1225e22366d4"
   },
   "outputs": [
    {
     "data": {
      "text/html": [
       "<div>\n",
       "<style scoped>\n",
       "    .dataframe tbody tr th:only-of-type {\n",
       "        vertical-align: middle;\n",
       "    }\n",
       "\n",
       "    .dataframe tbody tr th {\n",
       "        vertical-align: top;\n",
       "    }\n",
       "\n",
       "    .dataframe thead th {\n",
       "        text-align: right;\n",
       "    }\n",
       "</style>\n",
       "<table border=\"1\" class=\"dataframe\">\n",
       "  <thead>\n",
       "    <tr style=\"text-align: right;\">\n",
       "      <th></th>\n",
       "      <th>id</th>\n",
       "      <th>product_uid</th>\n",
       "      <th>relevance</th>\n",
       "      <th>len_of_query</th>\n",
       "      <th>shared_words</th>\n",
       "      <th>frequency_words_in_sq</th>\n",
       "    </tr>\n",
       "  </thead>\n",
       "  <tbody>\n",
       "    <tr>\n",
       "      <th>0</th>\n",
       "      <td>2</td>\n",
       "      <td>100001</td>\n",
       "      <td>3.0</td>\n",
       "      <td>2</td>\n",
       "      <td>1</td>\n",
       "      <td>74</td>\n",
       "    </tr>\n",
       "    <tr>\n",
       "      <th>1</th>\n",
       "      <td>3</td>\n",
       "      <td>100001</td>\n",
       "      <td>2.5</td>\n",
       "      <td>1</td>\n",
       "      <td>0</td>\n",
       "      <td>74</td>\n",
       "    </tr>\n",
       "    <tr>\n",
       "      <th>2</th>\n",
       "      <td>9</td>\n",
       "      <td>100002</td>\n",
       "      <td>3.0</td>\n",
       "      <td>1</td>\n",
       "      <td>4</td>\n",
       "      <td>116</td>\n",
       "    </tr>\n",
       "  </tbody>\n",
       "</table>\n",
       "</div>"
      ],
      "text/plain": [
       "   id  product_uid  relevance  len_of_query  shared_words  \\\n",
       "0   2       100001        3.0             2             1   \n",
       "1   3       100001        2.5             1             0   \n",
       "2   9       100002        3.0             1             4   \n",
       "\n",
       "   frequency_words_in_sq  \n",
       "0                     74  \n",
       "1                     74  \n",
       "2                    116  "
      ]
     },
     "execution_count": 121,
     "metadata": {
      "tags": []
     },
     "output_type": "execute_result"
    }
   ],
   "source": [
    "df_train.head(3)"
   ]
  },
  {
   "cell_type": "code",
   "execution_count": 0,
   "metadata": {
    "colab": {},
    "colab_type": "code",
    "id": "t5AWitbK87zK"
   },
   "outputs": [],
   "source": [
    "rf = RandomForestRegressor(n_estimators=15, max_depth=6, random_state=0)\n",
    "clf = BaggingRegressor(rf, n_estimators=4, max_samples=0.1, random_state=25)\n",
    "clf.fit(X_train, y_train)\n",
    "# y_pred = clf.predict(X_test)\n",
    "\n",
    "# pd.DataFrame({\"id\": id_test, \"relevance\": y_pred}).to_csv('submission.csv',index=False)\n"
   ]
  },
  {
   "cell_type": "code",
   "execution_count": 0,
   "metadata": {
    "colab": {},
    "colab_type": "code",
    "id": "2L4kUtZ49C_l"
   },
   "outputs": [],
   "source": [
    "y_pred = clf.predict(X_test)\n",
    "# X_test.shape"
   ]
  },
  {
   "cell_type": "code",
   "execution_count": 0,
   "metadata": {
    "colab": {},
    "colab_type": "code",
    "id": "zlDCVRvr-Eg0"
   },
   "outputs": [],
   "source": [
    "from google.colab import drive\n",
    "from google.colab import files\n",
    "# drive.mount('/content/gdrive')\n",
    "\n",
    "pd.DataFrame({\"id\": id_test, \"relevance\": y_pred}).to_csv('/content/gdrive/My Drive/content/submit.csv', index=False)\n",
    "pd.DataFrame({\"id\": id_test, \"relevance\": y_pred}).to_csv('submit.csv', index=False)"
   ]
  },
  {
   "cell_type": "code",
   "execution_count": 146,
   "metadata": {
    "colab": {
     "base_uri": "https://localhost:8080/",
     "height": 52
    },
    "colab_type": "code",
    "id": "tTIoBigx-SMS",
    "outputId": "0d20876f-0295-4845-f94a-80a348dff68f"
   },
   "outputs": [
    {
     "name": "stdout",
     "output_type": "stream",
     "text": [
      "100% 3.99M/3.99M [00:02<00:00, 2.07MB/s]\n",
      "Successfully submitted to Home Depot Product Search Relevance"
     ]
    }
   ],
   "source": [
    "!kaggle competitions submit -c home-depot-product-search-relevance -f /content/submit.csv -m \"Message\""
   ]
  },
  {
   "cell_type": "code",
   "execution_count": 0,
   "metadata": {
    "colab": {},
    "colab_type": "code",
    "id": "S71os2OJEVqV"
   },
   "outputs": [],
   "source": []
  },
  {
   "cell_type": "code",
   "execution_count": 0,
   "metadata": {
    "colab": {},
    "colab_type": "code",
    "id": "dp8Jf0seEV3v"
   },
   "outputs": [],
   "source": []
  },
  {
   "cell_type": "code",
   "execution_count": 127,
   "metadata": {
    "colab": {
     "base_uri": "https://localhost:8080/",
     "height": 34
    },
    "colab_type": "code",
    "id": "OFwhITFVEgpD",
    "outputId": "8a880add-c7aa-4bc1-95a4-2f57533f86f7"
   },
   "outputs": [
    {
     "data": {
      "text/plain": [
       "(74067, 4)"
      ]
     },
     "execution_count": 127,
     "metadata": {
      "tags": []
     },
     "output_type": "execute_result"
    }
   ],
   "source": [
    "X_train.shape"
   ]
  },
  {
   "cell_type": "code",
   "execution_count": 131,
   "metadata": {
    "colab": {
     "base_uri": "https://localhost:8080/",
     "height": 34
    },
    "colab_type": "code",
    "id": "w7pYcCoIEjnW",
    "outputId": "daba421a-a6a1-4bf0-a172-137f3ce8d92f"
   },
   "outputs": [
    {
     "data": {
      "text/plain": [
       "(74067,)"
      ]
     },
     "execution_count": 131,
     "metadata": {
      "tags": []
     },
     "output_type": "execute_result"
    }
   ],
   "source": [
    "y_train.shape"
   ]
  },
  {
   "cell_type": "code",
   "execution_count": 0,
   "metadata": {
    "colab": {},
    "colab_type": "code",
    "id": "57z3Z3dzGuUV"
   },
   "outputs": [],
   "source": []
  }
 ],
 "metadata": {
  "colab": {
   "collapsed_sections": [],
   "name": "EDA and ML.ipynb",
   "provenance": [],
   "version": "0.3.2"
  },
  "kernelspec": {
   "display_name": "Python 3",
   "language": "python",
   "name": "python3"
  },
  "language_info": {
   "codemirror_mode": {
    "name": "ipython",
    "version": 3
   },
   "file_extension": ".py",
   "mimetype": "text/x-python",
   "name": "python",
   "nbconvert_exporter": "python",
   "pygments_lexer": "ipython3",
   "version": "3.6.6"
  }
 },
 "nbformat": 4,
 "nbformat_minor": 1
}
